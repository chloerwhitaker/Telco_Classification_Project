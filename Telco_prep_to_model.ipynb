{
 "cells": [
  {
   "cell_type": "markdown",
   "id": "81fb14cd",
   "metadata": {},
   "source": [
    "# Telco Data"
   ]
  },
  {
   "cell_type": "markdown",
   "id": "c49918cf",
   "metadata": {},
   "source": [
    "Working notebook for telco project"
   ]
  },
  {
   "cell_type": "code",
   "execution_count": 1,
   "id": "be75af3a",
   "metadata": {},
   "outputs": [],
   "source": [
    "import acquire_telco\n",
    "import prepare_telco\n",
    "\n",
    "import warnings\n",
    "warnings.filterwarnings(\"ignore\")\n",
    "\n",
    "import numpy as np\n",
    "import pandas as pd \n",
    "import math\n",
    "\n",
    "from pydataset import data\n",
    "\n",
    "from sklearn.model_selection import train_test_split\n",
    "from sklearn.tree import DecisionTreeClassifier\n",
    "from sklearn.tree import export_graphviz\n",
    "from sklearn.metrics import classification_report\n",
    "from sklearn.metrics import confusion_matrix\n",
    "from sklearn.ensemble import RandomForestClassifier\n",
    "from sklearn.neighbors import KNeighborsClassifier\n",
    "from sklearn.impute import SimpleImputer\n",
    "from sklearn.linear_model import LogisticRegression\n",
    "\n",
    "import matplotlib.pyplot as plt\n",
    "import seaborn as sns"
   ]
  },
  {
   "cell_type": "markdown",
   "id": "b8a95731",
   "metadata": {},
   "source": [
    "## Acquire"
   ]
  },
  {
   "cell_type": "markdown",
   "id": "7168ed09",
   "metadata": {},
   "source": [
    "We will aquire the telco data from the Codeup SQL database using a function stored in acquire_telco.py."
   ]
  },
  {
   "cell_type": "code",
   "execution_count": 2,
   "id": "323ceb80",
   "metadata": {},
   "outputs": [],
   "source": [
    "# import acquire_telco.py\n",
    "import acquire_telco"
   ]
  },
  {
   "cell_type": "code",
   "execution_count": 3,
   "id": "61b9d2da",
   "metadata": {},
   "outputs": [
    {
     "data": {
      "text/html": [
       "<div>\n",
       "<style scoped>\n",
       "    .dataframe tbody tr th:only-of-type {\n",
       "        vertical-align: middle;\n",
       "    }\n",
       "\n",
       "    .dataframe tbody tr th {\n",
       "        vertical-align: top;\n",
       "    }\n",
       "\n",
       "    .dataframe thead th {\n",
       "        text-align: right;\n",
       "    }\n",
       "</style>\n",
       "<table border=\"1\" class=\"dataframe\">\n",
       "  <thead>\n",
       "    <tr style=\"text-align: right;\">\n",
       "      <th></th>\n",
       "      <th>payment_type_id</th>\n",
       "      <th>internet_service_type_id</th>\n",
       "      <th>contract_type_id</th>\n",
       "      <th>customer_id</th>\n",
       "      <th>gender</th>\n",
       "      <th>senior_citizen</th>\n",
       "      <th>partner</th>\n",
       "      <th>dependents</th>\n",
       "      <th>tenure</th>\n",
       "      <th>phone_service</th>\n",
       "      <th>...</th>\n",
       "      <th>tech_support</th>\n",
       "      <th>streaming_tv</th>\n",
       "      <th>streaming_movies</th>\n",
       "      <th>paperless_billing</th>\n",
       "      <th>monthly_charges</th>\n",
       "      <th>total_charges</th>\n",
       "      <th>churn</th>\n",
       "      <th>contract_type</th>\n",
       "      <th>internet_service_type</th>\n",
       "      <th>payment_type</th>\n",
       "    </tr>\n",
       "  </thead>\n",
       "  <tbody>\n",
       "    <tr>\n",
       "      <th>0</th>\n",
       "      <td>2</td>\n",
       "      <td>1</td>\n",
       "      <td>3</td>\n",
       "      <td>0016-QLJIS</td>\n",
       "      <td>Female</td>\n",
       "      <td>0</td>\n",
       "      <td>Yes</td>\n",
       "      <td>Yes</td>\n",
       "      <td>65</td>\n",
       "      <td>Yes</td>\n",
       "      <td>...</td>\n",
       "      <td>Yes</td>\n",
       "      <td>Yes</td>\n",
       "      <td>Yes</td>\n",
       "      <td>Yes</td>\n",
       "      <td>90.45</td>\n",
       "      <td>5957.9</td>\n",
       "      <td>No</td>\n",
       "      <td>Two year</td>\n",
       "      <td>DSL</td>\n",
       "      <td>Mailed check</td>\n",
       "    </tr>\n",
       "    <tr>\n",
       "      <th>1</th>\n",
       "      <td>4</td>\n",
       "      <td>1</td>\n",
       "      <td>3</td>\n",
       "      <td>0017-DINOC</td>\n",
       "      <td>Male</td>\n",
       "      <td>0</td>\n",
       "      <td>No</td>\n",
       "      <td>No</td>\n",
       "      <td>54</td>\n",
       "      <td>No</td>\n",
       "      <td>...</td>\n",
       "      <td>Yes</td>\n",
       "      <td>Yes</td>\n",
       "      <td>No</td>\n",
       "      <td>No</td>\n",
       "      <td>45.20</td>\n",
       "      <td>2460.55</td>\n",
       "      <td>No</td>\n",
       "      <td>Two year</td>\n",
       "      <td>DSL</td>\n",
       "      <td>Credit card (automatic)</td>\n",
       "    </tr>\n",
       "    <tr>\n",
       "      <th>2</th>\n",
       "      <td>3</td>\n",
       "      <td>1</td>\n",
       "      <td>3</td>\n",
       "      <td>0019-GFNTW</td>\n",
       "      <td>Female</td>\n",
       "      <td>0</td>\n",
       "      <td>No</td>\n",
       "      <td>No</td>\n",
       "      <td>56</td>\n",
       "      <td>No</td>\n",
       "      <td>...</td>\n",
       "      <td>Yes</td>\n",
       "      <td>No</td>\n",
       "      <td>No</td>\n",
       "      <td>No</td>\n",
       "      <td>45.05</td>\n",
       "      <td>2560.1</td>\n",
       "      <td>No</td>\n",
       "      <td>Two year</td>\n",
       "      <td>DSL</td>\n",
       "      <td>Bank transfer (automatic)</td>\n",
       "    </tr>\n",
       "    <tr>\n",
       "      <th>3</th>\n",
       "      <td>4</td>\n",
       "      <td>1</td>\n",
       "      <td>3</td>\n",
       "      <td>0056-EPFBG</td>\n",
       "      <td>Male</td>\n",
       "      <td>0</td>\n",
       "      <td>Yes</td>\n",
       "      <td>Yes</td>\n",
       "      <td>20</td>\n",
       "      <td>No</td>\n",
       "      <td>...</td>\n",
       "      <td>Yes</td>\n",
       "      <td>No</td>\n",
       "      <td>No</td>\n",
       "      <td>Yes</td>\n",
       "      <td>39.40</td>\n",
       "      <td>825.4</td>\n",
       "      <td>No</td>\n",
       "      <td>Two year</td>\n",
       "      <td>DSL</td>\n",
       "      <td>Credit card (automatic)</td>\n",
       "    </tr>\n",
       "    <tr>\n",
       "      <th>4</th>\n",
       "      <td>3</td>\n",
       "      <td>1</td>\n",
       "      <td>3</td>\n",
       "      <td>0078-XZMHT</td>\n",
       "      <td>Male</td>\n",
       "      <td>0</td>\n",
       "      <td>Yes</td>\n",
       "      <td>No</td>\n",
       "      <td>72</td>\n",
       "      <td>Yes</td>\n",
       "      <td>...</td>\n",
       "      <td>Yes</td>\n",
       "      <td>Yes</td>\n",
       "      <td>Yes</td>\n",
       "      <td>Yes</td>\n",
       "      <td>85.15</td>\n",
       "      <td>6316.2</td>\n",
       "      <td>No</td>\n",
       "      <td>Two year</td>\n",
       "      <td>DSL</td>\n",
       "      <td>Bank transfer (automatic)</td>\n",
       "    </tr>\n",
       "  </tbody>\n",
       "</table>\n",
       "<p>5 rows × 24 columns</p>\n",
       "</div>"
      ],
      "text/plain": [
       "   payment_type_id  internet_service_type_id  contract_type_id customer_id  \\\n",
       "0                2                         1                 3  0016-QLJIS   \n",
       "1                4                         1                 3  0017-DINOC   \n",
       "2                3                         1                 3  0019-GFNTW   \n",
       "3                4                         1                 3  0056-EPFBG   \n",
       "4                3                         1                 3  0078-XZMHT   \n",
       "\n",
       "   gender  senior_citizen partner dependents  tenure phone_service  ...  \\\n",
       "0  Female               0     Yes        Yes      65           Yes  ...   \n",
       "1    Male               0      No         No      54            No  ...   \n",
       "2  Female               0      No         No      56            No  ...   \n",
       "3    Male               0     Yes        Yes      20            No  ...   \n",
       "4    Male               0     Yes         No      72           Yes  ...   \n",
       "\n",
       "  tech_support streaming_tv streaming_movies paperless_billing  \\\n",
       "0          Yes          Yes              Yes               Yes   \n",
       "1          Yes          Yes               No                No   \n",
       "2          Yes           No               No                No   \n",
       "3          Yes           No               No               Yes   \n",
       "4          Yes          Yes              Yes               Yes   \n",
       "\n",
       "  monthly_charges total_charges churn contract_type  internet_service_type  \\\n",
       "0           90.45        5957.9    No      Two year                    DSL   \n",
       "1           45.20       2460.55    No      Two year                    DSL   \n",
       "2           45.05        2560.1    No      Two year                    DSL   \n",
       "3           39.40         825.4    No      Two year                    DSL   \n",
       "4           85.15        6316.2    No      Two year                    DSL   \n",
       "\n",
       "                payment_type  \n",
       "0               Mailed check  \n",
       "1    Credit card (automatic)  \n",
       "2  Bank transfer (automatic)  \n",
       "3    Credit card (automatic)  \n",
       "4  Bank transfer (automatic)  \n",
       "\n",
       "[5 rows x 24 columns]"
      ]
     },
     "execution_count": 3,
     "metadata": {},
     "output_type": "execute_result"
    }
   ],
   "source": [
    "# acquire\n",
    "df = acquire_telco.new_telco_data()\n",
    "df.head()"
   ]
  },
  {
   "cell_type": "markdown",
   "id": "e277cc89",
   "metadata": {},
   "source": [
    "## Prepare"
   ]
  },
  {
   "cell_type": "markdown",
   "id": "5f598eda",
   "metadata": {},
   "source": [
    "Here we will prepare the data using functions stored in prepare_telco.py. \n",
    "We are going to use this data to develop a model, therefore we need to make sure there are no incompatible datatypes, and we are left with only clean columns that are useful. We will also need to split the data into train, validate, test so that we can test the accuracy of our model. \n",
    "\n",
    "We will run the clean_split_telco_data function that runs both the wrangle_telco and the train_validate_test_split functions. \n",
    "\n",
    "The wrangle_telco data will do the following:\n",
    "- remove duplicates\n",
    "- drop whitespaces\n",
    "- drop the columns that don't seem useful: 'payment_type_id', 'internet_service_type_id', 'contract_type_id', 'customer_id', and 'gender'\n",
    "- converts 'total_charges' from and object to a float\n",
    "- converts the binary categorical variables to numeric: 'tenure', 'churn', 'partner', 'dependents', 'paperless_billing', 'phone_service', 'multiple_lines', 'online_security', 'streaming_movies', 'streaming_tv', 'online_backup', 'device_protection', 'tech_support', 'is_autopay'\n",
    "- gets dummies from non-binary object varibales \n",
    "- concatenate dummy dataframe to original \n",
    "- drop the object columns we created dummies from \n",
    "- returns the cleaned df\n",
    "\n",
    "The train_validate_test_split function will do the following: \n",
    "\n",
    "- takes in a dataframe (df) and returns 3 dfs (train, validate, and test) split 20%, 24%, 56% respectively \n",
    "- takes in a random seed for replicating results"
   ]
  },
  {
   "cell_type": "code",
   "execution_count": 4,
   "id": "71322fb2",
   "metadata": {},
   "outputs": [],
   "source": [
    "# import prepare_telco.py\n",
    "import prepare_telco"
   ]
  },
  {
   "cell_type": "code",
   "execution_count": 5,
   "id": "56c01f86",
   "metadata": {},
   "outputs": [],
   "source": [
    "# run functions from prepare_teco.py to prepare and split the data\n",
    "train, validate, test = prepare_telco.clean_split_telco_data(df)"
   ]
  },
  {
   "cell_type": "code",
   "execution_count": 6,
   "id": "fc638b49",
   "metadata": {},
   "outputs": [
    {
     "data": {
      "text/plain": [
       "(3937, 30)"
      ]
     },
     "execution_count": 6,
     "metadata": {},
     "output_type": "execute_result"
    }
   ],
   "source": [
    "train.shape"
   ]
  },
  {
   "cell_type": "code",
   "execution_count": 7,
   "id": "69604305",
   "metadata": {},
   "outputs": [
    {
     "data": {
      "text/plain": [
       "(1688, 30)"
      ]
     },
     "execution_count": 7,
     "metadata": {},
     "output_type": "execute_result"
    }
   ],
   "source": [
    "validate.shape"
   ]
  },
  {
   "cell_type": "code",
   "execution_count": 8,
   "id": "d86b97c5",
   "metadata": {},
   "outputs": [
    {
     "data": {
      "text/plain": [
       "(1407, 30)"
      ]
     },
     "execution_count": 8,
     "metadata": {},
     "output_type": "execute_result"
    }
   ],
   "source": [
    "test.shape"
   ]
  },
  {
   "cell_type": "code",
   "execution_count": 9,
   "id": "3f0fdd3d",
   "metadata": {},
   "outputs": [
    {
     "data": {
      "text/html": [
       "<div>\n",
       "<style scoped>\n",
       "    .dataframe tbody tr th:only-of-type {\n",
       "        vertical-align: middle;\n",
       "    }\n",
       "\n",
       "    .dataframe tbody tr th {\n",
       "        vertical-align: top;\n",
       "    }\n",
       "\n",
       "    .dataframe thead th {\n",
       "        text-align: right;\n",
       "    }\n",
       "</style>\n",
       "<table border=\"1\" class=\"dataframe\">\n",
       "  <thead>\n",
       "    <tr style=\"text-align: right;\">\n",
       "      <th></th>\n",
       "      <th>senior_citizen</th>\n",
       "      <th>partner</th>\n",
       "      <th>dependents</th>\n",
       "      <th>tenure</th>\n",
       "      <th>phone_service</th>\n",
       "      <th>multiple_lines</th>\n",
       "      <th>online_security</th>\n",
       "      <th>online_backup</th>\n",
       "      <th>device_protection</th>\n",
       "      <th>tech_support</th>\n",
       "      <th>...</th>\n",
       "      <th>contract_type_month_to_month</th>\n",
       "      <th>contract_type_one_year</th>\n",
       "      <th>contract_type_two_year</th>\n",
       "      <th>internet_service_type_DSL</th>\n",
       "      <th>internet_service_type_fiber_optic</th>\n",
       "      <th>internet_service_type_None</th>\n",
       "      <th>payment_type_bank_transfer_auto</th>\n",
       "      <th>payment_type_credit_card_auto</th>\n",
       "      <th>payment_type_electronic_check</th>\n",
       "      <th>payment_type_mailed_check</th>\n",
       "    </tr>\n",
       "  </thead>\n",
       "  <tbody>\n",
       "    <tr>\n",
       "      <th>6096</th>\n",
       "      <td>0</td>\n",
       "      <td>1</td>\n",
       "      <td>0</td>\n",
       "      <td>70</td>\n",
       "      <td>1</td>\n",
       "      <td>0</td>\n",
       "      <td>0</td>\n",
       "      <td>0</td>\n",
       "      <td>0</td>\n",
       "      <td>0</td>\n",
       "      <td>...</td>\n",
       "      <td>0</td>\n",
       "      <td>0</td>\n",
       "      <td>1</td>\n",
       "      <td>0</td>\n",
       "      <td>0</td>\n",
       "      <td>1</td>\n",
       "      <td>1</td>\n",
       "      <td>0</td>\n",
       "      <td>0</td>\n",
       "      <td>0</td>\n",
       "    </tr>\n",
       "    <tr>\n",
       "      <th>1603</th>\n",
       "      <td>0</td>\n",
       "      <td>1</td>\n",
       "      <td>1</td>\n",
       "      <td>15</td>\n",
       "      <td>1</td>\n",
       "      <td>0</td>\n",
       "      <td>0</td>\n",
       "      <td>1</td>\n",
       "      <td>1</td>\n",
       "      <td>1</td>\n",
       "      <td>...</td>\n",
       "      <td>1</td>\n",
       "      <td>0</td>\n",
       "      <td>0</td>\n",
       "      <td>1</td>\n",
       "      <td>0</td>\n",
       "      <td>0</td>\n",
       "      <td>0</td>\n",
       "      <td>0</td>\n",
       "      <td>0</td>\n",
       "      <td>1</td>\n",
       "    </tr>\n",
       "    <tr>\n",
       "      <th>5350</th>\n",
       "      <td>1</td>\n",
       "      <td>1</td>\n",
       "      <td>0</td>\n",
       "      <td>52</td>\n",
       "      <td>1</td>\n",
       "      <td>1</td>\n",
       "      <td>1</td>\n",
       "      <td>1</td>\n",
       "      <td>1</td>\n",
       "      <td>0</td>\n",
       "      <td>...</td>\n",
       "      <td>1</td>\n",
       "      <td>0</td>\n",
       "      <td>0</td>\n",
       "      <td>0</td>\n",
       "      <td>1</td>\n",
       "      <td>0</td>\n",
       "      <td>0</td>\n",
       "      <td>0</td>\n",
       "      <td>1</td>\n",
       "      <td>0</td>\n",
       "    </tr>\n",
       "    <tr>\n",
       "      <th>2068</th>\n",
       "      <td>0</td>\n",
       "      <td>0</td>\n",
       "      <td>0</td>\n",
       "      <td>39</td>\n",
       "      <td>0</td>\n",
       "      <td>0</td>\n",
       "      <td>0</td>\n",
       "      <td>0</td>\n",
       "      <td>0</td>\n",
       "      <td>1</td>\n",
       "      <td>...</td>\n",
       "      <td>1</td>\n",
       "      <td>0</td>\n",
       "      <td>0</td>\n",
       "      <td>1</td>\n",
       "      <td>0</td>\n",
       "      <td>0</td>\n",
       "      <td>0</td>\n",
       "      <td>0</td>\n",
       "      <td>1</td>\n",
       "      <td>0</td>\n",
       "    </tr>\n",
       "    <tr>\n",
       "      <th>6366</th>\n",
       "      <td>0</td>\n",
       "      <td>1</td>\n",
       "      <td>0</td>\n",
       "      <td>32</td>\n",
       "      <td>1</td>\n",
       "      <td>0</td>\n",
       "      <td>0</td>\n",
       "      <td>0</td>\n",
       "      <td>0</td>\n",
       "      <td>0</td>\n",
       "      <td>...</td>\n",
       "      <td>0</td>\n",
       "      <td>1</td>\n",
       "      <td>0</td>\n",
       "      <td>0</td>\n",
       "      <td>0</td>\n",
       "      <td>1</td>\n",
       "      <td>0</td>\n",
       "      <td>0</td>\n",
       "      <td>0</td>\n",
       "      <td>1</td>\n",
       "    </tr>\n",
       "  </tbody>\n",
       "</table>\n",
       "<p>5 rows × 30 columns</p>\n",
       "</div>"
      ],
      "text/plain": [
       "      senior_citizen  partner  dependents  tenure  phone_service  \\\n",
       "6096               0        1           0      70              1   \n",
       "1603               0        1           1      15              1   \n",
       "5350               1        1           0      52              1   \n",
       "2068               0        0           0      39              0   \n",
       "6366               0        1           0      32              1   \n",
       "\n",
       "      multiple_lines  online_security  online_backup  device_protection  \\\n",
       "6096               0                0              0                  0   \n",
       "1603               0                0              1                  1   \n",
       "5350               1                1              1                  1   \n",
       "2068               0                0              0                  0   \n",
       "6366               0                0              0                  0   \n",
       "\n",
       "      tech_support  ...  contract_type_month_to_month  contract_type_one_year  \\\n",
       "6096             0  ...                             0                       0   \n",
       "1603             1  ...                             1                       0   \n",
       "5350             0  ...                             1                       0   \n",
       "2068             1  ...                             1                       0   \n",
       "6366             0  ...                             0                       1   \n",
       "\n",
       "      contract_type_two_year  internet_service_type_DSL  \\\n",
       "6096                       1                          0   \n",
       "1603                       0                          1   \n",
       "5350                       0                          0   \n",
       "2068                       0                          1   \n",
       "6366                       0                          0   \n",
       "\n",
       "      internet_service_type_fiber_optic  internet_service_type_None  \\\n",
       "6096                                  0                           1   \n",
       "1603                                  0                           0   \n",
       "5350                                  1                           0   \n",
       "2068                                  0                           0   \n",
       "6366                                  0                           1   \n",
       "\n",
       "     payment_type_bank_transfer_auto payment_type_credit_card_auto  \\\n",
       "6096                               1                             0   \n",
       "1603                               0                             0   \n",
       "5350                               0                             0   \n",
       "2068                               0                             0   \n",
       "6366                               0                             0   \n",
       "\n",
       "     payment_type_electronic_check  payment_type_mailed_check  \n",
       "6096                             0                          0  \n",
       "1603                             0                          1  \n",
       "5350                             1                          0  \n",
       "2068                             1                          0  \n",
       "6366                             0                          1  \n",
       "\n",
       "[5 rows x 30 columns]"
      ]
     },
     "execution_count": 9,
     "metadata": {},
     "output_type": "execute_result"
    }
   ],
   "source": [
    "# verify the df we brought in is what we want\n",
    "train.head()"
   ]
  },
  {
   "cell_type": "code",
   "execution_count": 10,
   "id": "a33c5aa2",
   "metadata": {},
   "outputs": [
    {
     "data": {
      "text/plain": [
       "senior_citizen                         int64\n",
       "partner                                int64\n",
       "dependents                             int64\n",
       "tenure                                 int64\n",
       "phone_service                          int64\n",
       "multiple_lines                         int64\n",
       "online_security                        int64\n",
       "online_backup                          int64\n",
       "device_protection                      int64\n",
       "tech_support                           int64\n",
       "streaming_tv                           int64\n",
       "streaming_movies                       int64\n",
       "paperless_billing                      int64\n",
       "monthly_charges                      float64\n",
       "total_charges                        float64\n",
       "churn                                  int64\n",
       "contract_type                         object\n",
       "internet_service_type                 object\n",
       "payment_type                          object\n",
       "is_autopay                              bool\n",
       "contract_type_month_to_month           uint8\n",
       "contract_type_one_year                 uint8\n",
       "contract_type_two_year                 uint8\n",
       "internet_service_type_DSL              uint8\n",
       "internet_service_type_fiber_optic      uint8\n",
       "internet_service_type_None             uint8\n",
       "payment_type_bank_transfer_auto        uint8\n",
       "payment_type_credit_card_auto          uint8\n",
       "payment_type_electronic_check          uint8\n",
       "payment_type_mailed_check              uint8\n",
       "dtype: object"
      ]
     },
     "execution_count": 10,
     "metadata": {},
     "output_type": "execute_result"
    }
   ],
   "source": [
    "# check that datatypes are all compatible for modeling\n",
    "train.dtypes"
   ]
  },
  {
   "cell_type": "markdown",
   "id": "85ce41d2",
   "metadata": {},
   "source": [
    "## Explore"
   ]
  },
  {
   "cell_type": "markdown",
   "id": "78fd7796",
   "metadata": {},
   "source": [
    "Here we will explore the telco data to find the key drivers of customer churn. \n",
    "\n",
    "We will ask some initial questions and and answer thoes questions through visuals, statistics, or both. "
   ]
  },
  {
   "cell_type": "markdown",
   "id": "91dc8011",
   "metadata": {},
   "source": [
    "Initial Questions:\n",
    "    \n",
    "    1. Are customers with a certain service type more or less likely to churn? \n",
    "      - Specifically are customers with fiber more likely to churn? \n",
    "    2. What month are customers most likely to churn in?  \n",
    "        - Does this depend on their contract/service type? \n",
    "    3. Do the customers that churn have a higher monthly cost than those that do not churn? \n",
    "    4. Do the customers that churn havel more or less lines than those how don't? \n"
   ]
  },
  {
   "cell_type": "markdown",
   "id": "3edde35f",
   "metadata": {},
   "source": [
    "Before we can start to run stat tests and create visuals, we need to create variables to make things simpler."
   ]
  },
  {
   "cell_type": "code",
   "execution_count": 11,
   "id": "1cf2483e",
   "metadata": {},
   "outputs": [],
   "source": [
    "# We know know telco wants to focus on the cause of m2m churn so we will start there\n",
    "m2m_churn = train[['contract_type']][(train['churn'] == 1)]\n",
    "m2m_no_churn = train[['contract_type']][(train['churn'] == 0)]"
   ]
  },
  {
   "cell_type": "code",
   "execution_count": 12,
   "id": "b21c0af5",
   "metadata": {},
   "outputs": [],
   "source": [
    "internet_churn = train[['internet_service_type']][(train['churn'] == 1)]\n",
    "intecrnet_no_churn = train[['internet_service_type']][(train['churn'] == 0)]"
   ]
  },
  {
   "cell_type": "code",
   "execution_count": 13,
   "id": "a5d0f4c4",
   "metadata": {},
   "outputs": [
    {
     "data": {
      "text/html": [
       "<div>\n",
       "<style scoped>\n",
       "    .dataframe tbody tr th:only-of-type {\n",
       "        vertical-align: middle;\n",
       "    }\n",
       "\n",
       "    .dataframe tbody tr th {\n",
       "        vertical-align: top;\n",
       "    }\n",
       "\n",
       "    .dataframe thead th {\n",
       "        text-align: right;\n",
       "    }\n",
       "</style>\n",
       "<table border=\"1\" class=\"dataframe\">\n",
       "  <thead>\n",
       "    <tr style=\"text-align: right;\">\n",
       "      <th></th>\n",
       "      <th>internet_service_type</th>\n",
       "    </tr>\n",
       "  </thead>\n",
       "  <tbody>\n",
       "    <tr>\n",
       "      <th>6947</th>\n",
       "      <td>None</td>\n",
       "    </tr>\n",
       "    <tr>\n",
       "      <th>6791</th>\n",
       "      <td>None</td>\n",
       "    </tr>\n",
       "    <tr>\n",
       "      <th>3879</th>\n",
       "      <td>Fiber optic</td>\n",
       "    </tr>\n",
       "    <tr>\n",
       "      <th>3474</th>\n",
       "      <td>Fiber optic</td>\n",
       "    </tr>\n",
       "    <tr>\n",
       "      <th>4594</th>\n",
       "      <td>Fiber optic</td>\n",
       "    </tr>\n",
       "  </tbody>\n",
       "</table>\n",
       "</div>"
      ],
      "text/plain": [
       "     internet_service_type\n",
       "6947                  None\n",
       "6791                  None\n",
       "3879           Fiber optic\n",
       "3474           Fiber optic\n",
       "4594           Fiber optic"
      ]
     },
     "execution_count": 13,
     "metadata": {},
     "output_type": "execute_result"
    }
   ],
   "source": [
    "internet_churn.head()"
   ]
  },
  {
   "cell_type": "code",
   "execution_count": 14,
   "id": "6bf7ae98",
   "metadata": {},
   "outputs": [],
   "source": [
    "fiber_churn = train[['internet_service_type_fiber_optic']][(train['churn'] == 1)]\n",
    "fiber_no_churn = train[['internet_service_type_fiber_optic']][(train['churn'] == 0)]"
   ]
  },
  {
   "cell_type": "code",
   "execution_count": 15,
   "id": "802e38c4",
   "metadata": {},
   "outputs": [],
   "source": [
    "tenure_churn = train[['tenure']][(train['churn'] == 1)]\n",
    "tenure_no_churn = train[['tenure']][(train['churn'] == 0)]"
   ]
  },
  {
   "cell_type": "code",
   "execution_count": 16,
   "id": "da184c56",
   "metadata": {},
   "outputs": [
    {
     "data": {
      "text/html": [
       "<div>\n",
       "<style scoped>\n",
       "    .dataframe tbody tr th:only-of-type {\n",
       "        vertical-align: middle;\n",
       "    }\n",
       "\n",
       "    .dataframe tbody tr th {\n",
       "        vertical-align: top;\n",
       "    }\n",
       "\n",
       "    .dataframe thead th {\n",
       "        text-align: right;\n",
       "    }\n",
       "</style>\n",
       "<table border=\"1\" class=\"dataframe\">\n",
       "  <thead>\n",
       "    <tr style=\"text-align: right;\">\n",
       "      <th></th>\n",
       "      <th>tenure</th>\n",
       "    </tr>\n",
       "  </thead>\n",
       "  <tbody>\n",
       "    <tr>\n",
       "      <th>6947</th>\n",
       "      <td>1</td>\n",
       "    </tr>\n",
       "    <tr>\n",
       "      <th>6791</th>\n",
       "      <td>1</td>\n",
       "    </tr>\n",
       "    <tr>\n",
       "      <th>3879</th>\n",
       "      <td>6</td>\n",
       "    </tr>\n",
       "    <tr>\n",
       "      <th>3474</th>\n",
       "      <td>3</td>\n",
       "    </tr>\n",
       "    <tr>\n",
       "      <th>4594</th>\n",
       "      <td>12</td>\n",
       "    </tr>\n",
       "    <tr>\n",
       "      <th>...</th>\n",
       "      <td>...</td>\n",
       "    </tr>\n",
       "    <tr>\n",
       "      <th>4674</th>\n",
       "      <td>1</td>\n",
       "    </tr>\n",
       "    <tr>\n",
       "      <th>3381</th>\n",
       "      <td>66</td>\n",
       "    </tr>\n",
       "    <tr>\n",
       "      <th>1577</th>\n",
       "      <td>3</td>\n",
       "    </tr>\n",
       "    <tr>\n",
       "      <th>3993</th>\n",
       "      <td>45</td>\n",
       "    </tr>\n",
       "    <tr>\n",
       "      <th>4200</th>\n",
       "      <td>16</td>\n",
       "    </tr>\n",
       "  </tbody>\n",
       "</table>\n",
       "<p>1046 rows × 1 columns</p>\n",
       "</div>"
      ],
      "text/plain": [
       "      tenure\n",
       "6947       1\n",
       "6791       1\n",
       "3879       6\n",
       "3474       3\n",
       "4594      12\n",
       "...      ...\n",
       "4674       1\n",
       "3381      66\n",
       "1577       3\n",
       "3993      45\n",
       "4200      16\n",
       "\n",
       "[1046 rows x 1 columns]"
      ]
     },
     "execution_count": 16,
     "metadata": {},
     "output_type": "execute_result"
    }
   ],
   "source": [
    "tenure_churn"
   ]
  },
  {
   "cell_type": "code",
   "execution_count": 17,
   "id": "560cbe5a",
   "metadata": {},
   "outputs": [
    {
     "data": {
      "text/html": [
       "<div>\n",
       "<style scoped>\n",
       "    .dataframe tbody tr th:only-of-type {\n",
       "        vertical-align: middle;\n",
       "    }\n",
       "\n",
       "    .dataframe tbody tr th {\n",
       "        vertical-align: top;\n",
       "    }\n",
       "\n",
       "    .dataframe thead th {\n",
       "        text-align: right;\n",
       "    }\n",
       "</style>\n",
       "<table border=\"1\" class=\"dataframe\">\n",
       "  <thead>\n",
       "    <tr style=\"text-align: right;\">\n",
       "      <th></th>\n",
       "      <th>count</th>\n",
       "      <th>mean</th>\n",
       "      <th>std</th>\n",
       "      <th>min</th>\n",
       "      <th>25%</th>\n",
       "      <th>50%</th>\n",
       "      <th>75%</th>\n",
       "      <th>max</th>\n",
       "    </tr>\n",
       "  </thead>\n",
       "  <tbody>\n",
       "    <tr>\n",
       "      <th>tenure</th>\n",
       "      <td>1046.0</td>\n",
       "      <td>18.471319</td>\n",
       "      <td>20.088146</td>\n",
       "      <td>1.0</td>\n",
       "      <td>2.0</td>\n",
       "      <td>10.0</td>\n",
       "      <td>30.75</td>\n",
       "      <td>72.0</td>\n",
       "    </tr>\n",
       "  </tbody>\n",
       "</table>\n",
       "</div>"
      ],
      "text/plain": [
       "         count       mean        std  min  25%   50%    75%   max\n",
       "tenure  1046.0  18.471319  20.088146  1.0  2.0  10.0  30.75  72.0"
      ]
     },
     "execution_count": 17,
     "metadata": {},
     "output_type": "execute_result"
    }
   ],
   "source": [
    "stats = tenure_churn.describe().T\n",
    "stats"
   ]
  },
  {
   "cell_type": "code",
   "execution_count": 18,
   "id": "92c63843",
   "metadata": {},
   "outputs": [],
   "source": [
    "# tenure_no_churn.head()"
   ]
  },
  {
   "cell_type": "code",
   "execution_count": 19,
   "id": "0e29c0ab",
   "metadata": {},
   "outputs": [],
   "source": [
    "# stats = tenure_no_churn.describe().T\n",
    "# stats"
   ]
  },
  {
   "cell_type": "code",
   "execution_count": 20,
   "id": "9f762f13",
   "metadata": {},
   "outputs": [
    {
     "data": {
      "text/plain": [
       "count    3937.000000\n",
       "mean       32.505715\n",
       "std        24.773712\n",
       "min         1.000000\n",
       "25%         8.000000\n",
       "50%        29.000000\n",
       "75%        56.000000\n",
       "max        72.000000\n",
       "Name: tenure, dtype: float64"
      ]
     },
     "execution_count": 20,
     "metadata": {},
     "output_type": "execute_result"
    }
   ],
   "source": [
    "stats = train.tenure.describe().T\n",
    "stats"
   ]
  },
  {
   "cell_type": "code",
   "execution_count": 21,
   "id": "6a844ec5",
   "metadata": {
    "scrolled": true
   },
   "outputs": [
    {
     "data": {
      "text/plain": [
       "internet_service_type\n",
       "Fiber optic              716\n",
       "DSL                      266\n",
       "None                      64\n",
       "dtype: int64"
      ]
     },
     "execution_count": 21,
     "metadata": {},
     "output_type": "execute_result"
    }
   ],
   "source": [
    "internet_churn.value_counts()"
   ]
  },
  {
   "cell_type": "code",
   "execution_count": 22,
   "id": "669e7c04",
   "metadata": {},
   "outputs": [
    {
     "data": {
      "image/png": "[encoded data removed]",
      "text/plain": [
       "<Figure size 432x288 with 1 Axes>"
      ]
     },
     "metadata": {
      "needs_background": "light"
     },
     "output_type": "display_data"
    }
   ],
   "source": [
    "internet_churn.value_counts().plot.bar(rot=0);"
   ]
  },
  {
   "cell_type": "code",
   "execution_count": 23,
   "id": "b9fdbec4",
   "metadata": {},
   "outputs": [
    {
     "data": {
      "text/plain": [
       "contract_type \n",
       "Month-to-month    926\n",
       "One year           86\n",
       "Two year           34\n",
       "dtype: int64"
      ]
     },
     "execution_count": 23,
     "metadata": {},
     "output_type": "execute_result"
    }
   ],
   "source": [
    "m2m_churn.value_counts()"
   ]
  },
  {
   "cell_type": "code",
   "execution_count": 24,
   "id": "0fff7c3b",
   "metadata": {},
   "outputs": [
    {
     "data": {
      "image/png": "[encoded data removed]",
      "text/plain": [
       "<Figure size 432x288 with 1 Axes>"
      ]
     },
     "metadata": {
      "needs_background": "light"
     },
     "output_type": "display_data"
    }
   ],
   "source": [
    "m2m_churn.value_counts().plot.bar(rot=0);"
   ]
  },
  {
   "cell_type": "code",
   "execution_count": 26,
   "id": "5e886ebf",
   "metadata": {},
   "outputs": [
    {
     "data": {
      "text/plain": [
       "tenure\n",
       "1         213\n",
       "2          65\n",
       "3          56\n",
       "4          49\n",
       "5          36\n",
       "7          27\n",
       "6          25\n",
       "10         24\n",
       "15         23\n",
       "12         23\n",
       "9          22\n",
       "11         21\n",
       "8          20\n",
       "14         17\n",
       "16         16\n",
       "13         16\n",
       "18         12\n",
       "22         12\n",
       "32         11\n",
       "53         11\n",
       "24         11\n",
       "25         11\n",
       "17         11\n",
       "19         10\n",
       "21         10\n",
       "41         10\n",
       "39         10\n",
       "49          9\n",
       "40          9\n",
       "38          9\n",
       "37          9\n",
       "27          9\n",
       "26          9\n",
       "47          8\n",
       "34          8\n",
       "54          8\n",
       "20          8\n",
       "30          8\n",
       "43          8\n",
       "68          7\n",
       "33          7\n",
       "50          7\n",
       "23          7\n",
       "66          7\n",
       "58          7\n",
       "59          7\n",
       "70          7\n",
       "28          7\n",
       "35          7\n",
       "46          6\n",
       "42          6\n",
       "65          6\n",
       "29          6\n",
       "56          6\n",
       "31          6\n",
       "71          5\n",
       "62          5\n",
       "60          5\n",
       "52          5\n",
       "51          5\n",
       "48          5\n",
       "57          4\n",
       "55          4\n",
       "67          4\n",
       "36          4\n",
       "72          4\n",
       "63          3\n",
       "45          3\n",
       "69          3\n",
       "44          3\n",
       "61          2\n",
       "64          2\n",
       "dtype: int64"
      ]
     },
     "execution_count": 26,
     "metadata": {},
     "output_type": "execute_result"
    }
   ],
   "source": [
    "tenure_churn.value_counts()"
   ]
  },
  {
   "cell_type": "code",
   "execution_count": 27,
   "id": "7f41468c",
   "metadata": {},
   "outputs": [],
   "source": [
    "# tenure_churn.value_counts().plot.bar(rot=0);"
   ]
  },
  {
   "cell_type": "code",
   "execution_count": 28,
   "id": "a9d39fa6",
   "metadata": {},
   "outputs": [
    {
     "data": {
      "image/png": "[encoded data removed]",
      "text/plain": [
       "<Figure size 864x432 with 1 Axes>"
      ]
     },
     "metadata": {
      "needs_background": "light"
     },
     "output_type": "display_data"
    }
   ],
   "source": [
    "plt.figure(figsize=(12, 6))\n",
    "ax = sns.lineplot(x=train.groupby(by='tenure')['tenure'].count().index, y=train.groupby(by='tenure')['tenure'].count());\n"
   ]
  },
  {
   "cell_type": "code",
   "execution_count": 34,
   "id": "8e2b7726",
   "metadata": {},
   "outputs": [
    {
     "data": {
      "image/png": "[encoded data removed]",
      "text/plain": [
       "<Figure size 864x432 with 1 Axes>"
      ]
     },
     "metadata": {
      "needs_background": "light"
     },
     "output_type": "display_data"
    }
   ],
   "source": [
    "plt.figure(figsize=(12, 6))\n",
    "sns.swarmplot(x='internet_service_type', y='monthly_charges', data=train , hue='churn'  )\n",
    "\n",
    "plt.title('How does internet type and monthly charges relate to churn?')\n",
    "plt.xlabel('')\n",
    "plt.show()"
   ]
  },
  {
   "cell_type": "code",
   "execution_count": 30,
   "id": "1638d2e6",
   "metadata": {},
   "outputs": [
    {
     "data": {
      "image/png": "[encoded data removed]",
      "text/plain": [
       "<Figure size 432x288 with 2 Axes>"
      ]
     },
     "metadata": {
      "needs_background": "light"
     },
     "output_type": "display_data"
    }
   ],
   "source": [
    "plt.subplot(211)\n",
    "\n",
    "sns.countplot(x = 'internet_service_type', data=train, palette='Purples', ec='black', linewidth=2)\n",
    "\n",
    "plt.title('How does internet service type relate to customer churn?')\n",
    "plt.xlabel('')\n",
    "plt.ylabel('')\n",
    "\n",
    "plt.subplot(212)\n",
    "\n",
    "# use hue to add another dimension to your viz\n",
    "sns.countplot(x = 'internet_service_type', hue = 'churn', data=train, palette='Blues', ec='black', linewidth=2)\n",
    "\n",
    "plt.legend(['Did not churn', 'Churned'])\n",
    "\n",
    "plt.show()\n"
   ]
  },
  {
   "cell_type": "code",
   "execution_count": 31,
   "id": "43271eda",
   "metadata": {},
   "outputs": [
    {
     "data": {
      "image/png": "[encoded data removed]",
      "text/plain": [
       "<Figure size 432x288 with 2 Axes>"
      ]
     },
     "metadata": {
      "needs_background": "light"
     },
     "output_type": "display_data"
    }
   ],
   "source": [
    "# Create figure and axes, 2 rows and 1 column, share x and y axes.\n",
    "fig, (ax1, ax2) = plt.subplots(2, 1, sharex=True, sharey=True)\n",
    "\n",
    "# Plot first histogram from survived subset, fare variable.\n",
    "ax1.hist(train[train.churn == 1].tenure, bins=15, \n",
    "         color='dodgerblue', ec='black', linewidth=2)\n",
    "\n",
    "ax1.set(title='Churned', ylabel='Tenure')\n",
    "\n",
    "# Plot second historgram from did not survive subset, fare variable.\n",
    "ax2.hist(train[train.churn == 0].tenure, bins=15, \n",
    "         color='dodgerblue', ec='black', linewidth=2)\n",
    "\n",
    "ax2.set(title='Did not churn', xlabel='Tenure', ylabel='US $')\n",
    "\n",
    "plt.show()\n"
   ]
  },
  {
   "cell_type": "code",
   "execution_count": 32,
   "id": "0518c4a9",
   "metadata": {},
   "outputs": [
    {
     "data": {
      "image/png": "[encoded data removed]",
      "text/plain": [
       "<Figure size 432x288 with 2 Axes>"
      ]
     },
     "metadata": {
      "needs_background": "light"
     },
     "output_type": "display_data"
    }
   ],
   "source": [
    "# Create crosstab with raw values.\n",
    "ctab = pd.crosstab(train.churn, train['internet_service_type'])\n",
    "\n",
    "# Use crosstab object in a heatmap to visualize values.\n",
    "sns.heatmap(ctab, annot=True, cmap='Greens', fmt='d')\n",
    "\n",
    "plt.title('Internet Service Type by Churn')\n",
    "plt.ylabel('')\n",
    "\n",
    "# Change labels for y-tick marks.\n",
    "locs, labels = plt.yticks()\n",
    "plt.yticks(locs, ('Stayed', 'Churned'))\n",
    "\n",
    "plt.show()\n"
   ]
  },
  {
   "cell_type": "markdown",
   "id": "0d8105f2",
   "metadata": {},
   "source": [
    "1. Are customers with a certain service type more or less likely to churn? \n",
    "  - Specifically are customers with fiber more likely to churn?"
   ]
  },
  {
   "cell_type": "markdown",
   "id": "ed7b4fb9",
   "metadata": {},
   "source": [
    "## Modeling"
   ]
  },
  {
   "cell_type": "code",
   "execution_count": 35,
   "id": "725b973f",
   "metadata": {},
   "outputs": [],
   "source": [
    "X_train = train.drop(columns=['churn', 'contract_type', 'internet_service_type', 'payment_type'])\n",
    "y_train = train[['churn']]\n",
    "\n",
    "X_validate = validate.drop(columns=['churn', 'contract_type', 'internet_service_type', 'payment_type'])\n",
    "y_validate = validate[['churn']]\n",
    "\n",
    "X_test = test.drop(columns=['churn', 'contract_type', 'internet_service_type', 'payment_type'])\n",
    "y_test = test[['churn']]\n"
   ]
  },
  {
   "cell_type": "code",
   "execution_count": 36,
   "id": "78bd390f",
   "metadata": {},
   "outputs": [
    {
     "data": {
      "text/plain": [
       "senior_citizen                         int64\n",
       "partner                                int64\n",
       "dependents                             int64\n",
       "tenure                                 int64\n",
       "phone_service                          int64\n",
       "multiple_lines                         int64\n",
       "online_security                        int64\n",
       "online_backup                          int64\n",
       "device_protection                      int64\n",
       "tech_support                           int64\n",
       "streaming_tv                           int64\n",
       "streaming_movies                       int64\n",
       "paperless_billing                      int64\n",
       "monthly_charges                      float64\n",
       "total_charges                        float64\n",
       "is_autopay                              bool\n",
       "contract_type_month_to_month           uint8\n",
       "contract_type_one_year                 uint8\n",
       "contract_type_two_year                 uint8\n",
       "internet_service_type_DSL              uint8\n",
       "internet_service_type_fiber_optic      uint8\n",
       "internet_service_type_None             uint8\n",
       "payment_type_bank_transfer_auto        uint8\n",
       "payment_type_credit_card_auto          uint8\n",
       "payment_type_electronic_check          uint8\n",
       "payment_type_mailed_check              uint8\n",
       "dtype: object"
      ]
     },
     "execution_count": 36,
     "metadata": {},
     "output_type": "execute_result"
    }
   ],
   "source": [
    "X_train.dtypes"
   ]
  },
  {
   "cell_type": "code",
   "execution_count": 37,
   "id": "b390d159",
   "metadata": {},
   "outputs": [
    {
     "data": {
      "text/plain": [
       "churn    int64\n",
       "dtype: object"
      ]
     },
     "execution_count": 37,
     "metadata": {},
     "output_type": "execute_result"
    }
   ],
   "source": [
    "y_train.dtypes"
   ]
  },
  {
   "cell_type": "code",
   "execution_count": 38,
   "id": "eb3cf1fe",
   "metadata": {},
   "outputs": [
    {
     "data": {
      "text/plain": [
       "0    0.734315\n",
       "1    0.265685\n",
       "Name: churn, dtype: float64"
      ]
     },
     "execution_count": 38,
     "metadata": {},
     "output_type": "execute_result"
    }
   ],
   "source": [
    "train.churn.value_counts(normalize=True)"
   ]
  },
  {
   "cell_type": "code",
   "execution_count": 39,
   "id": "b9dfc602",
   "metadata": {},
   "outputs": [],
   "source": [
    "baseline = y_train.mode()"
   ]
  },
  {
   "cell_type": "code",
   "execution_count": 40,
   "id": "3332479f",
   "metadata": {},
   "outputs": [
    {
     "data": {
      "text/html": [
       "<div>\n",
       "<style scoped>\n",
       "    .dataframe tbody tr th:only-of-type {\n",
       "        vertical-align: middle;\n",
       "    }\n",
       "\n",
       "    .dataframe tbody tr th {\n",
       "        vertical-align: top;\n",
       "    }\n",
       "\n",
       "    .dataframe thead th {\n",
       "        text-align: right;\n",
       "    }\n",
       "</style>\n",
       "<table border=\"1\" class=\"dataframe\">\n",
       "  <thead>\n",
       "    <tr style=\"text-align: right;\">\n",
       "      <th></th>\n",
       "      <th>churn</th>\n",
       "    </tr>\n",
       "  </thead>\n",
       "  <tbody>\n",
       "    <tr>\n",
       "      <th>0</th>\n",
       "      <td>0</td>\n",
       "    </tr>\n",
       "  </tbody>\n",
       "</table>\n",
       "</div>"
      ],
      "text/plain": [
       "   churn\n",
       "0      0"
      ]
     },
     "execution_count": 40,
     "metadata": {},
     "output_type": "execute_result"
    }
   ],
   "source": [
    "baseline"
   ]
  },
  {
   "cell_type": "code",
   "execution_count": 44,
   "id": "9cfa3833",
   "metadata": {},
   "outputs": [],
   "source": [
    "match_bsl_prediction = y_train == 0"
   ]
  },
  {
   "cell_type": "code",
   "execution_count": 45,
   "id": "af6a5e06",
   "metadata": {},
   "outputs": [],
   "source": [
    "baseline_accuracy = match_bsl_prediction.mean()"
   ]
  },
  {
   "cell_type": "code",
   "execution_count": 46,
   "id": "da9e4d82",
   "metadata": {},
   "outputs": [
    {
     "data": {
      "text/plain": [
       "churn    0.734315\n",
       "dtype: float64"
      ]
     },
     "execution_count": 46,
     "metadata": {},
     "output_type": "execute_result"
    }
   ],
   "source": [
    "# basline accuracy = 73%\n",
    "baseline_accuracy"
   ]
  },
  {
   "cell_type": "markdown",
   "id": "aad9401c",
   "metadata": {},
   "source": [
    "### Decision Tree"
   ]
  },
  {
   "cell_type": "code",
   "execution_count": 47,
   "id": "b3a9f908",
   "metadata": {},
   "outputs": [],
   "source": [
    "tree1_clf = DecisionTreeClassifier(max_depth=3, random_state=123)"
   ]
  },
  {
   "cell_type": "code",
   "execution_count": 48,
   "id": "5e72c8b5",
   "metadata": {},
   "outputs": [],
   "source": [
    "tree1_clf = tree1_clf.fit(X_train, y_train)"
   ]
  },
  {
   "cell_type": "code",
   "execution_count": 49,
   "id": "1e9c9664",
   "metadata": {},
   "outputs": [
    {
     "data": {
      "text/plain": [
       "'titanic_decision_tree.pdf'"
      ]
     },
     "execution_count": 49,
     "metadata": {},
     "output_type": "execute_result"
    }
   ],
   "source": [
    "#visualize the decision tree\n",
    "import graphviz\n",
    "from graphviz import Graph\n",
    "\n",
    "dot_data = export_graphviz(tree1_clf, feature_names= X_train.columns, rounded=True, filled=True, out_file=None)\n",
    "graph = graphviz.Source(dot_data) \n",
    "\n",
    "graph.render('titanic_decision_tree', view=True)"
   ]
  },
  {
   "cell_type": "code",
   "execution_count": 50,
   "id": "dc76e7ed",
   "metadata": {},
   "outputs": [
    {
     "data": {
      "text/plain": [
       "array([0, 0, 0, 0, 0])"
      ]
     },
     "execution_count": 50,
     "metadata": {},
     "output_type": "execute_result"
    }
   ],
   "source": [
    "y_pred = tree1_clf.predict(X_train)\n",
    "y_pred[0:5]"
   ]
  },
  {
   "cell_type": "code",
   "execution_count": 51,
   "id": "5d497470",
   "metadata": {},
   "outputs": [
    {
     "data": {
      "text/plain": [
       "array([[0.97229219, 0.02770781],\n",
       "       [0.77721088, 0.22278912],\n",
       "       [0.58823529, 0.41176471],\n",
       "       [0.77721088, 0.22278912],\n",
       "       [0.97229219, 0.02770781]])"
      ]
     },
     "execution_count": 51,
     "metadata": {},
     "output_type": "execute_result"
    }
   ],
   "source": [
    "y_pred_proba = tree1_clf.predict_proba(X_train)\n",
    "y_pred_proba[0:5]"
   ]
  },
  {
   "cell_type": "code",
   "execution_count": 52,
   "id": "b8c2685a",
   "metadata": {},
   "outputs": [],
   "source": [
    "# accuracy:"
   ]
  },
  {
   "cell_type": "code",
   "execution_count": 53,
   "id": "72433de4",
   "metadata": {},
   "outputs": [
    {
     "name": "stdout",
     "output_type": "stream",
     "text": [
      "Accuracy of Decision Tree 1 classifier on training set: 0.79\n"
     ]
    }
   ],
   "source": [
    "print('Accuracy of Decision Tree 1 classifier on training set: {:.2f}'\n",
    "      .format(tree1_clf.score(X_train, y_train)))"
   ]
  },
  {
   "cell_type": "code",
   "execution_count": 66,
   "id": "fa9673af",
   "metadata": {},
   "outputs": [
    {
     "name": "stdout",
     "output_type": "stream",
     "text": [
      "[[2719  172]\n",
      " [ 643  403]]\n"
     ]
    }
   ],
   "source": [
    "# confusion matrix\n",
    "print(confusion_matrix(y_train, y_pred))"
   ]
  },
  {
   "cell_type": "code",
   "execution_count": 67,
   "id": "c8a150c9",
   "metadata": {},
   "outputs": [
    {
     "data": {
      "text/html": [
       "<div>\n",
       "<style scoped>\n",
       "    .dataframe tbody tr th:only-of-type {\n",
       "        vertical-align: middle;\n",
       "    }\n",
       "\n",
       "    .dataframe tbody tr th {\n",
       "        vertical-align: top;\n",
       "    }\n",
       "\n",
       "    .dataframe thead th {\n",
       "        text-align: right;\n",
       "    }\n",
       "</style>\n",
       "<table border=\"1\" class=\"dataframe\">\n",
       "  <thead>\n",
       "    <tr style=\"text-align: right;\">\n",
       "      <th></th>\n",
       "      <th>0</th>\n",
       "      <th>1</th>\n",
       "    </tr>\n",
       "  </thead>\n",
       "  <tbody>\n",
       "    <tr>\n",
       "      <th>0</th>\n",
       "      <td>2719</td>\n",
       "      <td>172</td>\n",
       "    </tr>\n",
       "    <tr>\n",
       "      <th>1</th>\n",
       "      <td>643</td>\n",
       "      <td>403</td>\n",
       "    </tr>\n",
       "  </tbody>\n",
       "</table>\n",
       "</div>"
      ],
      "text/plain": [
       "      0    1\n",
       "0  2719  172\n",
       "1   643  403"
      ]
     },
     "execution_count": 67,
     "metadata": {},
     "output_type": "execute_result"
    }
   ],
   "source": [
    "pd.DataFrame(confusion_matrix(y_train, y_pred))"
   ]
  },
  {
   "cell_type": "code",
   "execution_count": 68,
   "id": "74920e33",
   "metadata": {},
   "outputs": [
    {
     "name": "stdout",
     "output_type": "stream",
     "text": [
      "              precision    recall  f1-score   support\n",
      "\n",
      "           0       0.81      0.94      0.87      2891\n",
      "           1       0.70      0.39      0.50      1046\n",
      "\n",
      "    accuracy                           0.79      3937\n",
      "   macro avg       0.75      0.66      0.68      3937\n",
      "weighted avg       0.78      0.79      0.77      3937\n",
      "\n"
     ]
    }
   ],
   "source": [
    "# classification report\n",
    "print(classification_report(y_train, y_pred))"
   ]
  },
  {
   "cell_type": "code",
   "execution_count": 69,
   "id": "e6ccfb3a",
   "metadata": {},
   "outputs": [
    {
     "data": {
      "text/html": [
       "<div>\n",
       "<style scoped>\n",
       "    .dataframe tbody tr th:only-of-type {\n",
       "        vertical-align: middle;\n",
       "    }\n",
       "\n",
       "    .dataframe tbody tr th {\n",
       "        vertical-align: top;\n",
       "    }\n",
       "\n",
       "    .dataframe thead th {\n",
       "        text-align: right;\n",
       "    }\n",
       "</style>\n",
       "<table border=\"1\" class=\"dataframe\">\n",
       "  <thead>\n",
       "    <tr style=\"text-align: right;\">\n",
       "      <th></th>\n",
       "      <th>0</th>\n",
       "      <th>1</th>\n",
       "      <th>accuracy</th>\n",
       "      <th>macro avg</th>\n",
       "      <th>weighted avg</th>\n",
       "    </tr>\n",
       "  </thead>\n",
       "  <tbody>\n",
       "    <tr>\n",
       "      <th>precision</th>\n",
       "      <td>0.808745</td>\n",
       "      <td>0.700870</td>\n",
       "      <td>0.79299</td>\n",
       "      <td>0.754807</td>\n",
       "      <td>0.780084</td>\n",
       "    </tr>\n",
       "    <tr>\n",
       "      <th>recall</th>\n",
       "      <td>0.940505</td>\n",
       "      <td>0.385277</td>\n",
       "      <td>0.79299</td>\n",
       "      <td>0.662891</td>\n",
       "      <td>0.792990</td>\n",
       "    </tr>\n",
       "    <tr>\n",
       "      <th>f1-score</th>\n",
       "      <td>0.869663</td>\n",
       "      <td>0.497224</td>\n",
       "      <td>0.79299</td>\n",
       "      <td>0.683443</td>\n",
       "      <td>0.770711</td>\n",
       "    </tr>\n",
       "    <tr>\n",
       "      <th>support</th>\n",
       "      <td>2891.000000</td>\n",
       "      <td>1046.000000</td>\n",
       "      <td>0.79299</td>\n",
       "      <td>3937.000000</td>\n",
       "      <td>3937.000000</td>\n",
       "    </tr>\n",
       "  </tbody>\n",
       "</table>\n",
       "</div>"
      ],
      "text/plain": [
       "                     0            1  accuracy    macro avg  weighted avg\n",
       "precision     0.808745     0.700870   0.79299     0.754807      0.780084\n",
       "recall        0.940505     0.385277   0.79299     0.662891      0.792990\n",
       "f1-score      0.869663     0.497224   0.79299     0.683443      0.770711\n",
       "support    2891.000000  1046.000000   0.79299  3937.000000   3937.000000"
      ]
     },
     "execution_count": 69,
     "metadata": {},
     "output_type": "execute_result"
    }
   ],
   "source": [
    "pd.DataFrame(classification_report(y_train, y_pred, output_dict=True))"
   ]
  },
  {
   "cell_type": "code",
   "execution_count": 72,
   "id": "e66c0b2b",
   "metadata": {},
   "outputs": [
    {
     "name": "stdout",
     "output_type": "stream",
     "text": [
      "Accuracy: 0.7929895859791719\n",
      "True Positive Rate: 0.8087447947650208\n",
      "False Positive Rate: 0.2991304347826087\n",
      "True Negative Rate: 0.7008695652173913\n",
      "False Negative Rate: 0.1912552052349792\n",
      "Precision: 0.9405050155655482\n",
      "Recall: 0.8087447947650208\n",
      "F1 Score: 0.8696625619702542\n",
      "Support (0): 3362\n",
      "Support (1): 575\n"
     ]
    }
   ],
   "source": [
    "# If not churn is our positive case\n",
    "TP = 2719\n",
    "FP = 172\n",
    "FN = 643\n",
    "TN = 403\n",
    "ALL = TP + FP + FN + TN\n",
    "\n",
    "accuracy = (TP + TN)/ALL\n",
    "print(f\"Accuracy: {accuracy}\")\n",
    "\n",
    "true_positive_rate = TP/(TP+FN)\n",
    "print(f\"True Positive Rate: {true_positive_rate}\")\n",
    "\n",
    "false_positive_rate = FP/(FP+TN)\n",
    "print(f\"False Positive Rate: {false_positive_rate}\")\n",
    "\n",
    "true_negative_rate = TN/(TN+FP)\n",
    "print(f\"True Negative Rate: {true_negative_rate}\")\n",
    "\n",
    "false_negative_rate = FN/(FN+TP)\n",
    "print(f\"False Negative Rate: {false_negative_rate}\")\n",
    "\n",
    "precision = TP/(TP+FP)\n",
    "print(f\"Precision: {precision}\")\n",
    "\n",
    "recall = TP/(TP+FN)\n",
    "print(f\"Recall: {recall}\")\n",
    "\n",
    "f1_score = 2*(precision*recall)/(precision+recall)\n",
    "print(f\"F1 Score: {f1_score}\")\n",
    "\n",
    "support_pos = TP + FN\n",
    "print(f\"Support (0): {support_pos}\")\n",
    "\n",
    "support_neg = FP + TN\n",
    "print(f\"Support (1): {support_neg}\")"
   ]
  },
  {
   "cell_type": "code",
   "execution_count": 73,
   "id": "9498ad14",
   "metadata": {},
   "outputs": [
    {
     "name": "stdout",
     "output_type": "stream",
     "text": [
      "Tree with max depth of 1\n",
      "                     0            1  accuracy    macro avg  weighted avg\n",
      "precision     0.995154     0.984733   0.99238     0.989943      0.992385\n",
      "recall        0.994466     0.986616   0.99238     0.990541      0.992380\n",
      "f1-score      0.994810     0.985673   0.99238     0.990242      0.992382\n",
      "support    2891.000000  1046.000000   0.99238  3937.000000   3937.000000\n",
      "\n",
      "Tree with max depth of 2\n",
      "                     0            1  accuracy    macro avg  weighted avg\n",
      "precision     0.933090     0.919390  0.929896     0.926240      0.929450\n",
      "recall        0.974403     0.806883  0.929896     0.890643      0.929896\n",
      "f1-score      0.953299     0.859470  0.929896     0.906385      0.928371\n",
      "support    2891.000000  1046.000000  0.929896  3937.000000   3937.000000\n",
      "\n",
      "Tree with max depth of 3\n",
      "                     0            1  accuracy    macro avg  weighted avg\n",
      "precision     0.898151     0.857143  0.889256     0.877647      0.887256\n",
      "recall        0.957800     0.699809  0.889256     0.828804      0.889256\n",
      "f1-score      0.927017     0.770526  0.889256     0.848772      0.885440\n",
      "support    2891.000000  1046.000000  0.889256  3937.000000   3937.000000\n",
      "\n",
      "Tree with max depth of 4\n",
      "                     0            1  accuracy    macro avg  weighted avg\n",
      "precision     0.884987     0.827131  0.872746     0.856059      0.869616\n",
      "recall        0.950190     0.658700  0.872746     0.804445      0.872746\n",
      "f1-score      0.916430     0.733369  0.872746     0.824900      0.867794\n",
      "support    2891.000000  1046.000000  0.872746  3937.000000   3937.000000\n",
      "\n",
      "Tree with max depth of 5\n",
      "                     0            1  accuracy    macro avg  weighted avg\n",
      "precision     0.873674     0.790557  0.856236     0.832115      0.851591\n",
      "recall        0.940159     0.624283  0.856236     0.782221      0.856236\n",
      "f1-score      0.905698     0.697650  0.856236     0.801674      0.850423\n",
      "support    2891.000000  1046.000000  0.856236  3937.000000   3937.000000\n",
      "\n",
      "Tree with max depth of 6\n",
      "                     0            1  accuracy    macro avg  weighted avg\n",
      "precision     0.862583     0.779898  0.846076     0.821241      0.840615\n",
      "recall        0.940159     0.586042  0.846076     0.763101      0.846076\n",
      "f1-score      0.899702     0.669214  0.846076     0.784458      0.838465\n",
      "support    2891.000000  1046.000000  0.846076  3937.000000   3937.000000\n",
      "\n",
      "Tree with max depth of 7\n",
      "                     0            1  accuracy    macro avg  weighted avg\n",
      "precision     0.857188     0.758270   0.83744     0.807729      0.830907\n",
      "recall        0.934279     0.569790   0.83744     0.752034      0.837440\n",
      "f1-score      0.894075     0.650655   0.83744     0.772365      0.829402\n",
      "support    2891.000000  1046.000000   0.83744  3937.000000   3937.000000\n",
      "\n",
      "Tree with max depth of 8\n",
      "                     0            1  accuracy    macro avg  weighted avg\n",
      "precision     0.847244     0.736220  0.825756     0.791732      0.817747\n",
      "recall        0.930474     0.536329  0.825756     0.733401      0.825756\n",
      "f1-score      0.886911     0.620575  0.825756     0.753743      0.816149\n",
      "support    2891.000000  1046.000000  0.825756  3937.000000   3937.000000\n",
      "\n",
      "Tree with max depth of 9\n",
      "                     0            1  accuracy    macro avg  weighted avg\n",
      "precision     0.844389     0.728836    0.8222     0.786612      0.813688\n",
      "recall        0.929090     0.526769    0.8222     0.727929      0.822200\n",
      "f1-score      0.884717     0.611543    0.8222     0.748130      0.812139\n",
      "support    2891.000000  1046.000000    0.8222  3937.000000   3937.000000\n",
      "\n",
      "Tree with max depth of 10\n",
      "                     0            1  accuracy    macro avg  weighted avg\n",
      "precision     0.831029     0.727273  0.813056     0.779151      0.803463\n",
      "recall        0.935662     0.474187  0.813056     0.704925      0.813056\n",
      "f1-score      0.880247     0.574074  0.813056     0.727161      0.798902\n",
      "support    2891.000000  1046.000000  0.813056  3937.000000   3937.000000\n",
      "\n",
      "Tree with max depth of 11\n",
      "                     0            1  accuracy    macro avg  weighted avg\n",
      "precision     0.821677     0.720820  0.805436     0.771249      0.794881\n",
      "recall        0.938776     0.436902  0.805436     0.687839      0.805436\n",
      "f1-score      0.876332     0.544048  0.805436     0.710190      0.788049\n",
      "support    2891.000000  1046.000000  0.805436  3937.000000   3937.000000\n",
      "\n",
      "Tree with max depth of 12\n",
      "                     0            1  accuracy    macro avg  weighted avg\n",
      "precision     0.808972     0.705779  0.794006     0.757376      0.781555\n",
      "recall        0.941889     0.385277  0.794006     0.663583      0.794006\n",
      "f1-score      0.870385     0.498454  0.794006     0.684420      0.771569\n",
      "support    2891.000000  1046.000000  0.794006  3937.000000   3937.000000\n",
      "\n",
      "Tree with max depth of 13\n",
      "                     0            1  accuracy    macro avg  weighted avg\n",
      "precision     0.795631     0.731441  0.788164     0.763536      0.778577\n",
      "recall        0.957454     0.320268  0.788164     0.638861      0.788164\n",
      "f1-score      0.869074     0.445479  0.788164     0.657276      0.756531\n",
      "support    2891.000000  1046.000000  0.788164  3937.000000   3937.000000\n",
      "\n",
      "Tree with max depth of 14\n",
      "                     0            1  accuracy    macro avg  weighted avg\n",
      "precision     0.765259     0.793578  0.766828     0.779419      0.772783\n",
      "recall        0.984434     0.165392  0.766828     0.574913      0.766828\n",
      "f1-score      0.861120     0.273734  0.766828     0.567427      0.705060\n",
      "support    2891.000000  1046.000000  0.766828  3937.000000   3937.000000\n",
      "\n",
      "Tree with max depth of 15\n",
      "                     0       1  accuracy    macro avg  weighted avg\n",
      "precision     0.734315     0.0  0.734315     0.367158      0.539219\n",
      "recall        1.000000     0.0  0.734315     0.500000      0.734315\n",
      "f1-score      0.846807     0.0  0.734315     0.423404      0.621824\n",
      "support    2891.000000  1046.0  0.734315  3937.000000   3937.000000\n",
      "\n"
     ]
    }
   ],
   "source": [
    "max_depth = 16\n",
    "\n",
    "for i in range(1, max_depth):\n",
    "    # Create Model\n",
    "    depth = max_depth - i\n",
    "    n = i\n",
    "    forest = RandomForestClassifier(max_depth=depth, min_samples_leaf=n, random_state=123)\n",
    "\n",
    "    # Fit the model (on train and only train)\n",
    "    forest = forest.fit(X_train, y_train)\n",
    "\n",
    "    # Use the model\n",
    "    # We'll evaluate the model's performance on train, first\n",
    "    y_pred = forest.predict(X_train)\n",
    "\n",
    "    # Produce the classification report on the actual y values and this model's predicted y values\n",
    "    report = classification_report(y_train, y_pred, output_dict=True)\n",
    "    print(f\"Tree with max depth of {i}\")\n",
    "    print(pd.DataFrame(report))\n",
    "    print()"
   ]
  },
  {
   "cell_type": "code",
   "execution_count": 78,
   "id": "79737cfc",
   "metadata": {},
   "outputs": [
    {
     "data": {
      "text/html": [
       "<div>\n",
       "<style scoped>\n",
       "    .dataframe tbody tr th:only-of-type {\n",
       "        vertical-align: middle;\n",
       "    }\n",
       "\n",
       "    .dataframe tbody tr th {\n",
       "        vertical-align: top;\n",
       "    }\n",
       "\n",
       "    .dataframe thead th {\n",
       "        text-align: right;\n",
       "    }\n",
       "</style>\n",
       "<table border=\"1\" class=\"dataframe\">\n",
       "  <thead>\n",
       "    <tr style=\"text-align: right;\">\n",
       "      <th></th>\n",
       "      <th>max_depth</th>\n",
       "      <th>train_accuracy</th>\n",
       "      <th>validate_accuracy</th>\n",
       "      <th>difference</th>\n",
       "    </tr>\n",
       "  </thead>\n",
       "  <tbody>\n",
       "    <tr>\n",
       "      <th>0</th>\n",
       "      <td>1</td>\n",
       "      <td>0.734315</td>\n",
       "      <td>0.734005</td>\n",
       "      <td>0.000311</td>\n",
       "    </tr>\n",
       "    <tr>\n",
       "      <th>1</th>\n",
       "      <td>2</td>\n",
       "      <td>0.767082</td>\n",
       "      <td>0.752962</td>\n",
       "      <td>0.014119</td>\n",
       "    </tr>\n",
       "    <tr>\n",
       "      <th>2</th>\n",
       "      <td>3</td>\n",
       "      <td>0.792990</td>\n",
       "      <td>0.792062</td>\n",
       "      <td>0.000928</td>\n",
       "    </tr>\n",
       "    <tr>\n",
       "      <th>3</th>\n",
       "      <td>4</td>\n",
       "      <td>0.793498</td>\n",
       "      <td>0.790877</td>\n",
       "      <td>0.002621</td>\n",
       "    </tr>\n",
       "    <tr>\n",
       "      <th>4</th>\n",
       "      <td>5</td>\n",
       "      <td>0.807722</td>\n",
       "      <td>0.775474</td>\n",
       "      <td>0.032248</td>\n",
       "    </tr>\n",
       "  </tbody>\n",
       "</table>\n",
       "</div>"
      ],
      "text/plain": [
       "   max_depth  train_accuracy  validate_accuracy  difference\n",
       "0          1        0.734315           0.734005    0.000311\n",
       "1          2        0.767082           0.752962    0.014119\n",
       "2          3        0.792990           0.792062    0.000928\n",
       "3          4        0.793498           0.790877    0.002621\n",
       "4          5        0.807722           0.775474    0.032248"
      ]
     },
     "execution_count": 78,
     "metadata": {},
     "output_type": "execute_result"
    }
   ],
   "source": [
    "threshold = 0.10  #threshold set for amount of overfit that is tolerated\n",
    "\n",
    "models = []\n",
    "metrics = []\n",
    "\n",
    "for i in range(1, 11):\n",
    "    tree = DecisionTreeClassifier(max_depth=i, random_state=123)\n",
    "    #^^^ creates the model\n",
    "    \n",
    "    tree = tree.fit(X_train, y_train)   #fit model to train data and only TRAIN data\n",
    "    \n",
    "    in_sample_accuracy = tree.score(X_train, y_train)\n",
    "    out_sample_accuracy = tree.score(X_validate, y_validate)\n",
    "    #^^^evaluates the models performance on train data first\n",
    "    \n",
    "    difference = in_sample_accuracy - out_sample_accuracy\n",
    "    #^^calculates the difference in accuracy\n",
    "    \n",
    "    if difference > threshold:\n",
    "        break\n",
    "    #^^adds conditions to check the accuracy vs the threshold\n",
    "    \n",
    "    output = {\n",
    "        'max_depth': i,\n",
    "        'train_accuracy': in_sample_accuracy,\n",
    "        'validate_accuracy': out_sample_accuracy,\n",
    "        'difference': difference}\n",
    "    #^^^formats the output for each models performance o train and validate\n",
    "    \n",
    "    metrics.append(output)\n",
    "    \n",
    "    models.append(output)\n",
    "    \n",
    "model_df = pd.DataFrame(metrics)\n",
    "model_df[\"difference\"] = model_df.train_accuracy - model_df.validate_accuracy\n",
    "\n",
    "\n",
    "model_df.head()"
   ]
  },
  {
   "cell_type": "markdown",
   "id": "a3ee29df",
   "metadata": {},
   "source": [
    "best model: \n",
    "\n",
    "\n",
    "2\t3\t0.792990\t0.792062\t0.000928"
   ]
  },
  {
   "cell_type": "markdown",
   "id": "636f0191",
   "metadata": {},
   "source": [
    "### Random Forest"
   ]
  },
  {
   "cell_type": "code",
   "execution_count": 79,
   "id": "83357293",
   "metadata": {},
   "outputs": [],
   "source": [
    "# create model\n",
    "rf1_clf = RandomForestClassifier(max_depth=10, min_samples_leaf=1, random_state=123)"
   ]
  },
  {
   "cell_type": "code",
   "execution_count": 80,
   "id": "3df10dfa",
   "metadata": {},
   "outputs": [
    {
     "data": {
      "text/plain": [
       "RandomForestClassifier(max_depth=10, random_state=123)"
      ]
     },
     "execution_count": 80,
     "metadata": {},
     "output_type": "execute_result"
    }
   ],
   "source": [
    "rf1_clf"
   ]
  },
  {
   "cell_type": "code",
   "execution_count": 81,
   "id": "377d6d0f",
   "metadata": {},
   "outputs": [
    {
     "data": {
      "text/plain": [
       "RandomForestClassifier(max_depth=10, random_state=123)"
      ]
     },
     "execution_count": 81,
     "metadata": {},
     "output_type": "execute_result"
    }
   ],
   "source": [
    "rf1_clf.fit(X_train, y_train)"
   ]
  },
  {
   "cell_type": "code",
   "execution_count": 82,
   "id": "5c1b2146",
   "metadata": {},
   "outputs": [
    {
     "name": "stdout",
     "output_type": "stream",
     "text": [
      "[0.01886718 0.01602698 0.01489466 0.15082057 0.00882784 0.0144629\n",
      " 0.03165066 0.01571731 0.01268921 0.02527509 0.01375405 0.01318571\n",
      " 0.02339307 0.14458664 0.15197846 0.01260945 0.10040794 0.02282037\n",
      " 0.03782997 0.0172297  0.06062208 0.02237393 0.00829649 0.00917794\n",
      " 0.04260925 0.00989254]\n"
     ]
    }
   ],
   "source": [
    "print(rf1_clf.feature_importances_)"
   ]
  },
  {
   "cell_type": "code",
   "execution_count": 83,
   "id": "e1176ee4",
   "metadata": {},
   "outputs": [
    {
     "data": {
      "text/plain": [
       "array([0, 0, 0, ..., 0, 0, 1])"
      ]
     },
     "execution_count": 83,
     "metadata": {},
     "output_type": "execute_result"
    }
   ],
   "source": [
    "y_pred = rf1_clf.predict(X_train)\n",
    "y_pred"
   ]
  },
  {
   "cell_type": "code",
   "execution_count": 84,
   "id": "a9594e60",
   "metadata": {},
   "outputs": [],
   "source": [
    "y_pred_proba = rf1_clf.predict_proba(X_train)"
   ]
  },
  {
   "cell_type": "code",
   "execution_count": 85,
   "id": "0db8288f",
   "metadata": {},
   "outputs": [
    {
     "name": "stdout",
     "output_type": "stream",
     "text": [
      "Accuracy of random forest classifier on training set: 0.89\n"
     ]
    }
   ],
   "source": [
    "print('Accuracy of random forest classifier on training set: {:.2f}'\n",
    "     .format(rf1_clf.score(X_train, y_train)))"
   ]
  },
  {
   "cell_type": "code",
   "execution_count": 87,
   "id": "1ac5dc4d",
   "metadata": {},
   "outputs": [
    {
     "name": "stdout",
     "output_type": "stream",
     "text": [
      "[[2754  137]\n",
      " [ 283  763]]\n"
     ]
    }
   ],
   "source": [
    "print(confusion_matrix(y_train, y_pred))"
   ]
  },
  {
   "cell_type": "code",
   "execution_count": 88,
   "id": "e691abf0",
   "metadata": {},
   "outputs": [
    {
     "data": {
      "text/html": [
       "<div>\n",
       "<style scoped>\n",
       "    .dataframe tbody tr th:only-of-type {\n",
       "        vertical-align: middle;\n",
       "    }\n",
       "\n",
       "    .dataframe tbody tr th {\n",
       "        vertical-align: top;\n",
       "    }\n",
       "\n",
       "    .dataframe thead th {\n",
       "        text-align: right;\n",
       "    }\n",
       "</style>\n",
       "<table border=\"1\" class=\"dataframe\">\n",
       "  <thead>\n",
       "    <tr style=\"text-align: right;\">\n",
       "      <th></th>\n",
       "      <th>0</th>\n",
       "      <th>1</th>\n",
       "    </tr>\n",
       "  </thead>\n",
       "  <tbody>\n",
       "    <tr>\n",
       "      <th>0</th>\n",
       "      <td>2754</td>\n",
       "      <td>137</td>\n",
       "    </tr>\n",
       "    <tr>\n",
       "      <th>1</th>\n",
       "      <td>283</td>\n",
       "      <td>763</td>\n",
       "    </tr>\n",
       "  </tbody>\n",
       "</table>\n",
       "</div>"
      ],
      "text/plain": [
       "      0    1\n",
       "0  2754  137\n",
       "1   283  763"
      ]
     },
     "execution_count": 88,
     "metadata": {},
     "output_type": "execute_result"
    }
   ],
   "source": [
    "pd.DataFrame(confusion_matrix(y_train, y_pred))"
   ]
  },
  {
   "cell_type": "code",
   "execution_count": 89,
   "id": "e3a45608",
   "metadata": {},
   "outputs": [
    {
     "name": "stdout",
     "output_type": "stream",
     "text": [
      "              precision    recall  f1-score   support\n",
      "\n",
      "           0       0.91      0.95      0.93      2891\n",
      "           1       0.85      0.73      0.78      1046\n",
      "\n",
      "    accuracy                           0.89      3937\n",
      "   macro avg       0.88      0.84      0.86      3937\n",
      "weighted avg       0.89      0.89      0.89      3937\n",
      "\n"
     ]
    }
   ],
   "source": [
    "print(classification_report(y_train, y_pred))"
   ]
  },
  {
   "cell_type": "code",
   "execution_count": 90,
   "id": "ca4f0156",
   "metadata": {},
   "outputs": [
    {
     "name": "stdout",
     "output_type": "stream",
     "text": [
      "Tree1 depth\n"
     ]
    },
    {
     "data": {
      "text/html": [
       "<div>\n",
       "<style scoped>\n",
       "    .dataframe tbody tr th:only-of-type {\n",
       "        vertical-align: middle;\n",
       "    }\n",
       "\n",
       "    .dataframe tbody tr th {\n",
       "        vertical-align: top;\n",
       "    }\n",
       "\n",
       "    .dataframe thead th {\n",
       "        text-align: right;\n",
       "    }\n",
       "</style>\n",
       "<table border=\"1\" class=\"dataframe\">\n",
       "  <thead>\n",
       "    <tr style=\"text-align: right;\">\n",
       "      <th></th>\n",
       "      <th>0</th>\n",
       "      <th>1</th>\n",
       "      <th>accuracy</th>\n",
       "      <th>macro avg</th>\n",
       "      <th>weighted avg</th>\n",
       "    </tr>\n",
       "  </thead>\n",
       "  <tbody>\n",
       "    <tr>\n",
       "      <th>precision</th>\n",
       "      <td>0.906816</td>\n",
       "      <td>0.847778</td>\n",
       "      <td>0.89332</td>\n",
       "      <td>0.877297</td>\n",
       "      <td>0.891130</td>\n",
       "    </tr>\n",
       "    <tr>\n",
       "      <th>recall</th>\n",
       "      <td>0.952612</td>\n",
       "      <td>0.729446</td>\n",
       "      <td>0.89332</td>\n",
       "      <td>0.841029</td>\n",
       "      <td>0.893320</td>\n",
       "    </tr>\n",
       "    <tr>\n",
       "      <th>f1-score</th>\n",
       "      <td>0.929150</td>\n",
       "      <td>0.784173</td>\n",
       "      <td>0.89332</td>\n",
       "      <td>0.856661</td>\n",
       "      <td>0.890632</td>\n",
       "    </tr>\n",
       "    <tr>\n",
       "      <th>support</th>\n",
       "      <td>2891.000000</td>\n",
       "      <td>1046.000000</td>\n",
       "      <td>0.89332</td>\n",
       "      <td>3937.000000</td>\n",
       "      <td>3937.000000</td>\n",
       "    </tr>\n",
       "  </tbody>\n",
       "</table>\n",
       "</div>"
      ],
      "text/plain": [
       "                     0            1  accuracy    macro avg  weighted avg\n",
       "precision     0.906816     0.847778   0.89332     0.877297      0.891130\n",
       "recall        0.952612     0.729446   0.89332     0.841029      0.893320\n",
       "f1-score      0.929150     0.784173   0.89332     0.856661      0.890632\n",
       "support    2891.000000  1046.000000   0.89332  3937.000000   3937.000000"
      ]
     },
     "execution_count": 90,
     "metadata": {},
     "output_type": "execute_result"
    }
   ],
   "source": [
    "class_report = classification_report(y_train, y_pred, output_dict=(True))\n",
    "print(\"Tree1 depth\")\n",
    "pd.DataFrame(class_report)"
   ]
  },
  {
   "cell_type": "code",
   "execution_count": 91,
   "id": "05f95528",
   "metadata": {},
   "outputs": [
    {
     "name": "stdout",
     "output_type": "stream",
     "text": [
      "Accuracy: 0.8933197866395732\n",
      "True Positive Rate: 0.9068159367797168\n",
      "False Positive Rate: 0.15222222222222223\n",
      "True Negative Rate: 0.8477777777777777\n",
      "False Negative Rate: 0.09318406322028318\n",
      "Precision: 0.9526115530958146\n",
      "Recall: 0.9068159367797168\n",
      "F1 Score: 0.9291497975708501\n",
      "Support (0): 3037\n",
      "Support (1): 900\n"
     ]
    }
   ],
   "source": [
    "# If not churned is our positive case\n",
    "TP = 2754\n",
    "FP = 137\n",
    "FN = 283\n",
    "TN = 763\n",
    "ALL = TP + FP + FN + TN\n",
    "\n",
    "accuracy = (TP + TN)/ALL\n",
    "print(f\"Accuracy: {accuracy}\")\n",
    "\n",
    "true_positive_rate = TP/(TP+FN)\n",
    "print(f\"True Positive Rate: {true_positive_rate}\")\n",
    "\n",
    "false_positive_rate = FP/(FP+TN)\n",
    "print(f\"False Positive Rate: {false_positive_rate}\")\n",
    "\n",
    "true_negative_rate = TN/(TN+FP)\n",
    "print(f\"True Negative Rate: {true_negative_rate}\")\n",
    "\n",
    "false_negative_rate = FN/(FN+TP)\n",
    "print(f\"False Negative Rate: {false_negative_rate}\")\n",
    "\n",
    "precision = TP/(TP+FP)\n",
    "print(f\"Precision: {precision}\")\n",
    "\n",
    "recall = TP/(TP+FN)\n",
    "print(f\"Recall: {recall}\")\n",
    "\n",
    "f1_score = 2*(precision*recall)/(precision+recall)\n",
    "print(f\"F1 Score: {f1_score}\")\n",
    "\n",
    "support_pos = TP + FN\n",
    "print(f\"Support (0): {support_pos}\")\n",
    "\n",
    "support_neg = FP + TN\n",
    "print(f\"Support (1): {support_neg}\")"
   ]
  },
  {
   "cell_type": "code",
   "execution_count": 92,
   "id": "2a3c3fb3",
   "metadata": {},
   "outputs": [
    {
     "name": "stdout",
     "output_type": "stream",
     "text": [
      "Tree with max depth of 1\n",
      "                     0            1  accuracy    macro avg  weighted avg\n",
      "precision     0.995154     0.984733   0.99238     0.989943      0.992385\n",
      "recall        0.994466     0.986616   0.99238     0.990541      0.992380\n",
      "f1-score      0.994810     0.985673   0.99238     0.990242      0.992382\n",
      "support    2891.000000  1046.000000   0.99238  3937.000000   3937.000000\n",
      "\n",
      "Tree with max depth of 2\n",
      "                     0            1  accuracy    macro avg  weighted avg\n",
      "precision     0.933090     0.919390  0.929896     0.926240      0.929450\n",
      "recall        0.974403     0.806883  0.929896     0.890643      0.929896\n",
      "f1-score      0.953299     0.859470  0.929896     0.906385      0.928371\n",
      "support    2891.000000  1046.000000  0.929896  3937.000000   3937.000000\n",
      "\n",
      "Tree with max depth of 3\n",
      "                     0            1  accuracy    macro avg  weighted avg\n",
      "precision     0.898151     0.857143  0.889256     0.877647      0.887256\n",
      "recall        0.957800     0.699809  0.889256     0.828804      0.889256\n",
      "f1-score      0.927017     0.770526  0.889256     0.848772      0.885440\n",
      "support    2891.000000  1046.000000  0.889256  3937.000000   3937.000000\n",
      "\n",
      "Tree with max depth of 4\n",
      "                     0            1  accuracy    macro avg  weighted avg\n",
      "precision     0.884987     0.827131  0.872746     0.856059      0.869616\n",
      "recall        0.950190     0.658700  0.872746     0.804445      0.872746\n",
      "f1-score      0.916430     0.733369  0.872746     0.824900      0.867794\n",
      "support    2891.000000  1046.000000  0.872746  3937.000000   3937.000000\n",
      "\n",
      "Tree with max depth of 5\n",
      "                     0            1  accuracy    macro avg  weighted avg\n",
      "precision     0.873674     0.790557  0.856236     0.832115      0.851591\n",
      "recall        0.940159     0.624283  0.856236     0.782221      0.856236\n",
      "f1-score      0.905698     0.697650  0.856236     0.801674      0.850423\n",
      "support    2891.000000  1046.000000  0.856236  3937.000000   3937.000000\n",
      "\n",
      "Tree with max depth of 6\n",
      "                     0            1  accuracy    macro avg  weighted avg\n",
      "precision     0.862583     0.779898  0.846076     0.821241      0.840615\n",
      "recall        0.940159     0.586042  0.846076     0.763101      0.846076\n",
      "f1-score      0.899702     0.669214  0.846076     0.784458      0.838465\n",
      "support    2891.000000  1046.000000  0.846076  3937.000000   3937.000000\n",
      "\n",
      "Tree with max depth of 7\n",
      "                     0            1  accuracy    macro avg  weighted avg\n",
      "precision     0.857188     0.758270   0.83744     0.807729      0.830907\n",
      "recall        0.934279     0.569790   0.83744     0.752034      0.837440\n",
      "f1-score      0.894075     0.650655   0.83744     0.772365      0.829402\n",
      "support    2891.000000  1046.000000   0.83744  3937.000000   3937.000000\n",
      "\n",
      "Tree with max depth of 8\n",
      "                     0            1  accuracy    macro avg  weighted avg\n",
      "precision     0.847244     0.736220  0.825756     0.791732      0.817747\n",
      "recall        0.930474     0.536329  0.825756     0.733401      0.825756\n",
      "f1-score      0.886911     0.620575  0.825756     0.753743      0.816149\n",
      "support    2891.000000  1046.000000  0.825756  3937.000000   3937.000000\n",
      "\n",
      "Tree with max depth of 9\n",
      "                     0            1  accuracy    macro avg  weighted avg\n",
      "precision     0.844389     0.728836    0.8222     0.786612      0.813688\n",
      "recall        0.929090     0.526769    0.8222     0.727929      0.822200\n",
      "f1-score      0.884717     0.611543    0.8222     0.748130      0.812139\n",
      "support    2891.000000  1046.000000    0.8222  3937.000000   3937.000000\n",
      "\n",
      "Tree with max depth of 10\n",
      "                     0            1  accuracy    macro avg  weighted avg\n",
      "precision     0.831029     0.727273  0.813056     0.779151      0.803463\n",
      "recall        0.935662     0.474187  0.813056     0.704925      0.813056\n",
      "f1-score      0.880247     0.574074  0.813056     0.727161      0.798902\n",
      "support    2891.000000  1046.000000  0.813056  3937.000000   3937.000000\n",
      "\n",
      "Tree with max depth of 11\n",
      "                     0            1  accuracy    macro avg  weighted avg\n",
      "precision     0.821677     0.720820  0.805436     0.771249      0.794881\n",
      "recall        0.938776     0.436902  0.805436     0.687839      0.805436\n",
      "f1-score      0.876332     0.544048  0.805436     0.710190      0.788049\n",
      "support    2891.000000  1046.000000  0.805436  3937.000000   3937.000000\n",
      "\n",
      "Tree with max depth of 12\n",
      "                     0            1  accuracy    macro avg  weighted avg\n",
      "precision     0.808972     0.705779  0.794006     0.757376      0.781555\n",
      "recall        0.941889     0.385277  0.794006     0.663583      0.794006\n",
      "f1-score      0.870385     0.498454  0.794006     0.684420      0.771569\n",
      "support    2891.000000  1046.000000  0.794006  3937.000000   3937.000000\n",
      "\n",
      "Tree with max depth of 13\n",
      "                     0            1  accuracy    macro avg  weighted avg\n",
      "precision     0.795631     0.731441  0.788164     0.763536      0.778577\n",
      "recall        0.957454     0.320268  0.788164     0.638861      0.788164\n",
      "f1-score      0.869074     0.445479  0.788164     0.657276      0.756531\n",
      "support    2891.000000  1046.000000  0.788164  3937.000000   3937.000000\n",
      "\n",
      "Tree with max depth of 14\n",
      "                     0            1  accuracy    macro avg  weighted avg\n",
      "precision     0.765259     0.793578  0.766828     0.779419      0.772783\n",
      "recall        0.984434     0.165392  0.766828     0.574913      0.766828\n",
      "f1-score      0.861120     0.273734  0.766828     0.567427      0.705060\n",
      "support    2891.000000  1046.000000  0.766828  3937.000000   3937.000000\n",
      "\n",
      "Tree with max depth of 15\n",
      "                     0       1  accuracy    macro avg  weighted avg\n",
      "precision     0.734315     0.0  0.734315     0.367158      0.539219\n",
      "recall        1.000000     0.0  0.734315     0.500000      0.734315\n",
      "f1-score      0.846807     0.0  0.734315     0.423404      0.621824\n",
      "support    2891.000000  1046.0  0.734315  3937.000000   3937.000000\n",
      "\n"
     ]
    }
   ],
   "source": [
    "max_depth = 16\n",
    "\n",
    "for i in range(1, max_depth):\n",
    "    # Create Model\n",
    "    depth = max_depth - i\n",
    "    n = i\n",
    "    forest = RandomForestClassifier(max_depth=depth, min_samples_leaf=n, random_state=123)\n",
    "\n",
    "    # Fit the model (on train and only train)\n",
    "    forest = forest.fit(X_train, y_train)\n",
    "\n",
    "    # Use the model\n",
    "    # We'll evaluate the model's performance on train, first\n",
    "    y_pred = forest.predict(X_train)\n",
    "\n",
    "    # Produce the classification report on the actual y values and this model's predicted y values\n",
    "    report = classification_report(y_train, y_pred, output_dict=True)\n",
    "    print(f\"Tree with max depth of {i}\")\n",
    "    print(pd.DataFrame(report))\n",
    "    print()"
   ]
  },
  {
   "cell_type": "code",
   "execution_count": 97,
   "id": "55d4838f",
   "metadata": {},
   "outputs": [
    {
     "data": {
      "text/html": [
       "<div>\n",
       "<style scoped>\n",
       "    .dataframe tbody tr th:only-of-type {\n",
       "        vertical-align: middle;\n",
       "    }\n",
       "\n",
       "    .dataframe tbody tr th {\n",
       "        vertical-align: top;\n",
       "    }\n",
       "\n",
       "    .dataframe thead th {\n",
       "        text-align: right;\n",
       "    }\n",
       "</style>\n",
       "<table border=\"1\" class=\"dataframe\">\n",
       "  <thead>\n",
       "    <tr style=\"text-align: right;\">\n",
       "      <th></th>\n",
       "      <th>min_samples_per_leaf</th>\n",
       "      <th>max_depth</th>\n",
       "      <th>train_accuracy</th>\n",
       "      <th>validate_accuracy</th>\n",
       "      <th>difference</th>\n",
       "    </tr>\n",
       "  </thead>\n",
       "  <tbody>\n",
       "    <tr>\n",
       "      <th>0</th>\n",
       "      <td>1</td>\n",
       "      <td>15</td>\n",
       "      <td>0.992380</td>\n",
       "      <td>0.779621</td>\n",
       "      <td>0.212759</td>\n",
       "    </tr>\n",
       "    <tr>\n",
       "      <th>1</th>\n",
       "      <td>2</td>\n",
       "      <td>14</td>\n",
       "      <td>0.929896</td>\n",
       "      <td>0.781398</td>\n",
       "      <td>0.148498</td>\n",
       "    </tr>\n",
       "    <tr>\n",
       "      <th>2</th>\n",
       "      <td>3</td>\n",
       "      <td>13</td>\n",
       "      <td>0.889256</td>\n",
       "      <td>0.789692</td>\n",
       "      <td>0.099564</td>\n",
       "    </tr>\n",
       "    <tr>\n",
       "      <th>3</th>\n",
       "      <td>4</td>\n",
       "      <td>12</td>\n",
       "      <td>0.872746</td>\n",
       "      <td>0.788507</td>\n",
       "      <td>0.084239</td>\n",
       "    </tr>\n",
       "    <tr>\n",
       "      <th>4</th>\n",
       "      <td>5</td>\n",
       "      <td>11</td>\n",
       "      <td>0.856236</td>\n",
       "      <td>0.795024</td>\n",
       "      <td>0.061212</td>\n",
       "    </tr>\n",
       "    <tr>\n",
       "      <th>5</th>\n",
       "      <td>6</td>\n",
       "      <td>10</td>\n",
       "      <td>0.846076</td>\n",
       "      <td>0.794431</td>\n",
       "      <td>0.051644</td>\n",
       "    </tr>\n",
       "    <tr>\n",
       "      <th>6</th>\n",
       "      <td>7</td>\n",
       "      <td>9</td>\n",
       "      <td>0.837440</td>\n",
       "      <td>0.793839</td>\n",
       "      <td>0.043601</td>\n",
       "    </tr>\n",
       "    <tr>\n",
       "      <th>7</th>\n",
       "      <td>8</td>\n",
       "      <td>8</td>\n",
       "      <td>0.825756</td>\n",
       "      <td>0.794431</td>\n",
       "      <td>0.031324</td>\n",
       "    </tr>\n",
       "    <tr>\n",
       "      <th>8</th>\n",
       "      <td>9</td>\n",
       "      <td>7</td>\n",
       "      <td>0.822200</td>\n",
       "      <td>0.795616</td>\n",
       "      <td>0.026584</td>\n",
       "    </tr>\n",
       "    <tr>\n",
       "      <th>9</th>\n",
       "      <td>10</td>\n",
       "      <td>6</td>\n",
       "      <td>0.813056</td>\n",
       "      <td>0.799171</td>\n",
       "      <td>0.013885</td>\n",
       "    </tr>\n",
       "    <tr>\n",
       "      <th>10</th>\n",
       "      <td>11</td>\n",
       "      <td>5</td>\n",
       "      <td>0.805436</td>\n",
       "      <td>0.800948</td>\n",
       "      <td>0.004488</td>\n",
       "    </tr>\n",
       "    <tr>\n",
       "      <th>11</th>\n",
       "      <td>12</td>\n",
       "      <td>4</td>\n",
       "      <td>0.794006</td>\n",
       "      <td>0.792654</td>\n",
       "      <td>0.001352</td>\n",
       "    </tr>\n",
       "    <tr>\n",
       "      <th>12</th>\n",
       "      <td>13</td>\n",
       "      <td>3</td>\n",
       "      <td>0.788164</td>\n",
       "      <td>0.784360</td>\n",
       "      <td>0.003803</td>\n",
       "    </tr>\n",
       "    <tr>\n",
       "      <th>13</th>\n",
       "      <td>14</td>\n",
       "      <td>2</td>\n",
       "      <td>0.766828</td>\n",
       "      <td>0.764810</td>\n",
       "      <td>0.002017</td>\n",
       "    </tr>\n",
       "    <tr>\n",
       "      <th>14</th>\n",
       "      <td>15</td>\n",
       "      <td>1</td>\n",
       "      <td>0.734315</td>\n",
       "      <td>0.734005</td>\n",
       "      <td>0.000311</td>\n",
       "    </tr>\n",
       "  </tbody>\n",
       "</table>\n",
       "</div>"
      ],
      "text/plain": [
       "    min_samples_per_leaf  max_depth  train_accuracy  validate_accuracy  \\\n",
       "0                      1         15        0.992380           0.779621   \n",
       "1                      2         14        0.929896           0.781398   \n",
       "2                      3         13        0.889256           0.789692   \n",
       "3                      4         12        0.872746           0.788507   \n",
       "4                      5         11        0.856236           0.795024   \n",
       "5                      6         10        0.846076           0.794431   \n",
       "6                      7          9        0.837440           0.793839   \n",
       "7                      8          8        0.825756           0.794431   \n",
       "8                      9          7        0.822200           0.795616   \n",
       "9                     10          6        0.813056           0.799171   \n",
       "10                    11          5        0.805436           0.800948   \n",
       "11                    12          4        0.794006           0.792654   \n",
       "12                    13          3        0.788164           0.784360   \n",
       "13                    14          2        0.766828           0.764810   \n",
       "14                    15          1        0.734315           0.734005   \n",
       "\n",
       "    difference  \n",
       "0     0.212759  \n",
       "1     0.148498  \n",
       "2     0.099564  \n",
       "3     0.084239  \n",
       "4     0.061212  \n",
       "5     0.051644  \n",
       "6     0.043601  \n",
       "7     0.031324  \n",
       "8     0.026584  \n",
       "9     0.013885  \n",
       "10    0.004488  \n",
       "11    0.001352  \n",
       "12    0.003803  \n",
       "13    0.002017  \n",
       "14    0.000311  "
      ]
     },
     "execution_count": 97,
     "metadata": {},
     "output_type": "execute_result"
    }
   ],
   "source": [
    "metrics = []\n",
    "max_depth = 16\n",
    "\n",
    "for i in range(1, max_depth):\n",
    "    # Create model\n",
    "    depth = max_depth - i\n",
    "    n = i\n",
    "    forest = RandomForestClassifier(max_depth=depth, min_samples_leaf=n, random_state=123)\n",
    "\n",
    "    # Fit the model (on train and only train)\n",
    "    forest = forest.fit(X_train, y_train)\n",
    "\n",
    "    # Use the model\n",
    "    # We'll evaluate the model's performance on train, first\n",
    "    in_sample_accuracy = forest.score(X_train, y_train)\n",
    "    \n",
    "    out_of_sample_accuracy = forest.score(X_validate, y_validate)\n",
    "\n",
    "    output = {\n",
    "        \"min_samples_per_leaf\": n,\n",
    "        \"max_depth\": depth,\n",
    "        \"train_accuracy\": in_sample_accuracy,\n",
    "        \"validate_accuracy\": out_of_sample_accuracy\n",
    "    }\n",
    "    \n",
    "    metrics.append(output)\n",
    "    \n",
    "df = pd.DataFrame(metrics)\n",
    "df[\"difference\"] = df.train_accuracy - df.validate_accuracy\n",
    "df"
   ]
  },
  {
   "cell_type": "markdown",
   "id": "7e715c46",
   "metadata": {},
   "source": [
    "best model:\n",
    "\n",
    "10\t11\t5\t0.805436\t0.800948\t0.004488\n",
    "\n"
   ]
  },
  {
   "cell_type": "markdown",
   "id": "17aac85b",
   "metadata": {},
   "source": [
    "### KNN"
   ]
  },
  {
   "cell_type": "code",
   "execution_count": 98,
   "id": "bfd0fcb5",
   "metadata": {},
   "outputs": [],
   "source": [
    "knn = KNeighborsClassifier(n_neighbors=5, weights='uniform')"
   ]
  },
  {
   "cell_type": "code",
   "execution_count": 99,
   "id": "07a5529f",
   "metadata": {},
   "outputs": [
    {
     "data": {
      "text/plain": [
       "KNeighborsClassifier()"
      ]
     },
     "execution_count": 99,
     "metadata": {},
     "output_type": "execute_result"
    }
   ],
   "source": [
    "knn.fit(X_train, y_train)"
   ]
  },
  {
   "cell_type": "code",
   "execution_count": 100,
   "id": "d4d1151f",
   "metadata": {},
   "outputs": [],
   "source": [
    "y_pred = knn.predict(X_train)"
   ]
  },
  {
   "cell_type": "code",
   "execution_count": 101,
   "id": "58ef0967",
   "metadata": {},
   "outputs": [],
   "source": [
    "#y_pred\n",
    "y_pred_proba = knn.predict_proba(X_train)"
   ]
  },
  {
   "cell_type": "code",
   "execution_count": 102,
   "id": "7aabbdc1",
   "metadata": {},
   "outputs": [
    {
     "name": "stdout",
     "output_type": "stream",
     "text": [
      "Accuracy of KNN classifier on training set: 0.82\n"
     ]
    }
   ],
   "source": [
    "# Accuracy\n",
    "print('Accuracy of KNN classifier on training set: {:.2f}'\n",
    "     .format(knn.score(X_train, y_train)))"
   ]
  },
  {
   "cell_type": "code",
   "execution_count": 103,
   "id": "69bbb2df",
   "metadata": {},
   "outputs": [
    {
     "name": "stdout",
     "output_type": "stream",
     "text": [
      "[[2665  226]\n",
      " [ 471  575]]\n"
     ]
    }
   ],
   "source": [
    "# confusion matrix\n",
    "print(confusion_matrix(y_train, y_pred))"
   ]
  },
  {
   "cell_type": "code",
   "execution_count": 104,
   "id": "9e9e6e15",
   "metadata": {},
   "outputs": [
    {
     "data": {
      "text/html": [
       "<div>\n",
       "<style scoped>\n",
       "    .dataframe tbody tr th:only-of-type {\n",
       "        vertical-align: middle;\n",
       "    }\n",
       "\n",
       "    .dataframe tbody tr th {\n",
       "        vertical-align: top;\n",
       "    }\n",
       "\n",
       "    .dataframe thead th {\n",
       "        text-align: right;\n",
       "    }\n",
       "</style>\n",
       "<table border=\"1\" class=\"dataframe\">\n",
       "  <thead>\n",
       "    <tr style=\"text-align: right;\">\n",
       "      <th></th>\n",
       "      <th>0</th>\n",
       "      <th>1</th>\n",
       "    </tr>\n",
       "  </thead>\n",
       "  <tbody>\n",
       "    <tr>\n",
       "      <th>0</th>\n",
       "      <td>2665</td>\n",
       "      <td>226</td>\n",
       "    </tr>\n",
       "    <tr>\n",
       "      <th>1</th>\n",
       "      <td>471</td>\n",
       "      <td>575</td>\n",
       "    </tr>\n",
       "  </tbody>\n",
       "</table>\n",
       "</div>"
      ],
      "text/plain": [
       "      0    1\n",
       "0  2665  226\n",
       "1   471  575"
      ]
     },
     "execution_count": 104,
     "metadata": {},
     "output_type": "execute_result"
    }
   ],
   "source": [
    "pd.DataFrame(confusion_matrix(y_train, y_pred))"
   ]
  },
  {
   "cell_type": "code",
   "execution_count": 105,
   "id": "48c21319",
   "metadata": {},
   "outputs": [
    {
     "name": "stdout",
     "output_type": "stream",
     "text": [
      "              precision    recall  f1-score   support\n",
      "\n",
      "           0       0.85      0.92      0.88      2891\n",
      "           1       0.72      0.55      0.62      1046\n",
      "\n",
      "    accuracy                           0.82      3937\n",
      "   macro avg       0.78      0.74      0.75      3937\n",
      "weighted avg       0.81      0.82      0.81      3937\n",
      "\n"
     ]
    }
   ],
   "source": [
    "# classification report\n",
    "print(classification_report(y_train, y_pred))"
   ]
  },
  {
   "cell_type": "code",
   "execution_count": 106,
   "id": "369af957",
   "metadata": {},
   "outputs": [
    {
     "data": {
      "text/html": [
       "<div>\n",
       "<style scoped>\n",
       "    .dataframe tbody tr th:only-of-type {\n",
       "        vertical-align: middle;\n",
       "    }\n",
       "\n",
       "    .dataframe tbody tr th {\n",
       "        vertical-align: top;\n",
       "    }\n",
       "\n",
       "    .dataframe thead th {\n",
       "        text-align: right;\n",
       "    }\n",
       "</style>\n",
       "<table border=\"1\" class=\"dataframe\">\n",
       "  <thead>\n",
       "    <tr style=\"text-align: right;\">\n",
       "      <th></th>\n",
       "      <th>0</th>\n",
       "      <th>1</th>\n",
       "      <th>accuracy</th>\n",
       "      <th>macro avg</th>\n",
       "      <th>weighted avg</th>\n",
       "    </tr>\n",
       "  </thead>\n",
       "  <tbody>\n",
       "    <tr>\n",
       "      <th>precision</th>\n",
       "      <td>0.849809</td>\n",
       "      <td>0.717853</td>\n",
       "      <td>0.822962</td>\n",
       "      <td>0.783831</td>\n",
       "      <td>0.814750</td>\n",
       "    </tr>\n",
       "    <tr>\n",
       "      <th>recall</th>\n",
       "      <td>0.921826</td>\n",
       "      <td>0.549713</td>\n",
       "      <td>0.822962</td>\n",
       "      <td>0.735770</td>\n",
       "      <td>0.822962</td>\n",
       "    </tr>\n",
       "    <tr>\n",
       "      <th>f1-score</th>\n",
       "      <td>0.884354</td>\n",
       "      <td>0.622631</td>\n",
       "      <td>0.822962</td>\n",
       "      <td>0.753493</td>\n",
       "      <td>0.814818</td>\n",
       "    </tr>\n",
       "    <tr>\n",
       "      <th>support</th>\n",
       "      <td>2891.000000</td>\n",
       "      <td>1046.000000</td>\n",
       "      <td>0.822962</td>\n",
       "      <td>3937.000000</td>\n",
       "      <td>3937.000000</td>\n",
       "    </tr>\n",
       "  </tbody>\n",
       "</table>\n",
       "</div>"
      ],
      "text/plain": [
       "                     0            1  accuracy    macro avg  weighted avg\n",
       "precision     0.849809     0.717853  0.822962     0.783831      0.814750\n",
       "recall        0.921826     0.549713  0.822962     0.735770      0.822962\n",
       "f1-score      0.884354     0.622631  0.822962     0.753493      0.814818\n",
       "support    2891.000000  1046.000000  0.822962  3937.000000   3937.000000"
      ]
     },
     "execution_count": 106,
     "metadata": {},
     "output_type": "execute_result"
    }
   ],
   "source": [
    "pd.DataFrame(classification_report(y_train, y_pred, output_dict=True))"
   ]
  },
  {
   "cell_type": "code",
   "execution_count": 107,
   "id": "3a1598f3",
   "metadata": {},
   "outputs": [
    {
     "name": "stdout",
     "output_type": "stream",
     "text": [
      "Accuracy: 0.8229616459232918\n",
      "True Positive Rate: 0.8498086734693877\n",
      "False Positive Rate: 0.28214731585518105\n",
      "True Negative Rate: 0.717852684144819\n",
      "False Negative Rate: 0.15019132653061223\n",
      "Precision: 0.9218263576617087\n",
      "Recall: 0.8498086734693877\n",
      "F1 Score: 0.8843537414965986\n",
      "Support (0): 3136\n",
      "Support (1): 801\n"
     ]
    }
   ],
   "source": [
    "# If no churn is our positive case\n",
    "TP = 2665\n",
    "FP = 226\n",
    "FN = 471\n",
    "TN = 575\n",
    "ALL = TP + FP + FN + TN\n",
    "\n",
    "accuracy = (TP + TN)/ALL\n",
    "print(f\"Accuracy: {accuracy}\")\n",
    "\n",
    "true_positive_rate = TP/(TP+FN)\n",
    "print(f\"True Positive Rate: {true_positive_rate}\")\n",
    "\n",
    "false_positive_rate = FP/(FP+TN)\n",
    "print(f\"False Positive Rate: {false_positive_rate}\")\n",
    "\n",
    "true_negative_rate = TN/(TN+FP)\n",
    "print(f\"True Negative Rate: {true_negative_rate}\")\n",
    "\n",
    "false_negative_rate = FN/(FN+TP)\n",
    "print(f\"False Negative Rate: {false_negative_rate}\")\n",
    "\n",
    "precision = TP/(TP+FP)\n",
    "print(f\"Precision: {precision}\")\n",
    "\n",
    "recall = TP/(TP+FN)\n",
    "print(f\"Recall: {recall}\")\n",
    "\n",
    "f1_score = 2*(precision*recall)/(precision+recall)\n",
    "print(f\"F1 Score: {f1_score}\")\n",
    "\n",
    "support_pos = TP + FN\n",
    "print(f\"Support (0): {support_pos}\")\n",
    "\n",
    "support_neg = FP + TN\n",
    "print(f\"Support (1): {support_neg}\")"
   ]
  },
  {
   "cell_type": "code",
   "execution_count": 108,
   "id": "e110a1ed",
   "metadata": {},
   "outputs": [
    {
     "name": "stdout",
     "output_type": "stream",
     "text": [
      "KNN with k value of 1\n",
      "                     0            1  accuracy    macro avg  weighted avg\n",
      "precision     0.997925     0.994264  0.996952     0.996094      0.996952\n",
      "recall        0.997925     0.994264  0.996952     0.996094      0.996952\n",
      "f1-score      0.997925     0.994264  0.996952     0.996094      0.996952\n",
      "support    2891.000000  1046.000000  0.996952  3937.000000   3937.000000\n",
      "\n",
      "KNN with k value of 2\n",
      "                     0            1  accuracy    macro avg  weighted avg\n",
      "precision     0.836032     1.000000  0.855982     0.918016      0.879596\n",
      "recall        1.000000     0.457935  0.855982     0.728967      0.855982\n",
      "f1-score      0.910695     0.628197  0.855982     0.769446      0.835639\n",
      "support    2891.000000  1046.000000  0.855982  3937.000000   3937.000000\n",
      "\n",
      "KNN with k value of 3\n",
      "                     0            1  accuracy    macro avg  weighted avg\n",
      "precision     0.879530     0.774600  0.856236     0.827065      0.851652\n",
      "recall        0.931857     0.647228  0.856236     0.789543      0.856236\n",
      "f1-score      0.904938     0.705208  0.856236     0.805073      0.851873\n",
      "support    2891.000000  1046.000000  0.856236  3937.000000   3937.000000\n",
      "\n",
      "KNN with k value of 4\n",
      "                     0            1  accuracy    macro avg  weighted avg\n",
      "precision     0.823305     0.837736  0.825248     0.830520      0.827139\n",
      "recall        0.970253     0.424474  0.825248     0.697363      0.825248\n",
      "f1-score      0.890759     0.563452  0.825248     0.727105      0.803799\n",
      "support    2891.000000  1046.000000  0.825248  3937.000000   3937.000000\n",
      "\n",
      "KNN with k value of 5\n",
      "                     0            1  accuracy    macro avg  weighted avg\n",
      "precision     0.849809     0.717853  0.822962     0.783831      0.814750\n",
      "recall        0.921826     0.549713  0.822962     0.735770      0.822962\n",
      "f1-score      0.884354     0.622631  0.822962     0.753493      0.814818\n",
      "support    2891.000000  1046.000000  0.822962  3937.000000   3937.000000\n",
      "\n",
      "KNN with k value of 6\n",
      "                     0            1  accuracy    macro avg  weighted avg\n",
      "precision     0.822743     0.789104  0.817882     0.805924      0.813806\n",
      "recall        0.958492     0.429254  0.817882     0.693873      0.817882\n",
      "f1-score      0.885445     0.556037  0.817882     0.720741      0.797926\n",
      "support    2891.000000  1046.000000  0.817882  3937.000000   3937.000000\n",
      "\n",
      "KNN with k value of 7\n",
      "                     0            1  accuracy    macro avg  weighted avg\n",
      "precision     0.841045     0.711842  0.816104     0.776444      0.806718\n",
      "recall        0.924248     0.517208  0.816104     0.720728      0.816104\n",
      "f1-score      0.880686     0.599114  0.816104     0.739900      0.805876\n",
      "support    2891.000000  1046.000000  0.816104  3937.000000   3937.000000\n",
      "\n",
      "KNN with k value of 8\n",
      "                     0            1  accuracy    macro avg  weighted avg\n",
      "precision     0.813109     0.750909   0.80442     0.782009      0.796583\n",
      "recall        0.952612     0.394837   0.80442     0.673725      0.804420\n",
      "f1-score      0.877349     0.517544   0.80442     0.697447      0.781755\n",
      "support    2891.000000  1046.000000   0.80442  3937.000000   3937.000000\n",
      "\n",
      "KNN with k value of 9\n",
      "                     0            1  accuracy    macro avg  weighted avg\n",
      "precision     0.831625     0.701950  0.807976     0.766787      0.797172\n",
      "recall        0.925977     0.481836  0.807976     0.703906      0.807976\n",
      "f1-score      0.876268     0.571429  0.807976     0.723848      0.795277\n",
      "support    2891.000000  1046.000000  0.807976  3937.000000   3937.000000\n",
      "\n",
      "KNN with k value of 10\n",
      "                     0            1  accuracy    macro avg  weighted avg\n",
      "precision     0.813609     0.746858  0.804166     0.780234      0.795875\n",
      "recall        0.951228     0.397706  0.804166     0.674467      0.804166\n",
      "f1-score      0.877053     0.519027  0.804166     0.698040      0.781931\n",
      "support    2891.000000  1046.000000  0.804166  3937.000000   3937.000000\n",
      "\n",
      "KNN with k value of 11\n",
      "                     0            1  accuracy    macro avg  weighted avg\n",
      "precision     0.826805     0.717489   0.80823     0.772147      0.797762\n",
      "recall        0.934625     0.458891   0.80823     0.696758      0.808230\n",
      "f1-score      0.877415     0.559767   0.80823     0.718591      0.793021\n",
      "support    2891.000000  1046.000000   0.80823  3937.000000   3937.000000\n",
      "\n",
      "KNN with k value of 12\n",
      "                     0            1  accuracy    macro avg  weighted avg\n",
      "precision     0.807512     0.737240   0.79807     0.772376      0.788842\n",
      "recall        0.951920     0.372849   0.79807     0.662384      0.798070\n",
      "f1-score      0.873789     0.495238   0.79807     0.684514      0.773214\n",
      "support    2891.000000  1046.000000   0.79807  3937.000000   3937.000000\n",
      "\n",
      "KNN with k value of 13\n",
      "                     0            1  accuracy    macro avg  weighted avg\n",
      "precision     0.819782     0.705148  0.801118     0.762465      0.789325\n",
      "recall        0.934625     0.432122  0.801118     0.683374      0.801118\n",
      "f1-score      0.873444     0.535862  0.801118     0.704653      0.783754\n",
      "support    2891.000000  1046.000000  0.801118  3937.000000   3937.000000\n",
      "\n",
      "KNN with k value of 14\n",
      "                     0            1  accuracy    macro avg  weighted avg\n",
      "precision     0.808099     0.741021  0.799086     0.774560      0.790277\n",
      "recall        0.952612     0.374761  0.799086     0.663686      0.799086\n",
      "f1-score      0.874425     0.497778  0.799086     0.686101      0.774355\n",
      "support    2891.000000  1046.000000  0.799086  3937.000000   3937.000000\n",
      "\n",
      "KNN with k value of 15\n",
      "                     0            1  accuracy    macro avg  weighted avg\n",
      "precision     0.816099     0.703226  0.798324     0.759662      0.786110\n",
      "recall        0.936354     0.416826  0.798324     0.676590      0.798324\n",
      "f1-score      0.872101     0.523409  0.798324     0.697755      0.779459\n",
      "support    2891.000000  1046.000000  0.798324  3937.000000   3937.000000\n",
      "\n",
      "KNN with k value of 16\n",
      "                     0            1  accuracy    macro avg  weighted avg\n",
      "precision     0.803692     0.717557  0.792228     0.760625      0.780807\n",
      "recall        0.948807     0.359465  0.792228     0.654136      0.792228\n",
      "f1-score      0.870241     0.478981  0.792228     0.674611      0.766289\n",
      "support    2891.000000  1046.000000  0.792228  3937.000000   3937.000000\n",
      "\n",
      "KNN with k value of 17\n",
      "                     0            1  accuracy    macro avg  weighted avg\n",
      "precision     0.809937     0.689597   0.79172     0.749767      0.777965\n",
      "recall        0.936008     0.392925   0.79172     0.664467      0.791720\n",
      "f1-score      0.868421     0.500609   0.79172     0.684515      0.770699\n",
      "support    2891.000000  1046.000000   0.79172  3937.000000   3937.000000\n",
      "\n",
      "KNN with k value of 18\n",
      "                     0            1  accuracy    macro avg  weighted avg\n",
      "precision     0.800875     0.715976  0.789942     0.758425      0.778318\n",
      "recall        0.950190     0.347036  0.789942     0.648613      0.789942\n",
      "f1-score      0.869166     0.467482  0.789942     0.668324      0.762445\n",
      "support    2891.000000  1046.000000  0.789942  3937.000000   3937.000000\n",
      "\n",
      "KNN with k value of 19\n",
      "                     0            1  accuracy    macro avg  weighted avg\n",
      "precision     0.807658     0.700704  0.792228     0.754181      0.779242\n",
      "recall        0.941197     0.380497  0.792228     0.660847      0.792228\n",
      "f1-score      0.869329     0.493185  0.792228     0.681257      0.769393\n",
      "support    2891.000000  1046.000000  0.792228  3937.000000   3937.000000\n",
      "\n",
      "KNN with k value of 20\n",
      "                     0            1  accuracy    macro avg  weighted avg\n",
      "precision     0.799074     0.728778   0.79045     0.763926      0.780397\n",
      "recall        0.954687     0.336520   0.79045     0.645604      0.790450\n",
      "f1-score      0.869976     0.460432   0.79045     0.665204      0.761167\n",
      "support    2891.000000  1046.000000   0.79045  3937.000000   3937.000000\n",
      "\n"
     ]
    }
   ],
   "source": [
    "for k in range(1, 21):\n",
    "            \n",
    "    # define the thing\n",
    "    knn = KNeighborsClassifier(n_neighbors=k)\n",
    "    \n",
    "    # fit the thing (remmeber only fit on training data)\n",
    "    knn = knn.fit(X_train, y_train)\n",
    "    \n",
    "    # predict on train\n",
    "    y_pred = knn.predict(X_train)\n",
    "\n",
    "    # Produce the classification report on the actual y values and this model's predicted y values\n",
    "    report = classification_report(y_train, y_pred, output_dict=True)\n",
    "    print(f\"KNN with k value of {k}\")\n",
    "    print(pd.DataFrame(report))\n",
    "    print()"
   ]
  },
  {
   "cell_type": "code",
   "execution_count": 110,
   "id": "cadbdbf1",
   "metadata": {},
   "outputs": [
    {
     "data": {
      "text/html": [
       "<div>\n",
       "<style scoped>\n",
       "    .dataframe tbody tr th:only-of-type {\n",
       "        vertical-align: middle;\n",
       "    }\n",
       "\n",
       "    .dataframe tbody tr th {\n",
       "        vertical-align: top;\n",
       "    }\n",
       "\n",
       "    .dataframe thead th {\n",
       "        text-align: right;\n",
       "    }\n",
       "</style>\n",
       "<table border=\"1\" class=\"dataframe\">\n",
       "  <thead>\n",
       "    <tr style=\"text-align: right;\">\n",
       "      <th></th>\n",
       "      <th>k</th>\n",
       "      <th>train_accuracy</th>\n",
       "      <th>validate_accuracy</th>\n",
       "      <th>difference</th>\n",
       "    </tr>\n",
       "  </thead>\n",
       "  <tbody>\n",
       "    <tr>\n",
       "      <th>0</th>\n",
       "      <td>1</td>\n",
       "      <td>0.996952</td>\n",
       "      <td>0.712678</td>\n",
       "      <td>0.284274</td>\n",
       "    </tr>\n",
       "    <tr>\n",
       "      <th>1</th>\n",
       "      <td>2</td>\n",
       "      <td>0.855982</td>\n",
       "      <td>0.759479</td>\n",
       "      <td>0.096503</td>\n",
       "    </tr>\n",
       "    <tr>\n",
       "      <th>2</th>\n",
       "      <td>3</td>\n",
       "      <td>0.856236</td>\n",
       "      <td>0.745853</td>\n",
       "      <td>0.110383</td>\n",
       "    </tr>\n",
       "    <tr>\n",
       "      <th>3</th>\n",
       "      <td>4</td>\n",
       "      <td>0.825248</td>\n",
       "      <td>0.766588</td>\n",
       "      <td>0.058660</td>\n",
       "    </tr>\n",
       "    <tr>\n",
       "      <th>4</th>\n",
       "      <td>5</td>\n",
       "      <td>0.822962</td>\n",
       "      <td>0.763626</td>\n",
       "      <td>0.059336</td>\n",
       "    </tr>\n",
       "    <tr>\n",
       "      <th>5</th>\n",
       "      <td>6</td>\n",
       "      <td>0.817882</td>\n",
       "      <td>0.763033</td>\n",
       "      <td>0.054848</td>\n",
       "    </tr>\n",
       "    <tr>\n",
       "      <th>6</th>\n",
       "      <td>7</td>\n",
       "      <td>0.816104</td>\n",
       "      <td>0.763626</td>\n",
       "      <td>0.052478</td>\n",
       "    </tr>\n",
       "    <tr>\n",
       "      <th>7</th>\n",
       "      <td>8</td>\n",
       "      <td>0.804420</td>\n",
       "      <td>0.774289</td>\n",
       "      <td>0.030131</td>\n",
       "    </tr>\n",
       "    <tr>\n",
       "      <th>8</th>\n",
       "      <td>9</td>\n",
       "      <td>0.807976</td>\n",
       "      <td>0.768365</td>\n",
       "      <td>0.039611</td>\n",
       "    </tr>\n",
       "    <tr>\n",
       "      <th>9</th>\n",
       "      <td>10</td>\n",
       "      <td>0.804166</td>\n",
       "      <td>0.776066</td>\n",
       "      <td>0.028099</td>\n",
       "    </tr>\n",
       "    <tr>\n",
       "      <th>10</th>\n",
       "      <td>11</td>\n",
       "      <td>0.808230</td>\n",
       "      <td>0.780213</td>\n",
       "      <td>0.028016</td>\n",
       "    </tr>\n",
       "    <tr>\n",
       "      <th>11</th>\n",
       "      <td>12</td>\n",
       "      <td>0.798070</td>\n",
       "      <td>0.778436</td>\n",
       "      <td>0.019634</td>\n",
       "    </tr>\n",
       "    <tr>\n",
       "      <th>12</th>\n",
       "      <td>13</td>\n",
       "      <td>0.801118</td>\n",
       "      <td>0.770735</td>\n",
       "      <td>0.030383</td>\n",
       "    </tr>\n",
       "    <tr>\n",
       "      <th>13</th>\n",
       "      <td>14</td>\n",
       "      <td>0.799086</td>\n",
       "      <td>0.778436</td>\n",
       "      <td>0.020650</td>\n",
       "    </tr>\n",
       "    <tr>\n",
       "      <th>14</th>\n",
       "      <td>15</td>\n",
       "      <td>0.798324</td>\n",
       "      <td>0.775474</td>\n",
       "      <td>0.022850</td>\n",
       "    </tr>\n",
       "    <tr>\n",
       "      <th>15</th>\n",
       "      <td>16</td>\n",
       "      <td>0.792228</td>\n",
       "      <td>0.778436</td>\n",
       "      <td>0.013792</td>\n",
       "    </tr>\n",
       "    <tr>\n",
       "      <th>16</th>\n",
       "      <td>17</td>\n",
       "      <td>0.791720</td>\n",
       "      <td>0.773104</td>\n",
       "      <td>0.018615</td>\n",
       "    </tr>\n",
       "    <tr>\n",
       "      <th>17</th>\n",
       "      <td>18</td>\n",
       "      <td>0.789942</td>\n",
       "      <td>0.779028</td>\n",
       "      <td>0.010913</td>\n",
       "    </tr>\n",
       "    <tr>\n",
       "      <th>18</th>\n",
       "      <td>19</td>\n",
       "      <td>0.792228</td>\n",
       "      <td>0.777251</td>\n",
       "      <td>0.014976</td>\n",
       "    </tr>\n",
       "    <tr>\n",
       "      <th>19</th>\n",
       "      <td>20</td>\n",
       "      <td>0.790450</td>\n",
       "      <td>0.782583</td>\n",
       "      <td>0.007867</td>\n",
       "    </tr>\n",
       "  </tbody>\n",
       "</table>\n",
       "</div>"
      ],
      "text/plain": [
       "     k  train_accuracy  validate_accuracy  difference\n",
       "0    1        0.996952           0.712678    0.284274\n",
       "1    2        0.855982           0.759479    0.096503\n",
       "2    3        0.856236           0.745853    0.110383\n",
       "3    4        0.825248           0.766588    0.058660\n",
       "4    5        0.822962           0.763626    0.059336\n",
       "5    6        0.817882           0.763033    0.054848\n",
       "6    7        0.816104           0.763626    0.052478\n",
       "7    8        0.804420           0.774289    0.030131\n",
       "8    9        0.807976           0.768365    0.039611\n",
       "9   10        0.804166           0.776066    0.028099\n",
       "10  11        0.808230           0.780213    0.028016\n",
       "11  12        0.798070           0.778436    0.019634\n",
       "12  13        0.801118           0.770735    0.030383\n",
       "13  14        0.799086           0.778436    0.020650\n",
       "14  15        0.798324           0.775474    0.022850\n",
       "15  16        0.792228           0.778436    0.013792\n",
       "16  17        0.791720           0.773104    0.018615\n",
       "17  18        0.789942           0.779028    0.010913\n",
       "18  19        0.792228           0.777251    0.014976\n",
       "19  20        0.790450           0.782583    0.007867"
      ]
     },
     "execution_count": 110,
     "metadata": {},
     "output_type": "execute_result"
    }
   ],
   "source": [
    "metrics = []\n",
    "\n",
    "# loop through different values of k\n",
    "for k in range(1, 21):\n",
    "            \n",
    "    # define the thing\n",
    "    knn = KNeighborsClassifier(n_neighbors=k)\n",
    "    \n",
    "    # fit the thing (remmeber only fit on training data)\n",
    "    knn.fit(X_train, y_train)\n",
    "    \n",
    "    # use the thing (calculate accuracy)\n",
    "    train_accuracy = knn.score(X_train, y_train)\n",
    "    validate_accuracy = knn.score(X_validate, y_validate)\n",
    "    \n",
    "    output = {\n",
    "        \"k\": k,\n",
    "        \"train_accuracy\": train_accuracy,\n",
    "        \"validate_accuracy\": validate_accuracy\n",
    "    }\n",
    "    \n",
    "    metrics.append(output)\n",
    "\n",
    "\n",
    "df = pd.DataFrame(metrics)\n",
    "df[\"difference\"] = df.train_accuracy - df.validate_accuracy\n",
    "df"
   ]
  },
  {
   "cell_type": "markdown",
   "id": "521e1a19",
   "metadata": {},
   "source": [
    "Best model: \n",
    "\n",
    "19\t20\t0.790450\t0.782583\t0.007867"
   ]
  },
  {
   "cell_type": "markdown",
   "id": "4dcbc2c8",
   "metadata": {},
   "source": [
    "### Logistic Regression"
   ]
  },
  {
   "cell_type": "code",
   "execution_count": 116,
   "id": "824e3b06",
   "metadata": {},
   "outputs": [],
   "source": [
    "# Create the model\n",
    "logit = LogisticRegression(random_state=123)"
   ]
  },
  {
   "cell_type": "code",
   "execution_count": 117,
   "id": "698d8e59",
   "metadata": {},
   "outputs": [],
   "source": [
    "# Choose the features that carry the most weight\n",
    "features = ['tenure', 'paperless_billing', 'monthly_charges', 'total_charges', 'contract_type_month_to_month', 'internet_service_type_fiber_optic', 'payment_type_electronic_check']"
   ]
  },
  {
   "cell_type": "code",
   "execution_count": 119,
   "id": "3d6095c3",
   "metadata": {},
   "outputs": [
    {
     "data": {
      "text/plain": [
       "LogisticRegression(random_state=123)"
      ]
     },
     "execution_count": 119,
     "metadata": {},
     "output_type": "execute_result"
    }
   ],
   "source": [
    "# Fit the model with the features we've selected\n",
    "logit.fit(X_train[features], y_train)"
   ]
  },
  {
   "cell_type": "code",
   "execution_count": 121,
   "id": "57b77481",
   "metadata": {},
   "outputs": [],
   "source": [
    "# predict on the same features we fit on\n",
    "y_pred = logit.predict(X_train[features])"
   ]
  },
  {
   "cell_type": "code",
   "execution_count": 125,
   "id": "e1f141f9",
   "metadata": {},
   "outputs": [
    {
     "name": "stdout",
     "output_type": "stream",
     "text": [
      "Baseline is churn    0.73\n",
      "dtype: float64\n",
      "Logistic Regression using: 'tenure', 'paperless_billing', 'monthly_charges', 'total_charges', 'contract_type_month_to_month', 'internet_service_type_fiber_optic', 'payment_type_electronic_check'\n",
      "Accuracy of Logistic Regression classifier on training set: 0.79\n"
     ]
    }
   ],
   "source": [
    "print(\"Baseline is\", round(baseline_accuracy, 2))\n",
    "print(\"Logistic Regression using: 'tenure', 'paperless_billing', 'monthly_charges', 'total_charges', 'contract_type_month_to_month', 'internet_service_type_fiber_optic', 'payment_type_electronic_check'\")\n",
    "print('Accuracy of Logistic Regression classifier on training set: {:.2f}'\n",
    "     .format(logit.score(X_train[features], y_train)))\n"
   ]
  },
  {
   "cell_type": "code",
   "execution_count": 126,
   "id": "11a1ee04",
   "metadata": {},
   "outputs": [],
   "source": [
    "# Create 2nd model\n",
    "logit2 = LogisticRegression(random_state=123)"
   ]
  },
  {
   "cell_type": "code",
   "execution_count": 135,
   "id": "f2939563",
   "metadata": {},
   "outputs": [],
   "source": [
    "# Fit on all features\n",
    "logit2.fit(X_train, y_train)"
   ]
  },
  {
   "cell_type": "code",
   "execution_count": 136,
   "id": "3599dfee",
   "metadata": {},
   "outputs": [
    {
     "name": "stdout",
     "output_type": "stream",
     "text": [
      "Model trained on all features\n",
      "Accuracy of Logistic Regression classifier on training set: 0.81\n"
     ]
    }
   ],
   "source": [
    "print(\"Model trained on all features\")\n",
    "print('Accuracy of Logistic Regression classifier on training set: {:.2f}'\n",
    "     .format(logit2.score(X_train, y_train)))"
   ]
  },
  {
   "cell_type": "code",
   "execution_count": 142,
   "id": "f0a2ee56",
   "metadata": {},
   "outputs": [
    {
     "name": "stdout",
     "output_type": "stream",
     "text": [
      "All Features and we're setting the class_weight hyperparameter\n",
      "Accuracy of Logistic Regression classifier on training set: 0.75\n"
     ]
    }
   ],
   "source": [
    "# All features, but we'll use the class_weights to hold the actual ratios`\n",
    "logit3 = LogisticRegression(random_state=123, class_weight='balanced')\n",
    "\n",
    "logit3.fit(X_train, y_train)\n",
    "\n",
    "y_pred = logit3.predict(X_train)\n",
    "\n",
    "accuracy = logit3.score(X_train, y_train)\n",
    "\n",
    "print(\"All Features and we're setting the class_weight hyperparameter\")\n",
    "print(f'Accuracy of Logistic Regression classifier on training set: {accuracy:.2}')"
   ]
  },
  {
   "cell_type": "code",
   "execution_count": 143,
   "id": "5b7d5625",
   "metadata": {},
   "outputs": [
    {
     "name": "stdout",
     "output_type": "stream",
     "text": [
      "All Features and we're setting the class_weight hyperparameter\n",
      "Accuracy of Logistic Regression classifier on training set: 0.73\n"
     ]
    }
   ],
   "source": [
    "# Only tenure \n",
    "features = [\"tenure\"]\n",
    "\n",
    "# All features, but we'll use the class_weights to hold the actual ratios\n",
    "logit4 = LogisticRegression(random_state=123)\n",
    "\n",
    "logit4.fit(X_train[features], y_train)\n",
    "\n",
    "y_pred = logit4.predict(X_train[features])\n",
    "\n",
    "accuracy = logit4.score(X_train[features], y_train)\n",
    "\n",
    "print(\"All Features and we're setting the class_weight hyperparameter\")\n",
    "print(f'Accuracy of Logistic Regression classifier on training set: {accuracy:.2}')"
   ]
  },
  {
   "cell_type": "code",
   "execution_count": 145,
   "id": "edef5986",
   "metadata": {},
   "outputs": [
    {
     "name": "stdout",
     "output_type": "stream",
     "text": [
      "All Features and we're setting the class_weight hyperparameter\n",
      "Accuracy of Logistic Regression classifier on training set: 0.73\n"
     ]
    }
   ],
   "source": [
    "# paperless_billing\n",
    "features = [\"paperless_billing\"]\n",
    "\n",
    "# All features, but we'll use the class_weights to hold the actual ratios\n",
    "logit5 = LogisticRegression(random_state=123)\n",
    "\n",
    "logit5.fit(X_train[features], y_train)\n",
    "\n",
    "y_pred = logit5.predict(X_train[features])\n",
    "accuracy = logit5.score(X_train[features], y_train)\n",
    "\n",
    "print(\"All Features and we're setting the class_weight hyperparameter\")\n",
    "print(f'Accuracy of Logistic Regression classifier on training set: {accuracy:.2}')\n"
   ]
  },
  {
   "cell_type": "code",
   "execution_count": 146,
   "id": "307a2ed5",
   "metadata": {},
   "outputs": [
    {
     "name": "stdout",
     "output_type": "stream",
     "text": [
      "All Features, C hyperparameter approaching 0\n",
      "Baseline is churn    0.73\n",
      "dtype: float64\n",
      "Accuracy of this Logistic Regression on training set: 0.79\n"
     ]
    }
   ],
   "source": [
    "# All Features, C ~ 0\n",
    "# All features, but we'll use the class_weights to hold the actual ratios\n",
    "logit6 = LogisticRegression(random_state=123, C=0.0001)\n",
    "\n",
    "logit6.fit(X_train, y_train)\n",
    "\n",
    "y_pred = logit6.predict(X_train)\n",
    "accuracy = logit6.score(X_train, y_train)\n",
    "\n",
    "print(\"All Features, C hyperparameter approaching 0\")\n",
    "print(\"Baseline is\", round(baseline_accuracy, 2))\n",
    "print(f'Accuracy of this Logistic Regression on training set: {accuracy:.2}')"
   ]
  },
  {
   "cell_type": "code",
   "execution_count": 152,
   "id": "c70fa8ec",
   "metadata": {},
   "outputs": [
    {
     "data": {
      "text/plain": [
       "0.7245260663507109"
      ]
     },
     "execution_count": 152,
     "metadata": {},
     "output_type": "execute_result"
    }
   ],
   "source": [
    "logit3.score(X_validate, y_validate)"
   ]
  },
  {
   "cell_type": "code",
   "execution_count": 155,
   "id": "e4a964d3",
   "metadata": {},
   "outputs": [],
   "source": [
    "train_accuracy = logit3.score(X_train, y_train)\n",
    "validate_accuracy = logit3.score(X_validate, y_validate)"
   ]
  },
  {
   "cell_type": "code",
   "execution_count": 156,
   "id": "f9f19d9d",
   "metadata": {},
   "outputs": [
    {
     "data": {
      "text/plain": [
       "0.024521431744285227"
      ]
     },
     "execution_count": 156,
     "metadata": {},
     "output_type": "execute_result"
    }
   ],
   "source": [
    "difference = train_accuracy - validate_accuracy\n",
    "difference"
   ]
  },
  {
   "cell_type": "code",
   "execution_count": 148,
   "id": "9d429798",
   "metadata": {},
   "outputs": [
    {
     "data": {
      "text/plain": [
       "0.7896919431279621"
      ]
     },
     "execution_count": 148,
     "metadata": {},
     "output_type": "execute_result"
    }
   ],
   "source": [
    "logit2.score(X_validate, y_validate)"
   ]
  },
  {
   "cell_type": "code",
   "execution_count": 157,
   "id": "5f6ba687",
   "metadata": {},
   "outputs": [],
   "source": [
    "train_accuracy = logit2.score(X_train, y_train)\n",
    "validate_accuracy = logit2.score(X_validate, y_validate)"
   ]
  },
  {
   "cell_type": "code",
   "execution_count": 159,
   "id": "db77e42c",
   "metadata": {},
   "outputs": [
    {
     "data": {
      "text/plain": [
       "0.015743667743259637"
      ]
     },
     "execution_count": 159,
     "metadata": {},
     "output_type": "execute_result"
    }
   ],
   "source": [
    "difference = train_accuracy - validate_accuracy\n",
    "difference"
   ]
  },
  {
   "cell_type": "code",
   "execution_count": 153,
   "id": "257326dd",
   "metadata": {},
   "outputs": [
    {
     "data": {
      "text/plain": [
       "0.7890995260663507"
      ]
     },
     "execution_count": 153,
     "metadata": {},
     "output_type": "execute_result"
    }
   ],
   "source": [
    "logit6.score(X_validate, y_validate)"
   ]
  },
  {
   "cell_type": "code",
   "execution_count": 160,
   "id": "8847151d",
   "metadata": {},
   "outputs": [],
   "source": [
    "train_accuracy = logit6.score(X_train, y_train)\n",
    "validate_accuracy = logit6.score(X_validate, y_validate)"
   ]
  },
  {
   "cell_type": "code",
   "execution_count": 161,
   "id": "10c75147",
   "metadata": {},
   "outputs": [
    {
     "data": {
      "text/plain": [
       "-0.003983955835210273"
      ]
     },
     "execution_count": 161,
     "metadata": {},
     "output_type": "execute_result"
    }
   ],
   "source": [
    "difference = train_accuracy - validate_accuracy\n",
    "difference"
   ]
  },
  {
   "cell_type": "markdown",
   "id": "ffa028b2",
   "metadata": {},
   "source": [
    "Best model:\n",
    "\n",
    "logit2"
   ]
  },
  {
   "cell_type": "code",
   "execution_count": 163,
   "id": "c4536c9a",
   "metadata": {},
   "outputs": [
    {
     "data": {
      "text/html": [
       "<div>\n",
       "<style scoped>\n",
       "    .dataframe tbody tr th:only-of-type {\n",
       "        vertical-align: middle;\n",
       "    }\n",
       "\n",
       "    .dataframe tbody tr th {\n",
       "        vertical-align: top;\n",
       "    }\n",
       "\n",
       "    .dataframe thead th {\n",
       "        text-align: right;\n",
       "    }\n",
       "</style>\n",
       "<table border=\"1\" class=\"dataframe\">\n",
       "  <thead>\n",
       "    <tr style=\"text-align: right;\">\n",
       "      <th></th>\n",
       "      <th>c</th>\n",
       "      <th>train_accuracy</th>\n",
       "      <th>validate_accuracy</th>\n",
       "      <th>difference</th>\n",
       "    </tr>\n",
       "  </thead>\n",
       "  <tbody>\n",
       "    <tr>\n",
       "      <th>0</th>\n",
       "      <td>1</td>\n",
       "      <td>0.805436</td>\n",
       "      <td>0.789692</td>\n",
       "      <td>0.015744</td>\n",
       "    </tr>\n",
       "    <tr>\n",
       "      <th>1</th>\n",
       "      <td>2</td>\n",
       "      <td>0.804928</td>\n",
       "      <td>0.790877</td>\n",
       "      <td>0.014051</td>\n",
       "    </tr>\n",
       "    <tr>\n",
       "      <th>2</th>\n",
       "      <td>3</td>\n",
       "      <td>0.805436</td>\n",
       "      <td>0.790877</td>\n",
       "      <td>0.014559</td>\n",
       "    </tr>\n",
       "    <tr>\n",
       "      <th>3</th>\n",
       "      <td>4</td>\n",
       "      <td>0.805436</td>\n",
       "      <td>0.786730</td>\n",
       "      <td>0.018706</td>\n",
       "    </tr>\n",
       "    <tr>\n",
       "      <th>4</th>\n",
       "      <td>5</td>\n",
       "      <td>0.805436</td>\n",
       "      <td>0.790284</td>\n",
       "      <td>0.015151</td>\n",
       "    </tr>\n",
       "    <tr>\n",
       "      <th>5</th>\n",
       "      <td>6</td>\n",
       "      <td>0.805182</td>\n",
       "      <td>0.790284</td>\n",
       "      <td>0.014897</td>\n",
       "    </tr>\n",
       "    <tr>\n",
       "      <th>6</th>\n",
       "      <td>7</td>\n",
       "      <td>0.805436</td>\n",
       "      <td>0.791469</td>\n",
       "      <td>0.013966</td>\n",
       "    </tr>\n",
       "    <tr>\n",
       "      <th>7</th>\n",
       "      <td>8</td>\n",
       "      <td>0.805182</td>\n",
       "      <td>0.790284</td>\n",
       "      <td>0.014897</td>\n",
       "    </tr>\n",
       "    <tr>\n",
       "      <th>8</th>\n",
       "      <td>9</td>\n",
       "      <td>0.805182</td>\n",
       "      <td>0.790284</td>\n",
       "      <td>0.014897</td>\n",
       "    </tr>\n",
       "  </tbody>\n",
       "</table>\n",
       "</div>"
      ],
      "text/plain": [
       "   c  train_accuracy  validate_accuracy  difference\n",
       "0  1        0.805436           0.789692    0.015744\n",
       "1  2        0.804928           0.790877    0.014051\n",
       "2  3        0.805436           0.790877    0.014559\n",
       "3  4        0.805436           0.786730    0.018706\n",
       "4  5        0.805436           0.790284    0.015151\n",
       "5  6        0.805182           0.790284    0.014897\n",
       "6  7        0.805436           0.791469    0.013966\n",
       "7  8        0.805182           0.790284    0.014897\n",
       "8  9        0.805182           0.790284    0.014897"
      ]
     },
     "execution_count": 163,
     "metadata": {},
     "output_type": "execute_result"
    }
   ],
   "source": [
    "metrics = []\n",
    "\n",
    "# loop through different values of c\n",
    "for c in range(1, 10):\n",
    "            \n",
    "    # define the thing\n",
    "    logit = LogisticRegression(C=c, random_state=123)\n",
    "    \n",
    "    # fit the thing (remmeber only fit on training data)\n",
    "    logit.fit(X_train, y_train)\n",
    "    \n",
    "    # use the thing (calculate accuracy)\n",
    "    train_accuracy = logit.score(X_train, y_train)\n",
    "    validate_accuracy = logit.score(X_validate, y_validate)\n",
    "    \n",
    "    output = {\n",
    "        \"c\": c,\n",
    "        \"train_accuracy\": train_accuracy,\n",
    "        \"validate_accuracy\": validate_accuracy\n",
    "    }\n",
    "    \n",
    "    metrics.append(output)\n",
    "\n",
    "\n",
    "df = pd.DataFrame(metrics)\n",
    "df[\"difference\"] = df.train_accuracy - df.validate_accuracy\n",
    "df"
   ]
  },
  {
   "cell_type": "markdown",
   "id": "954153de",
   "metadata": {},
   "source": [
    "Best model: \n",
    "\n",
    "8\t9\t0.805182\t0.790284\t0.014897"
   ]
  },
  {
   "cell_type": "code",
   "execution_count": 164,
   "id": "6221a237",
   "metadata": {},
   "outputs": [
    {
     "data": {
      "text/html": [
       "<div>\n",
       "<style scoped>\n",
       "    .dataframe tbody tr th:only-of-type {\n",
       "        vertical-align: middle;\n",
       "    }\n",
       "\n",
       "    .dataframe tbody tr th {\n",
       "        vertical-align: top;\n",
       "    }\n",
       "\n",
       "    .dataframe thead th {\n",
       "        text-align: right;\n",
       "    }\n",
       "</style>\n",
       "<table border=\"1\" class=\"dataframe\">\n",
       "  <thead>\n",
       "    <tr style=\"text-align: right;\">\n",
       "      <th></th>\n",
       "      <th>not-survived</th>\n",
       "      <th>survived</th>\n",
       "    </tr>\n",
       "  </thead>\n",
       "  <tbody>\n",
       "    <tr>\n",
       "      <th>0</th>\n",
       "      <td>0.995524</td>\n",
       "      <td>0.004476</td>\n",
       "    </tr>\n",
       "    <tr>\n",
       "      <th>1</th>\n",
       "      <td>0.764354</td>\n",
       "      <td>0.235646</td>\n",
       "    </tr>\n",
       "    <tr>\n",
       "      <th>2</th>\n",
       "      <td>0.527703</td>\n",
       "      <td>0.472297</td>\n",
       "    </tr>\n",
       "    <tr>\n",
       "      <th>3</th>\n",
       "      <td>0.737307</td>\n",
       "      <td>0.262693</td>\n",
       "    </tr>\n",
       "    <tr>\n",
       "      <th>4</th>\n",
       "      <td>0.976584</td>\n",
       "      <td>0.023416</td>\n",
       "    </tr>\n",
       "  </tbody>\n",
       "</table>\n",
       "</div>"
      ],
      "text/plain": [
       "   not-survived  survived\n",
       "0      0.995524  0.004476\n",
       "1      0.764354  0.235646\n",
       "2      0.527703  0.472297\n",
       "3      0.737307  0.262693\n",
       "4      0.976584  0.023416"
      ]
     },
     "execution_count": 164,
     "metadata": {},
     "output_type": "execute_result"
    }
   ],
   "source": [
    "y_pred_proba = logit2.predict_proba(X_train)\n",
    "\n",
    "\n",
    "y_pred_proba = pd.DataFrame(y_pred_proba, columns = ['not-survived', 'survived'])\n",
    "y_pred_proba.head()"
   ]
  },
  {
   "cell_type": "code",
   "execution_count": 167,
   "id": "f3517c74",
   "metadata": {},
   "outputs": [
    {
     "name": "stdout",
     "output_type": "stream",
     "text": [
      "All Features and we're setting c to 9\n",
      "Accuracy of Logistic Regression classifier on training set: 0.81\n"
     ]
    }
   ],
   "source": [
    "# All features and c=9\n",
    "logit7 = LogisticRegression(C=9, random_state=123)\n",
    "\n",
    "logit7.fit(X_train, y_train)\n",
    "\n",
    "y_pred = logit7.predict(X_train)\n",
    "\n",
    "accuracy = logit7.score(X_train, y_train)\n",
    "\n",
    "print(\"All Features and we're setting c to 9\")\n",
    "print(f'Accuracy of Logistic Regression classifier on training set: {accuracy:.2}')"
   ]
  },
  {
   "cell_type": "code",
   "execution_count": 168,
   "id": "e25ee1e0",
   "metadata": {},
   "outputs": [
    {
     "data": {
      "text/plain": [
       "0.7902843601895735"
      ]
     },
     "execution_count": 168,
     "metadata": {},
     "output_type": "execute_result"
    }
   ],
   "source": [
    "logit7.score(X_validate, y_validate)"
   ]
  },
  {
   "cell_type": "code",
   "execution_count": 169,
   "id": "46164287",
   "metadata": {},
   "outputs": [],
   "source": [
    "train_accuracy = logit6.score(X_train, y_train)\n",
    "validate_accuracy = logit6.score(X_validate, y_validate)"
   ]
  },
  {
   "cell_type": "code",
   "execution_count": 170,
   "id": "8d460230",
   "metadata": {},
   "outputs": [
    {
     "data": {
      "text/plain": [
       "-0.003983955835210273"
      ]
     },
     "execution_count": 170,
     "metadata": {},
     "output_type": "execute_result"
    }
   ],
   "source": [
    "difference = train_accuracy - validate_accuracy\n",
    "difference"
   ]
  },
  {
   "cell_type": "code",
   "execution_count": 175,
   "id": "2e0889a2",
   "metadata": {},
   "outputs": [
    {
     "data": {
      "text/html": [
       "<div>\n",
       "<style scoped>\n",
       "    .dataframe tbody tr th:only-of-type {\n",
       "        vertical-align: middle;\n",
       "    }\n",
       "\n",
       "    .dataframe tbody tr th {\n",
       "        vertical-align: top;\n",
       "    }\n",
       "\n",
       "    .dataframe thead th {\n",
       "        text-align: right;\n",
       "    }\n",
       "</style>\n",
       "<table border=\"1\" class=\"dataframe\">\n",
       "  <thead>\n",
       "    <tr style=\"text-align: right;\">\n",
       "      <th></th>\n",
       "      <th>no churn</th>\n",
       "      <th>churn</th>\n",
       "    </tr>\n",
       "  </thead>\n",
       "  <tbody>\n",
       "    <tr>\n",
       "      <th>0</th>\n",
       "      <td>0.995488</td>\n",
       "      <td>0.004512</td>\n",
       "    </tr>\n",
       "    <tr>\n",
       "      <th>1</th>\n",
       "      <td>0.766656</td>\n",
       "      <td>0.233344</td>\n",
       "    </tr>\n",
       "    <tr>\n",
       "      <th>2</th>\n",
       "      <td>0.527249</td>\n",
       "      <td>0.472751</td>\n",
       "    </tr>\n",
       "    <tr>\n",
       "      <th>3</th>\n",
       "      <td>0.737489</td>\n",
       "      <td>0.262511</td>\n",
       "    </tr>\n",
       "    <tr>\n",
       "      <th>4</th>\n",
       "      <td>0.977315</td>\n",
       "      <td>0.022685</td>\n",
       "    </tr>\n",
       "  </tbody>\n",
       "</table>\n",
       "</div>"
      ],
      "text/plain": [
       "   no churn     churn\n",
       "0  0.995488  0.004512\n",
       "1  0.766656  0.233344\n",
       "2  0.527249  0.472751\n",
       "3  0.737489  0.262511\n",
       "4  0.977315  0.022685"
      ]
     },
     "execution_count": 175,
     "metadata": {},
     "output_type": "execute_result"
    }
   ],
   "source": [
    "y_pred_proba = logit7.predict_proba(X_train)\n",
    "\n",
    "\n",
    "y_pred_proba = pd.DataFrame(y_pred_proba, columns = ['no churn', 'churn'])\n",
    "y_pred_proba.head()"
   ]
  },
  {
   "cell_type": "code",
   "execution_count": 174,
   "id": "f7ec6b59",
   "metadata": {},
   "outputs": [
    {
     "data": {
      "text/html": [
       "<div>\n",
       "<style scoped>\n",
       "    .dataframe tbody tr th:only-of-type {\n",
       "        vertical-align: middle;\n",
       "    }\n",
       "\n",
       "    .dataframe tbody tr th {\n",
       "        vertical-align: top;\n",
       "    }\n",
       "\n",
       "    .dataframe thead th {\n",
       "        text-align: right;\n",
       "    }\n",
       "</style>\n",
       "<table border=\"1\" class=\"dataframe\">\n",
       "  <thead>\n",
       "    <tr style=\"text-align: right;\">\n",
       "      <th></th>\n",
       "      <th>no churn</th>\n",
       "      <th>churn</th>\n",
       "    </tr>\n",
       "  </thead>\n",
       "  <tbody>\n",
       "    <tr>\n",
       "      <th>0</th>\n",
       "      <td>0.940298</td>\n",
       "      <td>0.059702</td>\n",
       "    </tr>\n",
       "    <tr>\n",
       "      <th>1</th>\n",
       "      <td>0.931481</td>\n",
       "      <td>0.068519</td>\n",
       "    </tr>\n",
       "    <tr>\n",
       "      <th>2</th>\n",
       "      <td>0.115327</td>\n",
       "      <td>0.884673</td>\n",
       "    </tr>\n",
       "    <tr>\n",
       "      <th>3</th>\n",
       "      <td>0.872691</td>\n",
       "      <td>0.127309</td>\n",
       "    </tr>\n",
       "    <tr>\n",
       "      <th>4</th>\n",
       "      <td>0.401907</td>\n",
       "      <td>0.598093</td>\n",
       "    </tr>\n",
       "  </tbody>\n",
       "</table>\n",
       "</div>"
      ],
      "text/plain": [
       "   no churn     churn\n",
       "0  0.940298  0.059702\n",
       "1  0.931481  0.068519\n",
       "2  0.115327  0.884673\n",
       "3  0.872691  0.127309\n",
       "4  0.401907  0.598093"
      ]
     },
     "execution_count": 174,
     "metadata": {},
     "output_type": "execute_result"
    }
   ],
   "source": [
    "y_pred_proba = logit3.predict_proba(X_validate)\n",
    "\n",
    "\n",
    "y_pred_proba = pd.DataFrame(y_pred_proba, columns = ['no churn', 'churn'])\n",
    "y_pred_proba.head()"
   ]
  },
  {
   "cell_type": "markdown",
   "id": "4948b06f",
   "metadata": {},
   "source": [
    "PREDICTIONS OUTPUT"
   ]
  },
  {
   "cell_type": "markdown",
   "id": "a6219390",
   "metadata": {},
   "source": [
    "### Test the Best Model"
   ]
  },
  {
   "cell_type": "markdown",
   "id": "5e27ed4b",
   "metadata": {},
   "source": [
    "# =============================================================================\n",
    "# PREDICTIONS OUTPUT\n",
    "# =============================================================================\n",
    "# csv_df = pd.DataFrame()\n",
    "# csv_df['CustomerID'] = test['customer_id']\n",
    "# csv_df['Prediction'] = rf2.predict(X_test)\n",
    "# csv_df = csv_df.reset_index().drop(columns='index')\n",
    "\n",
    "# proba_df = pd.DataFrame(model.predict_proba(X_test))\n",
    "\n",
    "# output_df = pd.concat([csv_df, proba_df], axis=1)\n",
    "# output_df.head()\n",
    "\n",
    "\n",
    "\n",
    "proba_test = model.predict_proba(X_test)\n",
    "proba_df = pd.DataFrame(proba_test, columns=model.classes_.tolist())\n",
    "proba_df.head()\n",
    "\n",
    "reset_test = test.reset_index()\n",
    "\n",
    "reset_test.head()\n",
    "\n",
    "\n",
    "\n",
    "test_proba_df = pd.concat([reset_test, proba_df], axis=1)\n",
    "test_proba_df.head()\n",
    "\n",
    "test_proba_df['predicted'] = model.predict(X_test)\n",
    "test_proba_df.head(20)\n",
    "\n",
    "\n",
    "#write probability table to a csv called predictions\n",
    "test_proba_df.to_csv('predictions.csv')"
   ]
  },
  {
   "cell_type": "code",
   "execution_count": 180,
   "id": "a4c9513a",
   "metadata": {},
   "outputs": [],
   "source": [
    "proba_train = model.predict_proba(X_train)\n",
    "proba_df = pd.DataFrame(proba_train, columns=model.classes_.tolist())\n",
    "proba_df.head()\n",
    "\n",
    "reset_train = train.reset_index()\n",
    "\n",
    "reset_train.head()\n",
    "\n",
    "\n",
    "\n",
    "train_proba_df = pd.concat([reset_train, proba_df], axis=1)\n",
    "train_proba_df.head()\n",
    "\n",
    "train_proba_df['predicted'] = model.predict(X_train)\n",
    "train_proba_df.head(20)\n",
    "\n",
    "\n",
    "#write probability table to a csv called predictions\n",
    "train_proba_df.to_csv('predictions.csv')"
   ]
  },
  {
   "cell_type": "code",
   "execution_count": null,
   "id": "06b79a4a",
   "metadata": {},
   "outputs": [],
   "source": []
  }
 ],
 "metadata": {
  "kernelspec": {
   "display_name": "Python 3",
   "language": "python",
   "name": "python3"
  },
  "language_info": {
   "codemirror_mode": {
    "name": "ipython",
    "version": 3
   },
   "file_extension": ".py",
   "mimetype": "text/x-python",
   "name": "python",
   "nbconvert_exporter": "python",
   "pygments_lexer": "ipython3",
   "version": "3.8.8"
  }
 },
 "nbformat": 4,
 "nbformat_minor": 5
}
