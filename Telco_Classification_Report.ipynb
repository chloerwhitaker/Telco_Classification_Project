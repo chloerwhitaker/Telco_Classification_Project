{
 "cells": [
  {
   "cell_type": "markdown",
   "id": "76536daa",
   "metadata": {},
   "source": [
    "## How to keep a Telco Customer\n",
    "\n",
    "by Chloe Whitaker 2021-11-29"
   ]
  },
  {
   "cell_type": "markdown",
   "id": "930e369a",
   "metadata": {},
   "source": [
    "### Project Introduction"
   ]
  },
  {
   "cell_type": "markdown",
   "id": "75d67b5e",
   "metadata": {},
   "source": [
    "#### Project Goal"
   ]
  },
  {
   "cell_type": "markdown",
   "id": "7b82a592",
   "metadata": {},
   "source": [
    "#### Project Description"
   ]
  },
  {
   "cell_type": "markdown",
   "id": "df7d09cd",
   "metadata": {},
   "source": [
    "#### Initial Questions"
   ]
  },
  {
   "cell_type": "markdown",
   "id": "999e025a",
   "metadata": {},
   "source": [
    "1. What month are customers most likely to churn in?    \n",
    "2. Are customers with a certain service type more or less likely to churn? \n",
    "    - Specifically are customers with fiber more likely to churn? \n",
    "3. Do the customers that churn have a higher monthly cost than those that do not churn? \n",
    "    - Do the customers that churn have a higher monthly cost and a certain service type? \n",
    "4. Do the customers that churn use paperless billing more than those who don't?"
   ]
  },
  {
   "cell_type": "markdown",
   "id": "2ce8d5fb",
   "metadata": {},
   "source": [
    "#### Data Dictionary"
   ]
  },
  {
   "cell_type": "markdown",
   "id": "95e6491e",
   "metadata": {},
   "source": [
    "#### Imports Necessary for this project"
   ]
  },
  {
   "cell_type": "code",
   "execution_count": 144,
   "id": "15b9e44f",
   "metadata": {},
   "outputs": [],
   "source": [
    "import acquire_telco\n",
    "import prepare_telco\n",
    "\n",
    "import warnings\n",
    "warnings.filterwarnings(\"ignore\")\n",
    "\n",
    "import numpy as np\n",
    "import pandas as pd \n",
    "import math\n",
    "\n",
    "from pydataset import data\n",
    "\n",
    "import scipy.stats as stats\n",
    "\n",
    "from sklearn.model_selection import train_test_split\n",
    "from sklearn.tree import DecisionTreeClassifier\n",
    "from sklearn.tree import export_graphviz\n",
    "from sklearn.metrics import classification_report\n",
    "from sklearn.metrics import confusion_matrix\n",
    "from sklearn.ensemble import RandomForestClassifier\n",
    "from sklearn.neighbors import KNeighborsClassifier\n",
    "from sklearn.impute import SimpleImputer\n",
    "from sklearn.linear_model import LogisticRegression\n",
    "\n",
    "import matplotlib.pyplot as plt\n",
    "import seaborn as sns"
   ]
  },
  {
   "cell_type": "markdown",
   "id": "eb6a5a93",
   "metadata": {},
   "source": [
    "### Aquire the Telco Data"
   ]
  },
  {
   "cell_type": "markdown",
   "id": "b306877f",
   "metadata": {},
   "source": [
    "We will aquire the telco data from the Codeup SQL database using a function stored in acquire_telco.py."
   ]
  },
  {
   "cell_type": "code",
   "execution_count": 5,
   "id": "0091359d",
   "metadata": {},
   "outputs": [],
   "source": [
    "# import acquire_telco.py\n",
    "import acquire_telco"
   ]
  },
  {
   "cell_type": "code",
   "execution_count": 6,
   "id": "0f644c71",
   "metadata": {},
   "outputs": [
    {
     "data": {
      "text/html": [
       "<div>\n",
       "<style scoped>\n",
       "    .dataframe tbody tr th:only-of-type {\n",
       "        vertical-align: middle;\n",
       "    }\n",
       "\n",
       "    .dataframe tbody tr th {\n",
       "        vertical-align: top;\n",
       "    }\n",
       "\n",
       "    .dataframe thead th {\n",
       "        text-align: right;\n",
       "    }\n",
       "</style>\n",
       "<table border=\"1\" class=\"dataframe\">\n",
       "  <thead>\n",
       "    <tr style=\"text-align: right;\">\n",
       "      <th></th>\n",
       "      <th>payment_type_id</th>\n",
       "      <th>internet_service_type_id</th>\n",
       "      <th>contract_type_id</th>\n",
       "      <th>customer_id</th>\n",
       "      <th>gender</th>\n",
       "      <th>senior_citizen</th>\n",
       "      <th>partner</th>\n",
       "      <th>dependents</th>\n",
       "      <th>tenure</th>\n",
       "      <th>phone_service</th>\n",
       "      <th>...</th>\n",
       "      <th>tech_support</th>\n",
       "      <th>streaming_tv</th>\n",
       "      <th>streaming_movies</th>\n",
       "      <th>paperless_billing</th>\n",
       "      <th>monthly_charges</th>\n",
       "      <th>total_charges</th>\n",
       "      <th>churn</th>\n",
       "      <th>contract_type</th>\n",
       "      <th>internet_service_type</th>\n",
       "      <th>payment_type</th>\n",
       "    </tr>\n",
       "  </thead>\n",
       "  <tbody>\n",
       "    <tr>\n",
       "      <th>0</th>\n",
       "      <td>2</td>\n",
       "      <td>1</td>\n",
       "      <td>3</td>\n",
       "      <td>0016-QLJIS</td>\n",
       "      <td>Female</td>\n",
       "      <td>0</td>\n",
       "      <td>Yes</td>\n",
       "      <td>Yes</td>\n",
       "      <td>65</td>\n",
       "      <td>Yes</td>\n",
       "      <td>...</td>\n",
       "      <td>Yes</td>\n",
       "      <td>Yes</td>\n",
       "      <td>Yes</td>\n",
       "      <td>Yes</td>\n",
       "      <td>90.45</td>\n",
       "      <td>5957.9</td>\n",
       "      <td>No</td>\n",
       "      <td>Two year</td>\n",
       "      <td>DSL</td>\n",
       "      <td>Mailed check</td>\n",
       "    </tr>\n",
       "    <tr>\n",
       "      <th>1</th>\n",
       "      <td>4</td>\n",
       "      <td>1</td>\n",
       "      <td>3</td>\n",
       "      <td>0017-DINOC</td>\n",
       "      <td>Male</td>\n",
       "      <td>0</td>\n",
       "      <td>No</td>\n",
       "      <td>No</td>\n",
       "      <td>54</td>\n",
       "      <td>No</td>\n",
       "      <td>...</td>\n",
       "      <td>Yes</td>\n",
       "      <td>Yes</td>\n",
       "      <td>No</td>\n",
       "      <td>No</td>\n",
       "      <td>45.20</td>\n",
       "      <td>2460.55</td>\n",
       "      <td>No</td>\n",
       "      <td>Two year</td>\n",
       "      <td>DSL</td>\n",
       "      <td>Credit card (automatic)</td>\n",
       "    </tr>\n",
       "    <tr>\n",
       "      <th>2</th>\n",
       "      <td>3</td>\n",
       "      <td>1</td>\n",
       "      <td>3</td>\n",
       "      <td>0019-GFNTW</td>\n",
       "      <td>Female</td>\n",
       "      <td>0</td>\n",
       "      <td>No</td>\n",
       "      <td>No</td>\n",
       "      <td>56</td>\n",
       "      <td>No</td>\n",
       "      <td>...</td>\n",
       "      <td>Yes</td>\n",
       "      <td>No</td>\n",
       "      <td>No</td>\n",
       "      <td>No</td>\n",
       "      <td>45.05</td>\n",
       "      <td>2560.1</td>\n",
       "      <td>No</td>\n",
       "      <td>Two year</td>\n",
       "      <td>DSL</td>\n",
       "      <td>Bank transfer (automatic)</td>\n",
       "    </tr>\n",
       "    <tr>\n",
       "      <th>3</th>\n",
       "      <td>4</td>\n",
       "      <td>1</td>\n",
       "      <td>3</td>\n",
       "      <td>0056-EPFBG</td>\n",
       "      <td>Male</td>\n",
       "      <td>0</td>\n",
       "      <td>Yes</td>\n",
       "      <td>Yes</td>\n",
       "      <td>20</td>\n",
       "      <td>No</td>\n",
       "      <td>...</td>\n",
       "      <td>Yes</td>\n",
       "      <td>No</td>\n",
       "      <td>No</td>\n",
       "      <td>Yes</td>\n",
       "      <td>39.40</td>\n",
       "      <td>825.4</td>\n",
       "      <td>No</td>\n",
       "      <td>Two year</td>\n",
       "      <td>DSL</td>\n",
       "      <td>Credit card (automatic)</td>\n",
       "    </tr>\n",
       "    <tr>\n",
       "      <th>4</th>\n",
       "      <td>3</td>\n",
       "      <td>1</td>\n",
       "      <td>3</td>\n",
       "      <td>0078-XZMHT</td>\n",
       "      <td>Male</td>\n",
       "      <td>0</td>\n",
       "      <td>Yes</td>\n",
       "      <td>No</td>\n",
       "      <td>72</td>\n",
       "      <td>Yes</td>\n",
       "      <td>...</td>\n",
       "      <td>Yes</td>\n",
       "      <td>Yes</td>\n",
       "      <td>Yes</td>\n",
       "      <td>Yes</td>\n",
       "      <td>85.15</td>\n",
       "      <td>6316.2</td>\n",
       "      <td>No</td>\n",
       "      <td>Two year</td>\n",
       "      <td>DSL</td>\n",
       "      <td>Bank transfer (automatic)</td>\n",
       "    </tr>\n",
       "  </tbody>\n",
       "</table>\n",
       "<p>5 rows × 24 columns</p>\n",
       "</div>"
      ],
      "text/plain": [
       "   payment_type_id  internet_service_type_id  contract_type_id customer_id  \\\n",
       "0                2                         1                 3  0016-QLJIS   \n",
       "1                4                         1                 3  0017-DINOC   \n",
       "2                3                         1                 3  0019-GFNTW   \n",
       "3                4                         1                 3  0056-EPFBG   \n",
       "4                3                         1                 3  0078-XZMHT   \n",
       "\n",
       "   gender  senior_citizen partner dependents  tenure phone_service  ...  \\\n",
       "0  Female               0     Yes        Yes      65           Yes  ...   \n",
       "1    Male               0      No         No      54            No  ...   \n",
       "2  Female               0      No         No      56            No  ...   \n",
       "3    Male               0     Yes        Yes      20            No  ...   \n",
       "4    Male               0     Yes         No      72           Yes  ...   \n",
       "\n",
       "  tech_support streaming_tv streaming_movies paperless_billing  \\\n",
       "0          Yes          Yes              Yes               Yes   \n",
       "1          Yes          Yes               No                No   \n",
       "2          Yes           No               No                No   \n",
       "3          Yes           No               No               Yes   \n",
       "4          Yes          Yes              Yes               Yes   \n",
       "\n",
       "  monthly_charges total_charges churn contract_type  internet_service_type  \\\n",
       "0           90.45        5957.9    No      Two year                    DSL   \n",
       "1           45.20       2460.55    No      Two year                    DSL   \n",
       "2           45.05        2560.1    No      Two year                    DSL   \n",
       "3           39.40         825.4    No      Two year                    DSL   \n",
       "4           85.15        6316.2    No      Two year                    DSL   \n",
       "\n",
       "                payment_type  \n",
       "0               Mailed check  \n",
       "1    Credit card (automatic)  \n",
       "2  Bank transfer (automatic)  \n",
       "3    Credit card (automatic)  \n",
       "4  Bank transfer (automatic)  \n",
       "\n",
       "[5 rows x 24 columns]"
      ]
     },
     "execution_count": 6,
     "metadata": {},
     "output_type": "execute_result"
    }
   ],
   "source": [
    "# acquire\n",
    "df = acquire_telco.new_telco_data()\n",
    "df.head()"
   ]
  },
  {
   "cell_type": "markdown",
   "id": "bb2b476d",
   "metadata": {},
   "source": [
    "### Wrangle the Telco Data"
   ]
  },
  {
   "cell_type": "markdown",
   "id": "5087cca1",
   "metadata": {},
   "source": [
    "Here we will prepare the data using functions stored in prepare_telco.py. \n",
    "We are going to use this data to develop a model, therefore we need to make sure there are no incompatible datatypes, and we are left with only clean columns that are useful. We will also need to split the data into train, validate, test so that we can test the accuracy of our model. \n",
    "\n",
    "We will run the clean_split_telco_data function that runs both the wrangle_telco and the train_validate_test_split functions. \n",
    "\n",
    "The wrangle_telco data will do the following:\n",
    "- remove duplicates\n",
    "- drop whitespaces\n",
    "- drop the columns that don't seem useful: 'payment_type_id', 'internet_service_type_id', 'contract_type_id', 'customer_id', and 'gender'\n",
    "- converts 'total_charges' from and object to a float\n",
    "- converts the binary categorical variables to numeric: 'tenure', 'churn', 'partner', 'dependents', 'paperless_billing', 'phone_service', 'multiple_lines', 'online_security', 'streaming_movies', 'streaming_tv', 'online_backup', 'device_protection', 'tech_support', 'is_autopay'\n",
    "- gets dummies from non-binary object varibales \n",
    "- concatenate dummy dataframe to original \n",
    "- returns the cleaned df\n",
    "\n",
    "The train_validate_test_split function will do the following: \n",
    "\n",
    "- takes in a dataframe (df) and returns 3 dfs (train, validate, and test) split 20%, 24%, 56% respectively \n",
    "- takes in a random seed for replicating results"
   ]
  },
  {
   "cell_type": "code",
   "execution_count": 7,
   "id": "3f2799a3",
   "metadata": {},
   "outputs": [],
   "source": [
    "# import prepare_telco.py\n",
    "import prepare_telco"
   ]
  },
  {
   "cell_type": "code",
   "execution_count": 8,
   "id": "00420030",
   "metadata": {},
   "outputs": [],
   "source": [
    "# run functions from prepare_teco.py to prepare and split the data\n",
    "train, validate, test = prepare_telco.clean_split_telco_data(df)"
   ]
  },
  {
   "cell_type": "code",
   "execution_count": 9,
   "id": "57828588",
   "metadata": {},
   "outputs": [
    {
     "data": {
      "text/plain": [
       "(3937, 30)"
      ]
     },
     "execution_count": 9,
     "metadata": {},
     "output_type": "execute_result"
    }
   ],
   "source": [
    "train.shape"
   ]
  },
  {
   "cell_type": "code",
   "execution_count": 10,
   "id": "eea987aa",
   "metadata": {},
   "outputs": [
    {
     "data": {
      "text/plain": [
       "(1688, 30)"
      ]
     },
     "execution_count": 10,
     "metadata": {},
     "output_type": "execute_result"
    }
   ],
   "source": [
    "validate.shape"
   ]
  },
  {
   "cell_type": "code",
   "execution_count": 11,
   "id": "6a294f61",
   "metadata": {},
   "outputs": [
    {
     "data": {
      "text/plain": [
       "(1407, 30)"
      ]
     },
     "execution_count": 11,
     "metadata": {},
     "output_type": "execute_result"
    }
   ],
   "source": [
    "test.shape"
   ]
  },
  {
   "cell_type": "code",
   "execution_count": 12,
   "id": "7f3c251b",
   "metadata": {},
   "outputs": [
    {
     "data": {
      "text/html": [
       "<div>\n",
       "<style scoped>\n",
       "    .dataframe tbody tr th:only-of-type {\n",
       "        vertical-align: middle;\n",
       "    }\n",
       "\n",
       "    .dataframe tbody tr th {\n",
       "        vertical-align: top;\n",
       "    }\n",
       "\n",
       "    .dataframe thead th {\n",
       "        text-align: right;\n",
       "    }\n",
       "</style>\n",
       "<table border=\"1\" class=\"dataframe\">\n",
       "  <thead>\n",
       "    <tr style=\"text-align: right;\">\n",
       "      <th></th>\n",
       "      <th>senior_citizen</th>\n",
       "      <th>partner</th>\n",
       "      <th>dependents</th>\n",
       "      <th>tenure</th>\n",
       "      <th>phone_service</th>\n",
       "      <th>multiple_lines</th>\n",
       "      <th>online_security</th>\n",
       "      <th>online_backup</th>\n",
       "      <th>device_protection</th>\n",
       "      <th>tech_support</th>\n",
       "      <th>...</th>\n",
       "      <th>contract_type_month_to_month</th>\n",
       "      <th>contract_type_one_year</th>\n",
       "      <th>contract_type_two_year</th>\n",
       "      <th>internet_service_type_DSL</th>\n",
       "      <th>internet_service_type_fiber_optic</th>\n",
       "      <th>internet_service_type_None</th>\n",
       "      <th>payment_type_bank_transfer_auto</th>\n",
       "      <th>payment_type_credit_card_auto</th>\n",
       "      <th>payment_type_electronic_check</th>\n",
       "      <th>payment_type_mailed_check</th>\n",
       "    </tr>\n",
       "  </thead>\n",
       "  <tbody>\n",
       "    <tr>\n",
       "      <th>6096</th>\n",
       "      <td>0</td>\n",
       "      <td>1</td>\n",
       "      <td>0</td>\n",
       "      <td>70</td>\n",
       "      <td>1</td>\n",
       "      <td>0</td>\n",
       "      <td>0</td>\n",
       "      <td>0</td>\n",
       "      <td>0</td>\n",
       "      <td>0</td>\n",
       "      <td>...</td>\n",
       "      <td>0</td>\n",
       "      <td>0</td>\n",
       "      <td>1</td>\n",
       "      <td>0</td>\n",
       "      <td>0</td>\n",
       "      <td>1</td>\n",
       "      <td>1</td>\n",
       "      <td>0</td>\n",
       "      <td>0</td>\n",
       "      <td>0</td>\n",
       "    </tr>\n",
       "    <tr>\n",
       "      <th>1603</th>\n",
       "      <td>0</td>\n",
       "      <td>1</td>\n",
       "      <td>1</td>\n",
       "      <td>15</td>\n",
       "      <td>1</td>\n",
       "      <td>0</td>\n",
       "      <td>0</td>\n",
       "      <td>1</td>\n",
       "      <td>1</td>\n",
       "      <td>1</td>\n",
       "      <td>...</td>\n",
       "      <td>1</td>\n",
       "      <td>0</td>\n",
       "      <td>0</td>\n",
       "      <td>1</td>\n",
       "      <td>0</td>\n",
       "      <td>0</td>\n",
       "      <td>0</td>\n",
       "      <td>0</td>\n",
       "      <td>0</td>\n",
       "      <td>1</td>\n",
       "    </tr>\n",
       "    <tr>\n",
       "      <th>5350</th>\n",
       "      <td>1</td>\n",
       "      <td>1</td>\n",
       "      <td>0</td>\n",
       "      <td>52</td>\n",
       "      <td>1</td>\n",
       "      <td>1</td>\n",
       "      <td>1</td>\n",
       "      <td>1</td>\n",
       "      <td>1</td>\n",
       "      <td>0</td>\n",
       "      <td>...</td>\n",
       "      <td>1</td>\n",
       "      <td>0</td>\n",
       "      <td>0</td>\n",
       "      <td>0</td>\n",
       "      <td>1</td>\n",
       "      <td>0</td>\n",
       "      <td>0</td>\n",
       "      <td>0</td>\n",
       "      <td>1</td>\n",
       "      <td>0</td>\n",
       "    </tr>\n",
       "    <tr>\n",
       "      <th>2068</th>\n",
       "      <td>0</td>\n",
       "      <td>0</td>\n",
       "      <td>0</td>\n",
       "      <td>39</td>\n",
       "      <td>0</td>\n",
       "      <td>0</td>\n",
       "      <td>0</td>\n",
       "      <td>0</td>\n",
       "      <td>0</td>\n",
       "      <td>1</td>\n",
       "      <td>...</td>\n",
       "      <td>1</td>\n",
       "      <td>0</td>\n",
       "      <td>0</td>\n",
       "      <td>1</td>\n",
       "      <td>0</td>\n",
       "      <td>0</td>\n",
       "      <td>0</td>\n",
       "      <td>0</td>\n",
       "      <td>1</td>\n",
       "      <td>0</td>\n",
       "    </tr>\n",
       "    <tr>\n",
       "      <th>6366</th>\n",
       "      <td>0</td>\n",
       "      <td>1</td>\n",
       "      <td>0</td>\n",
       "      <td>32</td>\n",
       "      <td>1</td>\n",
       "      <td>0</td>\n",
       "      <td>0</td>\n",
       "      <td>0</td>\n",
       "      <td>0</td>\n",
       "      <td>0</td>\n",
       "      <td>...</td>\n",
       "      <td>0</td>\n",
       "      <td>1</td>\n",
       "      <td>0</td>\n",
       "      <td>0</td>\n",
       "      <td>0</td>\n",
       "      <td>1</td>\n",
       "      <td>0</td>\n",
       "      <td>0</td>\n",
       "      <td>0</td>\n",
       "      <td>1</td>\n",
       "    </tr>\n",
       "  </tbody>\n",
       "</table>\n",
       "<p>5 rows × 30 columns</p>\n",
       "</div>"
      ],
      "text/plain": [
       "      senior_citizen  partner  dependents  tenure  phone_service  \\\n",
       "6096               0        1           0      70              1   \n",
       "1603               0        1           1      15              1   \n",
       "5350               1        1           0      52              1   \n",
       "2068               0        0           0      39              0   \n",
       "6366               0        1           0      32              1   \n",
       "\n",
       "      multiple_lines  online_security  online_backup  device_protection  \\\n",
       "6096               0                0              0                  0   \n",
       "1603               0                0              1                  1   \n",
       "5350               1                1              1                  1   \n",
       "2068               0                0              0                  0   \n",
       "6366               0                0              0                  0   \n",
       "\n",
       "      tech_support  ...  contract_type_month_to_month  contract_type_one_year  \\\n",
       "6096             0  ...                             0                       0   \n",
       "1603             1  ...                             1                       0   \n",
       "5350             0  ...                             1                       0   \n",
       "2068             1  ...                             1                       0   \n",
       "6366             0  ...                             0                       1   \n",
       "\n",
       "      contract_type_two_year  internet_service_type_DSL  \\\n",
       "6096                       1                          0   \n",
       "1603                       0                          1   \n",
       "5350                       0                          0   \n",
       "2068                       0                          1   \n",
       "6366                       0                          0   \n",
       "\n",
       "      internet_service_type_fiber_optic  internet_service_type_None  \\\n",
       "6096                                  0                           1   \n",
       "1603                                  0                           0   \n",
       "5350                                  1                           0   \n",
       "2068                                  0                           0   \n",
       "6366                                  0                           1   \n",
       "\n",
       "     payment_type_bank_transfer_auto payment_type_credit_card_auto  \\\n",
       "6096                               1                             0   \n",
       "1603                               0                             0   \n",
       "5350                               0                             0   \n",
       "2068                               0                             0   \n",
       "6366                               0                             0   \n",
       "\n",
       "     payment_type_electronic_check  payment_type_mailed_check  \n",
       "6096                             0                          0  \n",
       "1603                             0                          1  \n",
       "5350                             1                          0  \n",
       "2068                             1                          0  \n",
       "6366                             0                          1  \n",
       "\n",
       "[5 rows x 30 columns]"
      ]
     },
     "execution_count": 12,
     "metadata": {},
     "output_type": "execute_result"
    }
   ],
   "source": [
    "# verify the df we brought in is what we want\n",
    "train.head()"
   ]
  },
  {
   "cell_type": "code",
   "execution_count": 13,
   "id": "0cc081c0",
   "metadata": {},
   "outputs": [
    {
     "data": {
      "text/plain": [
       "senior_citizen                         int64\n",
       "partner                                int64\n",
       "dependents                             int64\n",
       "tenure                                 int64\n",
       "phone_service                          int64\n",
       "multiple_lines                         int64\n",
       "online_security                        int64\n",
       "online_backup                          int64\n",
       "device_protection                      int64\n",
       "tech_support                           int64\n",
       "streaming_tv                           int64\n",
       "streaming_movies                       int64\n",
       "paperless_billing                      int64\n",
       "monthly_charges                      float64\n",
       "total_charges                        float64\n",
       "churn                                  int64\n",
       "contract_type                         object\n",
       "internet_service_type                 object\n",
       "payment_type                          object\n",
       "is_autopay                              bool\n",
       "contract_type_month_to_month           uint8\n",
       "contract_type_one_year                 uint8\n",
       "contract_type_two_year                 uint8\n",
       "internet_service_type_DSL              uint8\n",
       "internet_service_type_fiber_optic      uint8\n",
       "internet_service_type_None             uint8\n",
       "payment_type_bank_transfer_auto        uint8\n",
       "payment_type_credit_card_auto          uint8\n",
       "payment_type_electronic_check          uint8\n",
       "payment_type_mailed_check              uint8\n",
       "dtype: object"
      ]
     },
     "execution_count": 13,
     "metadata": {},
     "output_type": "execute_result"
    }
   ],
   "source": [
    "# check that datatypes are all compatible for modeling\n",
    "train.dtypes"
   ]
  },
  {
   "cell_type": "markdown",
   "id": "150f41f6",
   "metadata": {},
   "source": [
    "Before we get to the modeling stage, we will drop the three columns that are 'object' datatypes. This type is not compatible with modeling but will be useful in the exploritory stage. \n",
    "Since we have created dummies from these columns we will not need them anymore. "
   ]
  },
  {
   "cell_type": "markdown",
   "id": "603fc6fb",
   "metadata": {},
   "source": [
    "### Explore the Telco Data"
   ]
  },
  {
   "cell_type": "markdown",
   "id": "d88096f0",
   "metadata": {},
   "source": [
    "Here we will explore the telco data to find the key drivers of customer churn. \n",
    "\n",
    "We will ask some initial questions and and answer thoes questions through visuals, statistics, or both. "
   ]
  },
  {
   "cell_type": "markdown",
   "id": "ab3d675c",
   "metadata": {},
   "source": [
    "To get an idea of what kind of question might relevent to ask we can look at the makup of each column in the Telco train data:"
   ]
  },
  {
   "cell_type": "code",
   "execution_count": 103,
   "id": "031521fd",
   "metadata": {},
   "outputs": [
    {
     "name": "stdout",
     "output_type": "stream",
     "text": [
      "senior_citizen\n",
      "0    3290\n",
      "1     647\n",
      "Name: senior_citizen, dtype: int64\n",
      "partner\n",
      "0    2033\n",
      "1    1904\n",
      "Name: partner, dtype: int64\n",
      "dependents\n",
      "0    2764\n",
      "1    1173\n",
      "Name: dependents, dtype: int64\n",
      "tenure\n",
      "1     350\n",
      "72    202\n",
      "2     133\n",
      "3     121\n",
      "71    107\n",
      "4     103\n",
      "5      80\n",
      "7      75\n",
      "70     70\n",
      "8      68\n",
      "11     66\n",
      "68     65\n",
      "9      63\n",
      "12     63\n",
      "10     62\n",
      "13     59\n",
      "6      59\n",
      "69     57\n",
      "67     53\n",
      "23     53\n",
      "15     52\n",
      "24     51\n",
      "64     50\n",
      "14     50\n",
      "18     49\n",
      "30     48\n",
      "56     47\n",
      "61     46\n",
      "22     45\n",
      "60     44\n",
      "62     44\n",
      "52     44\n",
      "41     44\n",
      "16     43\n",
      "29     43\n",
      "65     42\n",
      "35     42\n",
      "66     41\n",
      "53     41\n",
      "19     41\n",
      "26     41\n",
      "33     41\n",
      "46     40\n",
      "32     40\n",
      "51     40\n",
      "27     39\n",
      "40     39\n",
      "17     38\n",
      "55     38\n",
      "54     37\n",
      "48     37\n",
      "50     36\n",
      "34     36\n",
      "63     36\n",
      "57     36\n",
      "37     36\n",
      "39     35\n",
      "43     35\n",
      "38     35\n",
      "28     34\n",
      "21     34\n",
      "49     34\n",
      "25     34\n",
      "47     34\n",
      "59     33\n",
      "20     32\n",
      "31     31\n",
      "58     31\n",
      "45     30\n",
      "36     28\n",
      "42     26\n",
      "44     25\n",
      "Name: tenure, dtype: int64\n",
      "phone_service\n",
      "1    3548\n",
      "0     389\n",
      "Name: phone_service, dtype: int64\n",
      "multiple_lines\n",
      "0    2295\n",
      "1    1642\n",
      "Name: multiple_lines, dtype: int64\n",
      "online_security\n",
      "0    2818\n",
      "1    1119\n",
      "Name: online_security, dtype: int64\n",
      "online_backup\n",
      "0    2578\n",
      "1    1359\n",
      "Name: online_backup, dtype: int64\n",
      "device_protection\n",
      "0    2611\n",
      "1    1326\n",
      "Name: device_protection, dtype: int64\n",
      "tech_support\n",
      "0    2795\n",
      "1    1142\n",
      "Name: tech_support, dtype: int64\n",
      "streaming_tv\n",
      "0    2448\n",
      "1    1489\n",
      "Name: streaming_tv, dtype: int64\n",
      "streaming_movies\n",
      "0    2436\n",
      "1    1501\n",
      "Name: streaming_movies, dtype: int64\n",
      "paperless_billing\n",
      "1    2319\n",
      "0    1618\n",
      "Name: paperless_billing, dtype: int64\n",
      "monthly_charges\n",
      "20.05     32\n",
      "19.65     30\n",
      "20.00     28\n",
      "19.95     27\n",
      "19.90     27\n",
      "          ..\n",
      "56.50      1\n",
      "53.90      1\n",
      "71.95      1\n",
      "33.90      1\n",
      "114.60     1\n",
      "Name: monthly_charges, Length: 1347, dtype: int64\n",
      "total_charges\n",
      "19.65      7\n",
      "19.75      6\n",
      "19.90      6\n",
      "19.55      6\n",
      "20.25      5\n",
      "          ..\n",
      "1734.65    1\n",
      "3437.50    1\n",
      "5610.70    1\n",
      "109.50     1\n",
      "5867.00    1\n",
      "Name: total_charges, Length: 3761, dtype: int64\n",
      "churn\n",
      "0    2891\n",
      "1    1046\n",
      "Name: churn, dtype: int64\n",
      "contract_type\n",
      "Month-to-month    2135\n",
      "Two year           972\n",
      "One year           830\n",
      "Name: contract_type, dtype: int64\n",
      "internet_service_type\n",
      "Fiber optic    1698\n",
      "DSL            1368\n",
      "None            871\n",
      "Name: internet_service_type, dtype: int64\n",
      "payment_type\n",
      "Electronic check             1311\n",
      "Mailed check                  903\n",
      "Bank transfer (automatic)     889\n",
      "Credit card (automatic)       834\n",
      "Name: payment_type, dtype: int64\n",
      "is_autopay\n",
      "False    2214\n",
      "True     1723\n",
      "Name: is_autopay, dtype: int64\n",
      "contract_type_month_to_month\n",
      "1    2135\n",
      "0    1802\n",
      "Name: contract_type_month_to_month, dtype: int64\n",
      "contract_type_one_year\n",
      "0    3107\n",
      "1     830\n",
      "Name: contract_type_one_year, dtype: int64\n",
      "contract_type_two_year\n",
      "0    2965\n",
      "1     972\n",
      "Name: contract_type_two_year, dtype: int64\n",
      "internet_service_type_DSL\n",
      "0    2569\n",
      "1    1368\n",
      "Name: internet_service_type_DSL, dtype: int64\n",
      "internet_service_type_fiber_optic\n",
      "0    2239\n",
      "1    1698\n",
      "Name: internet_service_type_fiber_optic, dtype: int64\n",
      "internet_service_type_None\n",
      "0    3066\n",
      "1     871\n",
      "Name: internet_service_type_None, dtype: int64\n",
      "payment_type_bank_transfer_auto\n",
      "0    3048\n",
      "1     889\n",
      "Name: payment_type_bank_transfer_auto, dtype: int64\n",
      "payment_type_credit_card_auto\n",
      "0    3103\n",
      "1     834\n",
      "Name: payment_type_credit_card_auto, dtype: int64\n",
      "payment_type_electronic_check\n",
      "0    2626\n",
      "1    1311\n",
      "Name: payment_type_electronic_check, dtype: int64\n",
      "payment_type_mailed_check\n",
      "0    3034\n",
      "1     903\n",
      "Name: payment_type_mailed_check, dtype: int64\n"
     ]
    }
   ],
   "source": [
    "# for each column in train, print the value counts of each variable\n",
    "for col in train:\n",
    "    print(col)\n",
    "    print(train[col].value_counts())"
   ]
  },
  {
   "cell_type": "markdown",
   "id": "f9962440",
   "metadata": {},
   "source": [
    "Before we can start to run stat tests and create visuals, we need to create variables to make things simpler."
   ]
  },
  {
   "cell_type": "code",
   "execution_count": 62,
   "id": "ed38c5b4",
   "metadata": {},
   "outputs": [],
   "source": [
    "# We know know telco wants to focus on the cause of m2m churn so we will start there\n",
    "m2m_churn = train[['contract_type']][(train['churn'] == 1)]\n",
    "m2m_no_churn = train[['contract_type']][(train['churn'] == 0)]"
   ]
  },
  {
   "cell_type": "code",
   "execution_count": 137,
   "id": "7d8fb057",
   "metadata": {},
   "outputs": [],
   "source": [
    "internet_churn = train[['internet_service_type']][(train['churn'] == 1)]\n",
    "internet_no_churn = train[['internet_service_type']][(train['churn'] == 0)]"
   ]
  },
  {
   "cell_type": "code",
   "execution_count": 19,
   "id": "d12fb214",
   "metadata": {},
   "outputs": [],
   "source": [
    "fiber_churn = train[['internet_service_type_fiber_optic']][(train['churn'] == 1)]\n",
    "fiber_no_churn = train[['internet_service_type_fiber_optic']][(train['churn'] == 0)]"
   ]
  },
  {
   "cell_type": "code",
   "execution_count": 20,
   "id": "6bd2059c",
   "metadata": {},
   "outputs": [],
   "source": [
    "tenure_churn = train[['tenure']][(train['churn'] == 1)]\n",
    "tenure_no_churn = train[['tenure']][(train['churn'] == 0)]"
   ]
  },
  {
   "cell_type": "code",
   "execution_count": 84,
   "id": "76916939",
   "metadata": {},
   "outputs": [],
   "source": [
    "m2m_tenure = train[['tenure']][(train['contract_type'] == 'Month-to-month')]"
   ]
  },
  {
   "cell_type": "code",
   "execution_count": 155,
   "id": "355f50ec",
   "metadata": {},
   "outputs": [],
   "source": [
    "paperless_b_churn = train[['paperless_billing']][(train['churn'] == 1)]\n",
    "paperless_b_no_churn = train[['paperless_billing']][(train['churn'] == 0)]"
   ]
  },
  {
   "cell_type": "markdown",
   "id": "6562f779",
   "metadata": {},
   "source": [
    "#### The problem: Churn"
   ]
  },
  {
   "cell_type": "markdown",
   "id": "8fcd29c3",
   "metadata": {},
   "source": [
    "Overall churn at Telco is 26.7%"
   ]
  },
  {
   "cell_type": "code",
   "execution_count": 125,
   "id": "8fa9efe2",
   "metadata": {},
   "outputs": [
    {
     "data": {
      "image/png": "[encoded data removed]",
      "text/plain": [
       "<Figure size 432x288 with 1 Axes>"
      ]
     },
     "metadata": {
      "needs_background": "light"
     },
     "output_type": "display_data"
    }
   ],
   "source": [
    "train.churn.value_counts().sort_index().plot.bar()\n",
    "churn_rate = train.churn.mean()\n",
    "plt.title(f\"Overall Churn: {churn_rate:.2%}\")\n",
    "plt.xlabel('Churned');"
   ]
  },
  {
   "cell_type": "markdown",
   "id": "624ff6f8",
   "metadata": {},
   "source": [
    "We will be looking specifically at the month-to-month (m2m) contracts since that's where most of the churn takes place, and that is where Telco would like this project to focus. "
   ]
  },
  {
   "cell_type": "code",
   "execution_count": 24,
   "id": "682823b6",
   "metadata": {},
   "outputs": [
    {
     "data": {
      "image/png": "[encoded data removed]",
      "text/plain": [
       "<Figure size 432x288 with 2 Axes>"
      ]
     },
     "metadata": {
      "needs_background": "light"
     },
     "output_type": "display_data"
    }
   ],
   "source": [
    "plt.subplot(211)\n",
    "\n",
    "sns.countplot(x = 'contract_type', data=train, palette='Purples', ec='black', linewidth=2)\n",
    "\n",
    "plt.title('How does contract type relate to customer churn?')\n",
    "plt.xlabel('')\n",
    "plt.ylabel('')\n",
    "\n",
    "plt.subplot(212)\n",
    "\n",
    "# use hue to add another dimension to your viz\n",
    "sns.countplot(x = 'contract_type', hue = 'churn', data=train, palette='Blues', ec='black', linewidth=2)\n",
    "\n",
    "plt.legend(['Did not churn', 'Churned'])\n",
    "\n",
    "plt.show()\n"
   ]
  },
  {
   "cell_type": "code",
   "execution_count": 26,
   "id": "281f2897",
   "metadata": {},
   "outputs": [
    {
     "data": {
      "image/png": "[encoded data removed]",
      "text/plain": [
       "<Figure size 432x288 with 1 Axes>"
      ]
     },
     "metadata": {
      "needs_background": "light"
     },
     "output_type": "display_data"
    }
   ],
   "source": [
    "# m2m churn compared to the other contract types\n",
    "m2m_churn.value_counts().plot.bar(rot=0);"
   ]
  },
  {
   "cell_type": "markdown",
   "id": "32ca7dcc",
   "metadata": {},
   "source": [
    "Month-2-month churn is 26.57%"
   ]
  },
  {
   "cell_type": "markdown",
   "id": "f03bbeab",
   "metadata": {},
   "source": [
    "1. What month are customers most likely to churn in?  "
   ]
  },
  {
   "cell_type": "code",
   "execution_count": 93,
   "id": "a06d4487",
   "metadata": {},
   "outputs": [
    {
     "data": {
      "image/png": "[encoded data removed]",
      "text/plain": [
       "<Figure size 864x432 with 1 Axes>"
      ]
     },
     "metadata": {
      "needs_background": "light"
     },
     "output_type": "display_data"
    }
   ],
   "source": [
    "plt.figure(figsize=(12, 6))\n",
    "ax = sns.lineplot(x=train.groupby(by='tenure')['tenure'].count().index, y=train.groupby(by='tenure')['tenure'].count());\n"
   ]
  },
  {
   "cell_type": "code",
   "execution_count": 83,
   "id": "3b2f6669",
   "metadata": {},
   "outputs": [
    {
     "data": {
      "text/plain": [
       "churn\n",
       "0    37.583535\n",
       "1    18.471319\n",
       "Name: tenure, dtype: float64"
      ]
     },
     "execution_count": 83,
     "metadata": {},
     "output_type": "execute_result"
    }
   ],
   "source": [
    "avg_churn = train.groupby('churn').tenure.mean()\n",
    "\n",
    "avg_churn.head()"
   ]
  },
  {
   "cell_type": "markdown",
   "id": "00527d64",
   "metadata": {},
   "source": [
    "After the first month, the amount of customers that stay decrease significantly, with the average number of months a churning customers stays being 18. "
   ]
  },
  {
   "cell_type": "markdown",
   "id": "962e97bf",
   "metadata": {},
   "source": [
    "2. Are customers with a certain service type more or less likely to churn\n",
    "  - Specifically are customers with fiber more likely to churn? "
   ]
  },
  {
   "cell_type": "code",
   "execution_count": 27,
   "id": "01f43bf8",
   "metadata": {},
   "outputs": [
    {
     "data": {
      "image/png": "[encoded data removed]",
      "text/plain": [
       "<Figure size 432x288 with 2 Axes>"
      ]
     },
     "metadata": {
      "needs_background": "light"
     },
     "output_type": "display_data"
    }
   ],
   "source": [
    "plt.subplot(211)\n",
    "\n",
    "sns.countplot(x = 'internet_service_type', data=train, palette='Purples', ec='black', linewidth=2)\n",
    "\n",
    "plt.title('How does internet service type relate to customer churn?')\n",
    "plt.xlabel('')\n",
    "plt.ylabel('')\n",
    "\n",
    "plt.subplot(212)\n",
    "\n",
    "# use hue to add another dimension to your viz\n",
    "sns.countplot(x = 'internet_service_type', hue = 'churn', data=train, palette='Blues', ec='black', linewidth=2)\n",
    "\n",
    "plt.legend(['Did not churn', 'Churned'])\n",
    "\n",
    "plt.show()\n"
   ]
  },
  {
   "cell_type": "code",
   "execution_count": 21,
   "id": "ca255ceb",
   "metadata": {},
   "outputs": [
    {
     "data": {
      "image/png": "[encoded data removed]",
      "text/plain": [
       "<Figure size 432x288 with 1 Axes>"
      ]
     },
     "metadata": {
      "needs_background": "light"
     },
     "output_type": "display_data"
    }
   ],
   "source": [
    "internet_churn.value_counts().plot.bar(rot=0);"
   ]
  },
  {
   "cell_type": "markdown",
   "id": "170a8f9c",
   "metadata": {},
   "source": [
    "Through these visuals we can see that fiber customers are more likely to churn than DSL and those without internet. "
   ]
  },
  {
   "cell_type": "markdown",
   "id": "46891dbd",
   "metadata": {},
   "source": [
    "Now we will run a Chi2 statistical test to see whether there is a correlation between fiber customers and churn. "
   ]
  },
  {
   "cell_type": "code",
   "execution_count": 128,
   "id": "5b83af3a",
   "metadata": {},
   "outputs": [],
   "source": [
    "# set alpha to 0.05 to ensure 95% confidence\n",
    "a = 0.05"
   ]
  },
  {
   "cell_type": "markdown",
   "id": "b6b562a1",
   "metadata": {},
   "source": [
    "Null Hypothesis: A customer churning and having fiber optic internet are independent. \n",
    "\n",
    "Alt Hypothesis: A customer churning and having fiber optic internet are dependent."
   ]
  },
  {
   "cell_type": "code",
   "execution_count": 135,
   "id": "21dbb36e",
   "metadata": {},
   "outputs": [
    {
     "data": {
      "text/plain": [
       "internet_service_type\n",
       "Fiber optic              716\n",
       "DSL                      266\n",
       "None                      64\n",
       "dtype: int64"
      ]
     },
     "execution_count": 135,
     "metadata": {},
     "output_type": "execute_result"
    }
   ],
   "source": [
    "internet_churn.value_counts()"
   ]
  },
  {
   "cell_type": "code",
   "execution_count": 139,
   "id": "b9ccf1e4",
   "metadata": {},
   "outputs": [
    {
     "data": {
      "text/plain": [
       "330"
      ]
     },
     "execution_count": 139,
     "metadata": {},
     "output_type": "execute_result"
    }
   ],
   "source": [
    "266 + 64"
   ]
  },
  {
   "cell_type": "code",
   "execution_count": 138,
   "id": "157dd989",
   "metadata": {},
   "outputs": [
    {
     "data": {
      "text/plain": [
       "internet_service_type\n",
       "DSL                      1102\n",
       "Fiber optic               982\n",
       "None                      807\n",
       "dtype: int64"
      ]
     },
     "execution_count": 138,
     "metadata": {},
     "output_type": "execute_result"
    }
   ],
   "source": [
    "internet_no_churn.value_counts()"
   ]
  },
  {
   "cell_type": "code",
   "execution_count": 140,
   "id": "780ea58d",
   "metadata": {},
   "outputs": [
    {
     "data": {
      "text/plain": [
       "1909"
      ]
     },
     "execution_count": 140,
     "metadata": {},
     "output_type": "execute_result"
    }
   ],
   "source": [
    "1102 + 807"
   ]
  },
  {
   "cell_type": "code",
   "execution_count": 142,
   "id": "5b12a22c",
   "metadata": {},
   "outputs": [
    {
     "data": {
      "text/html": [
       "<div>\n",
       "<style scoped>\n",
       "    .dataframe tbody tr th:only-of-type {\n",
       "        vertical-align: middle;\n",
       "    }\n",
       "\n",
       "    .dataframe tbody tr th {\n",
       "        vertical-align: top;\n",
       "    }\n",
       "\n",
       "    .dataframe thead th {\n",
       "        text-align: right;\n",
       "    }\n",
       "</style>\n",
       "<table border=\"1\" class=\"dataframe\">\n",
       "  <thead>\n",
       "    <tr style=\"text-align: right;\">\n",
       "      <th></th>\n",
       "      <th>Fiber</th>\n",
       "      <th>No Fiber</th>\n",
       "    </tr>\n",
       "  </thead>\n",
       "  <tbody>\n",
       "    <tr>\n",
       "      <th>Churn</th>\n",
       "      <td>716</td>\n",
       "      <td>330</td>\n",
       "    </tr>\n",
       "    <tr>\n",
       "      <th>No Churn</th>\n",
       "      <td>982</td>\n",
       "      <td>1909</td>\n",
       "    </tr>\n",
       "  </tbody>\n",
       "</table>\n",
       "</div>"
      ],
      "text/plain": [
       "          Fiber  No Fiber\n",
       "Churn       716       330\n",
       "No Churn    982      1909"
      ]
     },
     "execution_count": 142,
     "metadata": {},
     "output_type": "execute_result"
    }
   ],
   "source": [
    "observed = pd.DataFrame([[716, 330], [982, 1909]])\n",
    "observed.index = ['Churn', 'No Churn']\n",
    "observed.columns = ['Fiber', 'No Fiber']\n",
    "observed\n"
   ]
  },
  {
   "cell_type": "code",
   "execution_count": 145,
   "id": "5d1e4984",
   "metadata": {},
   "outputs": [],
   "source": [
    "chi2, p, degf, expected = stats.chi2_contingency(observed)"
   ]
  },
  {
   "cell_type": "code",
   "execution_count": 146,
   "id": "7a8cfd88",
   "metadata": {},
   "outputs": [
    {
     "name": "stdout",
     "output_type": "stream",
     "text": [
      "Observed\n",
      "\n",
      "[[ 716  330]\n",
      " [ 982 1909]]\n",
      "---\n",
      "Expected\n",
      "\n",
      "[[ 451  594]\n",
      " [1246 1644]]\n",
      "---\n",
      "\n",
      "chi^2 = 370.9722\n",
      "p     = 0.0000\n"
     ]
    }
   ],
   "source": [
    "print('Observed\\n')\n",
    "print(observed.values)\n",
    "print('---\\nExpected\\n')\n",
    "print(expected.astype(int))\n",
    "print('---\\n')\n",
    "print(f'chi^2 = {chi2:.4f}')\n",
    "print(f'p     = {p:.4f}')"
   ]
  },
  {
   "cell_type": "code",
   "execution_count": 147,
   "id": "6ea957ba",
   "metadata": {},
   "outputs": [
    {
     "name": "stdout",
     "output_type": "stream",
     "text": [
      "We reject the null\n"
     ]
    }
   ],
   "source": [
    "if p < a:\n",
    "    print('We reject the null')\n",
    "else:\n",
    "    print(\"we fail to reject the null\")"
   ]
  },
  {
   "cell_type": "markdown",
   "id": "ad78aaed",
   "metadata": {},
   "source": [
    "We reject the null hypothesis that a customer churning and having fiber optic internet are independent. "
   ]
  },
  {
   "cell_type": "markdown",
   "id": "61480584",
   "metadata": {},
   "source": [
    "3. Do the customers that churn have a higher monthly cost than those that do not churn? "
   ]
  },
  {
   "cell_type": "code",
   "execution_count": 130,
   "id": "ca196807",
   "metadata": {},
   "outputs": [
    {
     "data": {
      "image/png": "[encoded data removed]",
      "text/plain": [
       "<Figure size 432x288 with 1 Axes>"
      ]
     },
     "metadata": {
      "needs_background": "light"
     },
     "output_type": "display_data"
    }
   ],
   "source": [
    "# Plot groupby churn to see average monthly charges comparison\n",
    "train.groupby('churn').monthly_charges.mean().plot(kind='barh', color='blue', ec='black')\n",
    "\n",
    "plt.title('What Was the Average Monthly Bill Paid by Customers that Churned?')\n",
    "\n",
    "locs, labels = plt.yticks()\n",
    "plt.yticks(locs, ('Did Not Churn', 'Churned'))\n",
    "plt.ylabel('')\n",
    "plt.xlabel('US $')\n",
    "\n",
    "plt.show()"
   ]
  },
  {
   "cell_type": "code",
   "execution_count": 97,
   "id": "05f3cdfd",
   "metadata": {},
   "outputs": [
    {
     "data": {
      "image/png": "[encoded data removed]",
      "text/plain": [
       "<Figure size 864x432 with 1 Axes>"
      ]
     },
     "metadata": {
      "needs_background": "light"
     },
     "output_type": "display_data"
    }
   ],
   "source": [
    "plt.figure(figsize=(12, 6))\n",
    "sns.swarmplot(x='internet_service_type', y='monthly_charges', data=train , hue='churn'  )\n",
    "\n",
    "plt.title('How does internet type and monthly charges relate to churn?')\n",
    "plt.xlabel('')\n",
    "plt.show()"
   ]
  },
  {
   "cell_type": "markdown",
   "id": "1990ad21",
   "metadata": {},
   "source": [
    " 4. Do the customers that churn use paperless billing more than those who don't?"
   ]
  },
  {
   "cell_type": "code",
   "execution_count": 126,
   "id": "f8048a9e",
   "metadata": {},
   "outputs": [
    {
     "data": {
      "text/plain": [
       "<AxesSubplot:xlabel='churn', ylabel='monthly_charges'>"
      ]
     },
     "execution_count": 126,
     "metadata": {},
     "output_type": "execute_result"
    },
    {
     "data": {
      "image/png": "[encoded data removed]",
      "text/plain": [
       "<Figure size 432x288 with 1 Axes>"
      ]
     },
     "metadata": {
      "needs_background": "light"
     },
     "output_type": "display_data"
    }
   ],
   "source": [
    "sns.barplot(x=\"churn\", y=\"monthly_charges\", data=train, ci=None, hue=\"paperless_billing\")"
   ]
  },
  {
   "cell_type": "markdown",
   "id": "3092e103",
   "metadata": {},
   "source": [
    "Through this visual we can see that paperless billing customers are more likely to churn than not. "
   ]
  },
  {
   "cell_type": "markdown",
   "id": "5321c325",
   "metadata": {},
   "source": [
    "Now we will run a Chi2 statistical test to see whether there is a correlation between paperless billing customers and churn. "
   ]
  },
  {
   "cell_type": "code",
   "execution_count": 148,
   "id": "0fc62900",
   "metadata": {},
   "outputs": [],
   "source": [
    "# set alpha to 0.05 to ensure 95% confidence\n",
    "a = 0.05"
   ]
  },
  {
   "cell_type": "markdown",
   "id": "9199a915",
   "metadata": {},
   "source": [
    "Null Hypothesis: A customer churning and having paperless billing are independent. \n",
    "\n",
    "Alt Hypothesis: A customer churning and having paperless billing are dependent. "
   ]
  },
  {
   "cell_type": "code",
   "execution_count": 157,
   "id": "a916fcc9",
   "metadata": {},
   "outputs": [
    {
     "data": {
      "text/plain": [
       "paperless_billing\n",
       "1                    779\n",
       "0                    267\n",
       "dtype: int64"
      ]
     },
     "execution_count": 157,
     "metadata": {},
     "output_type": "execute_result"
    }
   ],
   "source": [
    "paperless_b_churn.value_counts()"
   ]
  },
  {
   "cell_type": "code",
   "execution_count": 158,
   "id": "fce201ee",
   "metadata": {},
   "outputs": [
    {
     "data": {
      "text/plain": [
       "paperless_billing\n",
       "1                    1540\n",
       "0                    1351\n",
       "dtype: int64"
      ]
     },
     "execution_count": 158,
     "metadata": {},
     "output_type": "execute_result"
    }
   ],
   "source": [
    "paperless_b_no_churn.value_counts()"
   ]
  },
  {
   "cell_type": "code",
   "execution_count": 159,
   "id": "7260f97c",
   "metadata": {},
   "outputs": [
    {
     "data": {
      "text/html": [
       "<div>\n",
       "<style scoped>\n",
       "    .dataframe tbody tr th:only-of-type {\n",
       "        vertical-align: middle;\n",
       "    }\n",
       "\n",
       "    .dataframe tbody tr th {\n",
       "        vertical-align: top;\n",
       "    }\n",
       "\n",
       "    .dataframe thead th {\n",
       "        text-align: right;\n",
       "    }\n",
       "</style>\n",
       "<table border=\"1\" class=\"dataframe\">\n",
       "  <thead>\n",
       "    <tr style=\"text-align: right;\">\n",
       "      <th></th>\n",
       "      <th>Paperless</th>\n",
       "      <th>Not Paperless</th>\n",
       "    </tr>\n",
       "  </thead>\n",
       "  <tbody>\n",
       "    <tr>\n",
       "      <th>Churn</th>\n",
       "      <td>779</td>\n",
       "      <td>267</td>\n",
       "    </tr>\n",
       "    <tr>\n",
       "      <th>No Churn</th>\n",
       "      <td>1540</td>\n",
       "      <td>1315</td>\n",
       "    </tr>\n",
       "  </tbody>\n",
       "</table>\n",
       "</div>"
      ],
      "text/plain": [
       "          Paperless  Not Paperless\n",
       "Churn           779            267\n",
       "No Churn       1540           1315"
      ]
     },
     "execution_count": 159,
     "metadata": {},
     "output_type": "execute_result"
    }
   ],
   "source": [
    "observed = pd.DataFrame([[779, 267], [1540, 1315]])\n",
    "observed.index = ['Churn', 'No Churn']\n",
    "observed.columns = ['Paperless', 'Not Paperless']\n",
    "observed\n"
   ]
  },
  {
   "cell_type": "code",
   "execution_count": 160,
   "id": "bfadf137",
   "metadata": {},
   "outputs": [],
   "source": [
    "chi2, p, degf, expected = stats.chi2_contingency(observed)"
   ]
  },
  {
   "cell_type": "code",
   "execution_count": 161,
   "id": "d99a8d43",
   "metadata": {},
   "outputs": [
    {
     "name": "stdout",
     "output_type": "stream",
     "text": [
      "Observed\n",
      "\n",
      "[[ 779  267]\n",
      " [1540 1315]]\n",
      "---\n",
      "Expected\n",
      "\n",
      "[[ 621  424]\n",
      " [1697 1157]]\n",
      "---\n",
      "\n",
      "chi^2 = 133.0378\n",
      "p     = 0.0000\n"
     ]
    }
   ],
   "source": [
    "print('Observed\\n')\n",
    "print(observed.values)\n",
    "print('---\\nExpected\\n')\n",
    "print(expected.astype(int))\n",
    "print('---\\n')\n",
    "print(f'chi^2 = {chi2:.4f}')\n",
    "print(f'p     = {p:.4f}')"
   ]
  },
  {
   "cell_type": "code",
   "execution_count": 162,
   "id": "1b51aed5",
   "metadata": {},
   "outputs": [
    {
     "name": "stdout",
     "output_type": "stream",
     "text": [
      "We reject the null\n"
     ]
    }
   ],
   "source": [
    "if p < a:\n",
    "    print('We reject the null')\n",
    "else:\n",
    "    print(\"we fail to reject the null\")"
   ]
  },
  {
   "cell_type": "markdown",
   "id": "02efca9c",
   "metadata": {},
   "source": [
    "We reject the null hypothesis that a customer churning and having paperless billing are independent."
   ]
  },
  {
   "cell_type": "markdown",
   "id": "57343548",
   "metadata": {},
   "source": [
    "### Modeling to Predict Customer Churn"
   ]
  },
  {
   "cell_type": "markdown",
   "id": "b55a8398",
   "metadata": {},
   "source": [
    "Before we build our models we need to define our X and Y variables and drop the three categorical features that are left. "
   ]
  },
  {
   "cell_type": "code",
   "execution_count": 164,
   "id": "1bff85fc",
   "metadata": {},
   "outputs": [],
   "source": [
    "X_train = train.drop(columns=['contract_type', 'internet_service_type', 'payment_type'])\n",
    "y_train = train[['churn']]\n",
    "\n",
    "X_validate = validate.drop(columns=['contract_type', 'internet_service_type', 'payment_type'])\n",
    "y_validate = validate[['churn']]\n",
    "\n",
    "X_test = test.drop(columns=['contract_type', 'internet_service_type', 'payment_type'])\n",
    "y_test = test[['churn']]\n"
   ]
  },
  {
   "cell_type": "code",
   "execution_count": 166,
   "id": "63917bbe",
   "metadata": {},
   "outputs": [
    {
     "data": {
      "text/plain": [
       "senior_citizen                         int64\n",
       "partner                                int64\n",
       "dependents                             int64\n",
       "tenure                                 int64\n",
       "phone_service                          int64\n",
       "multiple_lines                         int64\n",
       "online_security                        int64\n",
       "online_backup                          int64\n",
       "device_protection                      int64\n",
       "tech_support                           int64\n",
       "streaming_tv                           int64\n",
       "streaming_movies                       int64\n",
       "paperless_billing                      int64\n",
       "monthly_charges                      float64\n",
       "total_charges                        float64\n",
       "churn                                  int64\n",
       "is_autopay                              bool\n",
       "contract_type_month_to_month           uint8\n",
       "contract_type_one_year                 uint8\n",
       "contract_type_two_year                 uint8\n",
       "internet_service_type_DSL              uint8\n",
       "internet_service_type_fiber_optic      uint8\n",
       "internet_service_type_None             uint8\n",
       "payment_type_bank_transfer_auto        uint8\n",
       "payment_type_credit_card_auto          uint8\n",
       "payment_type_electronic_check          uint8\n",
       "payment_type_mailed_check              uint8\n",
       "dtype: object"
      ]
     },
     "execution_count": 166,
     "metadata": {},
     "output_type": "execute_result"
    }
   ],
   "source": [
    "X_train.dtypes"
   ]
  },
  {
   "cell_type": "markdown",
   "id": "323beb4c",
   "metadata": {},
   "source": [
    "#### Establishing the Baseline"
   ]
  },
  {
   "cell_type": "markdown",
   "id": "16f6a9e1",
   "metadata": {},
   "source": [
    "#### Fit Three Different Models"
   ]
  },
  {
   "cell_type": "markdown",
   "id": "991f254a",
   "metadata": {},
   "source": [
    "#### Select the Best Model For the Project"
   ]
  },
  {
   "cell_type": "markdown",
   "id": "878aa121",
   "metadata": {},
   "source": [
    "### Project Conclusion "
   ]
  },
  {
   "cell_type": "markdown",
   "id": "a458a3df",
   "metadata": {},
   "source": [
    "#### Summary"
   ]
  },
  {
   "cell_type": "markdown",
   "id": "38318914",
   "metadata": {},
   "source": [
    "#### Recommendations"
   ]
  },
  {
   "cell_type": "markdown",
   "id": "c1ff8533",
   "metadata": {},
   "source": []
  }
 ],
 "metadata": {
  "kernelspec": {
   "display_name": "Python 3",
   "language": "python",
   "name": "python3"
  },
  "language_info": {
   "codemirror_mode": {
    "name": "ipython",
    "version": 3
   },
   "file_extension": ".py",
   "mimetype": "text/x-python",
   "name": "python",
   "nbconvert_exporter": "python",
   "pygments_lexer": "ipython3",
   "version": "3.8.8"
  }
 },
 "nbformat": 4,
 "nbformat_minor": 5
}
