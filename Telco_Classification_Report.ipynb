{
 "cells": [
  {
   "cell_type": "markdown",
   "id": "8ae981ea",
   "metadata": {},
   "source": [
    "## How to keep a Telco Customer\n",
    "\n",
    "by Chloe Whitaker 2021-11-29"
   ]
  },
  {
   "cell_type": "markdown",
   "id": "362c4f7a",
   "metadata": {},
   "source": [
    "### Project Introduction"
   ]
  },
  {
   "cell_type": "markdown",
   "id": "ba90de7b",
   "metadata": {},
   "source": [
    "#### Project Goal"
   ]
  },
  {
   "cell_type": "markdown",
   "id": "97fa19f8",
   "metadata": {},
   "source": [
    "Our goal is to identify the drivers of churn at Telco and the likelihood\n",
    "that a current customer will churn, so that we can develop custom solutions that increase retention. "
   ]
  },
  {
   "cell_type": "markdown",
   "id": "ee03eda8",
   "metadata": {},
   "source": [
    "#### Project Description"
   ]
  },
  {
   "cell_type": "markdown",
   "id": "a97a5bd4",
   "metadata": {},
   "source": [
    "Here at Telco, keeping customers is an issue. Our churn rates have become much to high, and it's time to dig into why. \n",
    "\n",
    "A huge expense for telecommunication companies is aquiring new customers. If telecommunication companies like ours can retain current customers, they can save on the cost of aquisition. \n",
    "\n",
    "In this project we will look at factors that contribute to customers churnning or not churnning. By identifiying the drivers of churn, we will then develop a model to predict how likely a future customer is to churn or not. We will also recommend tailored solutions to keep customers happy and with the company. Keeping customers = saving money, and we can help telecommunication companies do both. "
   ]
  },
  {
   "cell_type": "markdown",
   "id": "ee0918e6",
   "metadata": {},
   "source": [
    "#### Initial Questions"
   ]
  },
  {
   "cell_type": "markdown",
   "id": "2b464fa7",
   "metadata": {},
   "source": [
    "1. What month are customers most likely to churn in?    \n",
    "2. Are customers with a certain service type more or less likely to churn? \n",
    "    - Specifically are customers with fiber more likely to churn? \n",
    "3. Do the customers that churn have a higher monthly cost than those that do not churn? \n",
    "4. Do the customers that churn use paperless billing more or less than those who don't?"
   ]
  },
  {
   "cell_type": "markdown",
   "id": "f7ad4f78",
   "metadata": {},
   "source": [
    "#### Data Dictionary"
   ]
  },
  {
   "cell_type": "markdown",
   "id": "4fa19d8e",
   "metadata": {},
   "source": [
    "| Variable | Meaning |\n",
    "| --- | --- |\n",
    "| senior_citizen | 'Yes': 1, 'No': 0 if they are a senior citizen |\n",
    "| partner | 'Yes': 1, 'No': 0 if they have a partner on their contract|\n",
    "| dependents| 'Yes': 1, 'No': 0 if they have dependents on their contract|\n",
    "| tenure | the number of months a customer has been with the company|\n",
    "| phone_servive | 'Yes': 1, 'No': 0 if they have phone service|\n",
    "| multiple_lines | 'Yes': 1, 'No': 0 if they have multiple lines|\n",
    "| online_security | 'Yes': 1, 'No': 0 if they have online security|\n",
    "|online_backup|'Yes': 1, 'No': 0 if they have online backup |\n",
    "|device_protection|'Yes': 1, 'No': 0 if they have device protection |\n",
    "|tech_support| 'Yes': 1, 'No': 0 if they have tech support|\n",
    "|streaming_tv| 'Yes': 1, 'No': 0 if they have tv streaming|\n",
    "|streaming_movies|'Yes': 1, 'No': 0 if they have movie streaming|\n",
    "|paperless_billing|'Yes': 1, 'No': 0 if they have paperless billing |\n",
    "|monthly_charges| customer's monthly bill| \n",
    "|total_charges  |total of monthly bills during customer's tenure |\n",
    "|churn|'Yes': 1, 'No': 0 if they have churned |\n",
    "|contract_type| one year, two year, or month-to-month|\n",
    "|internet_service_type | dsl, fiber optic, or no service|\n",
    "|payment_type | mailed check, electronic check, credit card (automatic), bank transfer (automatic) |\n",
    "|is_autopay| yes if payment_type contains 'automatic' |\n",
    "|contract_type_month_to_month| yes or no |\n",
    "|contract_type_one_year|yes or no  |\n",
    "|contract_type_two_year|yes or no  |\n",
    "|internet_service_type_DSL|yes or no  |\n",
    "|internet_service_type_fiber_optic |yes or no  |\n",
    "|internet_service_type_None|yes or no  |\n",
    "|payment_type_bank_transfer_auto|yes or no  |\n",
    "|payment_type_credit_card_auto| yes or no |\n",
    "|payment_type_electronic_check|yes or no  | \n",
    "|payment_type_mailed_check| yes or no | \n",
    "\n"
   ]
  },
  {
   "cell_type": "markdown",
   "id": "23363816",
   "metadata": {},
   "source": [
    "#### Imports Necessary for this project"
   ]
  },
  {
   "cell_type": "code",
   "execution_count": 144,
   "id": "0fa20c78",
   "metadata": {},
   "outputs": [],
   "source": [
    "import acquire_telco\n",
    "import prepare_telco\n",
    "\n",
    "import warnings\n",
    "warnings.filterwarnings(\"ignore\")\n",
    "\n",
    "import numpy as np\n",
    "import pandas as pd \n",
    "import math\n",
    "\n",
    "from pydataset import data\n",
    "\n",
    "import scipy.stats as stats\n",
    "\n",
    "from sklearn.model_selection import train_test_split\n",
    "from sklearn.tree import DecisionTreeClassifier\n",
    "from sklearn.tree import export_graphviz\n",
    "from sklearn.metrics import classification_report\n",
    "from sklearn.metrics import confusion_matrix\n",
    "from sklearn.ensemble import RandomForestClassifier\n",
    "from sklearn.neighbors import KNeighborsClassifier\n",
    "from sklearn.impute import SimpleImputer\n",
    "from sklearn.linear_model import LogisticRegression\n",
    "\n",
    "import matplotlib.pyplot as plt\n",
    "import seaborn as sns"
   ]
  },
  {
   "cell_type": "markdown",
   "id": "6876bf60",
   "metadata": {},
   "source": [
    "### Aquire the Telco Data"
   ]
  },
  {
   "cell_type": "markdown",
   "id": "5881d03c",
   "metadata": {},
   "source": [
    "We will aquire the telco data from the Codeup SQL database using a function stored in acquire_telco.py."
   ]
  },
  {
   "cell_type": "code",
   "execution_count": 5,
   "id": "bec77f2e",
   "metadata": {},
   "outputs": [],
   "source": [
    "# import acquire_telco.py\n",
    "import acquire_telco"
   ]
  },
  {
   "cell_type": "code",
   "execution_count": 6,
   "id": "00f41024",
   "metadata": {},
   "outputs": [
    {
     "data": {
      "text/html": [
       "<div>\n",
       "<style scoped>\n",
       "    .dataframe tbody tr th:only-of-type {\n",
       "        vertical-align: middle;\n",
       "    }\n",
       "\n",
       "    .dataframe tbody tr th {\n",
       "        vertical-align: top;\n",
       "    }\n",
       "\n",
       "    .dataframe thead th {\n",
       "        text-align: right;\n",
       "    }\n",
       "</style>\n",
       "<table border=\"1\" class=\"dataframe\">\n",
       "  <thead>\n",
       "    <tr style=\"text-align: right;\">\n",
       "      <th></th>\n",
       "      <th>payment_type_id</th>\n",
       "      <th>internet_service_type_id</th>\n",
       "      <th>contract_type_id</th>\n",
       "      <th>customer_id</th>\n",
       "      <th>gender</th>\n",
       "      <th>senior_citizen</th>\n",
       "      <th>partner</th>\n",
       "      <th>dependents</th>\n",
       "      <th>tenure</th>\n",
       "      <th>phone_service</th>\n",
       "      <th>...</th>\n",
       "      <th>tech_support</th>\n",
       "      <th>streaming_tv</th>\n",
       "      <th>streaming_movies</th>\n",
       "      <th>paperless_billing</th>\n",
       "      <th>monthly_charges</th>\n",
       "      <th>total_charges</th>\n",
       "      <th>churn</th>\n",
       "      <th>contract_type</th>\n",
       "      <th>internet_service_type</th>\n",
       "      <th>payment_type</th>\n",
       "    </tr>\n",
       "  </thead>\n",
       "  <tbody>\n",
       "    <tr>\n",
       "      <th>0</th>\n",
       "      <td>2</td>\n",
       "      <td>1</td>\n",
       "      <td>3</td>\n",
       "      <td>0016-QLJIS</td>\n",
       "      <td>Female</td>\n",
       "      <td>0</td>\n",
       "      <td>Yes</td>\n",
       "      <td>Yes</td>\n",
       "      <td>65</td>\n",
       "      <td>Yes</td>\n",
       "      <td>...</td>\n",
       "      <td>Yes</td>\n",
       "      <td>Yes</td>\n",
       "      <td>Yes</td>\n",
       "      <td>Yes</td>\n",
       "      <td>90.45</td>\n",
       "      <td>5957.9</td>\n",
       "      <td>No</td>\n",
       "      <td>Two year</td>\n",
       "      <td>DSL</td>\n",
       "      <td>Mailed check</td>\n",
       "    </tr>\n",
       "    <tr>\n",
       "      <th>1</th>\n",
       "      <td>4</td>\n",
       "      <td>1</td>\n",
       "      <td>3</td>\n",
       "      <td>0017-DINOC</td>\n",
       "      <td>Male</td>\n",
       "      <td>0</td>\n",
       "      <td>No</td>\n",
       "      <td>No</td>\n",
       "      <td>54</td>\n",
       "      <td>No</td>\n",
       "      <td>...</td>\n",
       "      <td>Yes</td>\n",
       "      <td>Yes</td>\n",
       "      <td>No</td>\n",
       "      <td>No</td>\n",
       "      <td>45.20</td>\n",
       "      <td>2460.55</td>\n",
       "      <td>No</td>\n",
       "      <td>Two year</td>\n",
       "      <td>DSL</td>\n",
       "      <td>Credit card (automatic)</td>\n",
       "    </tr>\n",
       "    <tr>\n",
       "      <th>2</th>\n",
       "      <td>3</td>\n",
       "      <td>1</td>\n",
       "      <td>3</td>\n",
       "      <td>0019-GFNTW</td>\n",
       "      <td>Female</td>\n",
       "      <td>0</td>\n",
       "      <td>No</td>\n",
       "      <td>No</td>\n",
       "      <td>56</td>\n",
       "      <td>No</td>\n",
       "      <td>...</td>\n",
       "      <td>Yes</td>\n",
       "      <td>No</td>\n",
       "      <td>No</td>\n",
       "      <td>No</td>\n",
       "      <td>45.05</td>\n",
       "      <td>2560.1</td>\n",
       "      <td>No</td>\n",
       "      <td>Two year</td>\n",
       "      <td>DSL</td>\n",
       "      <td>Bank transfer (automatic)</td>\n",
       "    </tr>\n",
       "    <tr>\n",
       "      <th>3</th>\n",
       "      <td>4</td>\n",
       "      <td>1</td>\n",
       "      <td>3</td>\n",
       "      <td>0056-EPFBG</td>\n",
       "      <td>Male</td>\n",
       "      <td>0</td>\n",
       "      <td>Yes</td>\n",
       "      <td>Yes</td>\n",
       "      <td>20</td>\n",
       "      <td>No</td>\n",
       "      <td>...</td>\n",
       "      <td>Yes</td>\n",
       "      <td>No</td>\n",
       "      <td>No</td>\n",
       "      <td>Yes</td>\n",
       "      <td>39.40</td>\n",
       "      <td>825.4</td>\n",
       "      <td>No</td>\n",
       "      <td>Two year</td>\n",
       "      <td>DSL</td>\n",
       "      <td>Credit card (automatic)</td>\n",
       "    </tr>\n",
       "    <tr>\n",
       "      <th>4</th>\n",
       "      <td>3</td>\n",
       "      <td>1</td>\n",
       "      <td>3</td>\n",
       "      <td>0078-XZMHT</td>\n",
       "      <td>Male</td>\n",
       "      <td>0</td>\n",
       "      <td>Yes</td>\n",
       "      <td>No</td>\n",
       "      <td>72</td>\n",
       "      <td>Yes</td>\n",
       "      <td>...</td>\n",
       "      <td>Yes</td>\n",
       "      <td>Yes</td>\n",
       "      <td>Yes</td>\n",
       "      <td>Yes</td>\n",
       "      <td>85.15</td>\n",
       "      <td>6316.2</td>\n",
       "      <td>No</td>\n",
       "      <td>Two year</td>\n",
       "      <td>DSL</td>\n",
       "      <td>Bank transfer (automatic)</td>\n",
       "    </tr>\n",
       "  </tbody>\n",
       "</table>\n",
       "<p>5 rows × 24 columns</p>\n",
       "</div>"
      ],
      "text/plain": [
       "   payment_type_id  internet_service_type_id  contract_type_id customer_id  \\\n",
       "0                2                         1                 3  0016-QLJIS   \n",
       "1                4                         1                 3  0017-DINOC   \n",
       "2                3                         1                 3  0019-GFNTW   \n",
       "3                4                         1                 3  0056-EPFBG   \n",
       "4                3                         1                 3  0078-XZMHT   \n",
       "\n",
       "   gender  senior_citizen partner dependents  tenure phone_service  ...  \\\n",
       "0  Female               0     Yes        Yes      65           Yes  ...   \n",
       "1    Male               0      No         No      54            No  ...   \n",
       "2  Female               0      No         No      56            No  ...   \n",
       "3    Male               0     Yes        Yes      20            No  ...   \n",
       "4    Male               0     Yes         No      72           Yes  ...   \n",
       "\n",
       "  tech_support streaming_tv streaming_movies paperless_billing  \\\n",
       "0          Yes          Yes              Yes               Yes   \n",
       "1          Yes          Yes               No                No   \n",
       "2          Yes           No               No                No   \n",
       "3          Yes           No               No               Yes   \n",
       "4          Yes          Yes              Yes               Yes   \n",
       "\n",
       "  monthly_charges total_charges churn contract_type  internet_service_type  \\\n",
       "0           90.45        5957.9    No      Two year                    DSL   \n",
       "1           45.20       2460.55    No      Two year                    DSL   \n",
       "2           45.05        2560.1    No      Two year                    DSL   \n",
       "3           39.40         825.4    No      Two year                    DSL   \n",
       "4           85.15        6316.2    No      Two year                    DSL   \n",
       "\n",
       "                payment_type  \n",
       "0               Mailed check  \n",
       "1    Credit card (automatic)  \n",
       "2  Bank transfer (automatic)  \n",
       "3    Credit card (automatic)  \n",
       "4  Bank transfer (automatic)  \n",
       "\n",
       "[5 rows x 24 columns]"
      ]
     },
     "execution_count": 6,
     "metadata": {},
     "output_type": "execute_result"
    }
   ],
   "source": [
    "# acquire\n",
    "df = acquire_telco.new_telco_data()\n",
    "df.head()"
   ]
  },
  {
   "cell_type": "markdown",
   "id": "e1f8a2d9",
   "metadata": {},
   "source": [
    "### Wrangle the Telco Data"
   ]
  },
  {
   "cell_type": "markdown",
   "id": "997ca152",
   "metadata": {},
   "source": [
    "Here we will prepare the data using functions stored in prepare_telco.py. \n",
    "We are going to use this data to develop a model, therefore we need to make sure there are no incompatible datatypes, and we are left with only clean columns that are useful. We will also need to split the data into train, validate, test so that we can test the accuracy of our model. \n",
    "\n",
    "We will run the clean_split_telco_data function that runs both the wrangle_telco and the train_validate_test_split functions. \n",
    "\n",
    "The wrangle_telco data will do the following:\n",
    "- remove duplicates\n",
    "- drop whitespaces\n",
    "- drop the columns that don't seem useful: 'payment_type_id', 'internet_service_type_id', 'contract_type_id', 'customer_id', and 'gender'\n",
    "- converts 'total_charges' from and object to a float\n",
    "- converts the binary categorical variables to numeric: 'tenure', 'churn', 'partner', 'dependents', 'paperless_billing', 'phone_service', 'multiple_lines', 'online_security', 'streaming_movies', 'streaming_tv', 'online_backup', 'device_protection', 'tech_support', 'is_autopay'\n",
    "- gets dummies from non-binary object varibales \n",
    "- concatenate dummy dataframe to original \n",
    "- returns the cleaned df\n",
    "\n",
    "The train_validate_test_split function will do the following: \n",
    "\n",
    "- takes in a dataframe (df) and returns 3 dfs (train, validate, and test) split 20%, 24%, 56% respectively \n",
    "- takes in a random seed for replicating results"
   ]
  },
  {
   "cell_type": "code",
   "execution_count": 7,
   "id": "0b10a608",
   "metadata": {},
   "outputs": [],
   "source": [
    "# import prepare_telco.py\n",
    "import prepare_telco"
   ]
  },
  {
   "cell_type": "code",
   "execution_count": 8,
   "id": "f252d85e",
   "metadata": {},
   "outputs": [],
   "source": [
    "# run functions from prepare_teco.py to prepare and split the data\n",
    "train, validate, test = prepare_telco.clean_split_telco_data(df)"
   ]
  },
  {
   "cell_type": "code",
   "execution_count": 9,
   "id": "9c69ec9a",
   "metadata": {},
   "outputs": [
    {
     "data": {
      "text/plain": [
       "(3937, 30)"
      ]
     },
     "execution_count": 9,
     "metadata": {},
     "output_type": "execute_result"
    }
   ],
   "source": [
    "train.shape"
   ]
  },
  {
   "cell_type": "code",
   "execution_count": 10,
   "id": "e66e131c",
   "metadata": {},
   "outputs": [
    {
     "data": {
      "text/plain": [
       "(1688, 30)"
      ]
     },
     "execution_count": 10,
     "metadata": {},
     "output_type": "execute_result"
    }
   ],
   "source": [
    "validate.shape"
   ]
  },
  {
   "cell_type": "code",
   "execution_count": 11,
   "id": "6f55aee8",
   "metadata": {},
   "outputs": [
    {
     "data": {
      "text/plain": [
       "(1407, 30)"
      ]
     },
     "execution_count": 11,
     "metadata": {},
     "output_type": "execute_result"
    }
   ],
   "source": [
    "test.shape"
   ]
  },
  {
   "cell_type": "code",
   "execution_count": 12,
   "id": "a61e19d7",
   "metadata": {},
   "outputs": [
    {
     "data": {
      "text/html": [
       "<div>\n",
       "<style scoped>\n",
       "    .dataframe tbody tr th:only-of-type {\n",
       "        vertical-align: middle;\n",
       "    }\n",
       "\n",
       "    .dataframe tbody tr th {\n",
       "        vertical-align: top;\n",
       "    }\n",
       "\n",
       "    .dataframe thead th {\n",
       "        text-align: right;\n",
       "    }\n",
       "</style>\n",
       "<table border=\"1\" class=\"dataframe\">\n",
       "  <thead>\n",
       "    <tr style=\"text-align: right;\">\n",
       "      <th></th>\n",
       "      <th>senior_citizen</th>\n",
       "      <th>partner</th>\n",
       "      <th>dependents</th>\n",
       "      <th>tenure</th>\n",
       "      <th>phone_service</th>\n",
       "      <th>multiple_lines</th>\n",
       "      <th>online_security</th>\n",
       "      <th>online_backup</th>\n",
       "      <th>device_protection</th>\n",
       "      <th>tech_support</th>\n",
       "      <th>...</th>\n",
       "      <th>contract_type_month_to_month</th>\n",
       "      <th>contract_type_one_year</th>\n",
       "      <th>contract_type_two_year</th>\n",
       "      <th>internet_service_type_DSL</th>\n",
       "      <th>internet_service_type_fiber_optic</th>\n",
       "      <th>internet_service_type_None</th>\n",
       "      <th>payment_type_bank_transfer_auto</th>\n",
       "      <th>payment_type_credit_card_auto</th>\n",
       "      <th>payment_type_electronic_check</th>\n",
       "      <th>payment_type_mailed_check</th>\n",
       "    </tr>\n",
       "  </thead>\n",
       "  <tbody>\n",
       "    <tr>\n",
       "      <th>6096</th>\n",
       "      <td>0</td>\n",
       "      <td>1</td>\n",
       "      <td>0</td>\n",
       "      <td>70</td>\n",
       "      <td>1</td>\n",
       "      <td>0</td>\n",
       "      <td>0</td>\n",
       "      <td>0</td>\n",
       "      <td>0</td>\n",
       "      <td>0</td>\n",
       "      <td>...</td>\n",
       "      <td>0</td>\n",
       "      <td>0</td>\n",
       "      <td>1</td>\n",
       "      <td>0</td>\n",
       "      <td>0</td>\n",
       "      <td>1</td>\n",
       "      <td>1</td>\n",
       "      <td>0</td>\n",
       "      <td>0</td>\n",
       "      <td>0</td>\n",
       "    </tr>\n",
       "    <tr>\n",
       "      <th>1603</th>\n",
       "      <td>0</td>\n",
       "      <td>1</td>\n",
       "      <td>1</td>\n",
       "      <td>15</td>\n",
       "      <td>1</td>\n",
       "      <td>0</td>\n",
       "      <td>0</td>\n",
       "      <td>1</td>\n",
       "      <td>1</td>\n",
       "      <td>1</td>\n",
       "      <td>...</td>\n",
       "      <td>1</td>\n",
       "      <td>0</td>\n",
       "      <td>0</td>\n",
       "      <td>1</td>\n",
       "      <td>0</td>\n",
       "      <td>0</td>\n",
       "      <td>0</td>\n",
       "      <td>0</td>\n",
       "      <td>0</td>\n",
       "      <td>1</td>\n",
       "    </tr>\n",
       "    <tr>\n",
       "      <th>5350</th>\n",
       "      <td>1</td>\n",
       "      <td>1</td>\n",
       "      <td>0</td>\n",
       "      <td>52</td>\n",
       "      <td>1</td>\n",
       "      <td>1</td>\n",
       "      <td>1</td>\n",
       "      <td>1</td>\n",
       "      <td>1</td>\n",
       "      <td>0</td>\n",
       "      <td>...</td>\n",
       "      <td>1</td>\n",
       "      <td>0</td>\n",
       "      <td>0</td>\n",
       "      <td>0</td>\n",
       "      <td>1</td>\n",
       "      <td>0</td>\n",
       "      <td>0</td>\n",
       "      <td>0</td>\n",
       "      <td>1</td>\n",
       "      <td>0</td>\n",
       "    </tr>\n",
       "    <tr>\n",
       "      <th>2068</th>\n",
       "      <td>0</td>\n",
       "      <td>0</td>\n",
       "      <td>0</td>\n",
       "      <td>39</td>\n",
       "      <td>0</td>\n",
       "      <td>0</td>\n",
       "      <td>0</td>\n",
       "      <td>0</td>\n",
       "      <td>0</td>\n",
       "      <td>1</td>\n",
       "      <td>...</td>\n",
       "      <td>1</td>\n",
       "      <td>0</td>\n",
       "      <td>0</td>\n",
       "      <td>1</td>\n",
       "      <td>0</td>\n",
       "      <td>0</td>\n",
       "      <td>0</td>\n",
       "      <td>0</td>\n",
       "      <td>1</td>\n",
       "      <td>0</td>\n",
       "    </tr>\n",
       "    <tr>\n",
       "      <th>6366</th>\n",
       "      <td>0</td>\n",
       "      <td>1</td>\n",
       "      <td>0</td>\n",
       "      <td>32</td>\n",
       "      <td>1</td>\n",
       "      <td>0</td>\n",
       "      <td>0</td>\n",
       "      <td>0</td>\n",
       "      <td>0</td>\n",
       "      <td>0</td>\n",
       "      <td>...</td>\n",
       "      <td>0</td>\n",
       "      <td>1</td>\n",
       "      <td>0</td>\n",
       "      <td>0</td>\n",
       "      <td>0</td>\n",
       "      <td>1</td>\n",
       "      <td>0</td>\n",
       "      <td>0</td>\n",
       "      <td>0</td>\n",
       "      <td>1</td>\n",
       "    </tr>\n",
       "  </tbody>\n",
       "</table>\n",
       "<p>5 rows × 30 columns</p>\n",
       "</div>"
      ],
      "text/plain": [
       "      senior_citizen  partner  dependents  tenure  phone_service  \\\n",
       "6096               0        1           0      70              1   \n",
       "1603               0        1           1      15              1   \n",
       "5350               1        1           0      52              1   \n",
       "2068               0        0           0      39              0   \n",
       "6366               0        1           0      32              1   \n",
       "\n",
       "      multiple_lines  online_security  online_backup  device_protection  \\\n",
       "6096               0                0              0                  0   \n",
       "1603               0                0              1                  1   \n",
       "5350               1                1              1                  1   \n",
       "2068               0                0              0                  0   \n",
       "6366               0                0              0                  0   \n",
       "\n",
       "      tech_support  ...  contract_type_month_to_month  contract_type_one_year  \\\n",
       "6096             0  ...                             0                       0   \n",
       "1603             1  ...                             1                       0   \n",
       "5350             0  ...                             1                       0   \n",
       "2068             1  ...                             1                       0   \n",
       "6366             0  ...                             0                       1   \n",
       "\n",
       "      contract_type_two_year  internet_service_type_DSL  \\\n",
       "6096                       1                          0   \n",
       "1603                       0                          1   \n",
       "5350                       0                          0   \n",
       "2068                       0                          1   \n",
       "6366                       0                          0   \n",
       "\n",
       "      internet_service_type_fiber_optic  internet_service_type_None  \\\n",
       "6096                                  0                           1   \n",
       "1603                                  0                           0   \n",
       "5350                                  1                           0   \n",
       "2068                                  0                           0   \n",
       "6366                                  0                           1   \n",
       "\n",
       "     payment_type_bank_transfer_auto payment_type_credit_card_auto  \\\n",
       "6096                               1                             0   \n",
       "1603                               0                             0   \n",
       "5350                               0                             0   \n",
       "2068                               0                             0   \n",
       "6366                               0                             0   \n",
       "\n",
       "     payment_type_electronic_check  payment_type_mailed_check  \n",
       "6096                             0                          0  \n",
       "1603                             0                          1  \n",
       "5350                             1                          0  \n",
       "2068                             1                          0  \n",
       "6366                             0                          1  \n",
       "\n",
       "[5 rows x 30 columns]"
      ]
     },
     "execution_count": 12,
     "metadata": {},
     "output_type": "execute_result"
    }
   ],
   "source": [
    "# verify the df we brought in is what we want\n",
    "train.head()"
   ]
  },
  {
   "cell_type": "code",
   "execution_count": 13,
   "id": "27d66b12",
   "metadata": {},
   "outputs": [
    {
     "data": {
      "text/plain": [
       "senior_citizen                         int64\n",
       "partner                                int64\n",
       "dependents                             int64\n",
       "tenure                                 int64\n",
       "phone_service                          int64\n",
       "multiple_lines                         int64\n",
       "online_security                        int64\n",
       "online_backup                          int64\n",
       "device_protection                      int64\n",
       "tech_support                           int64\n",
       "streaming_tv                           int64\n",
       "streaming_movies                       int64\n",
       "paperless_billing                      int64\n",
       "monthly_charges                      float64\n",
       "total_charges                        float64\n",
       "churn                                  int64\n",
       "contract_type                         object\n",
       "internet_service_type                 object\n",
       "payment_type                          object\n",
       "is_autopay                              bool\n",
       "contract_type_month_to_month           uint8\n",
       "contract_type_one_year                 uint8\n",
       "contract_type_two_year                 uint8\n",
       "internet_service_type_DSL              uint8\n",
       "internet_service_type_fiber_optic      uint8\n",
       "internet_service_type_None             uint8\n",
       "payment_type_bank_transfer_auto        uint8\n",
       "payment_type_credit_card_auto          uint8\n",
       "payment_type_electronic_check          uint8\n",
       "payment_type_mailed_check              uint8\n",
       "dtype: object"
      ]
     },
     "execution_count": 13,
     "metadata": {},
     "output_type": "execute_result"
    }
   ],
   "source": [
    "# check that datatypes are all compatible for modeling\n",
    "train.dtypes"
   ]
  },
  {
   "cell_type": "markdown",
   "id": "7a73b136",
   "metadata": {},
   "source": [
    "Before we get to the modeling stage, we will drop the three columns that are 'object' datatypes. This type is not compatible with modeling but will be useful in the exploritory stage. \n",
    "Since we have created dummies from these columns we will not need them anymore. "
   ]
  },
  {
   "cell_type": "markdown",
   "id": "73e93a5f",
   "metadata": {},
   "source": [
    "### Explore the Telco Data"
   ]
  },
  {
   "cell_type": "markdown",
   "id": "1016209d",
   "metadata": {},
   "source": [
    "Here we will explore the telco data to find the key drivers of customer churn. \n",
    "\n",
    "We will ask some initial questions and and answer thoes questions through visuals, statistics, or both. "
   ]
  },
  {
   "cell_type": "markdown",
   "id": "7309837c",
   "metadata": {},
   "source": [
    "To get an idea of what kind of question might relevent to ask we can look at the makup of each column in the Telco train data:"
   ]
  },
  {
   "cell_type": "code",
   "execution_count": 103,
   "id": "d8e60651",
   "metadata": {},
   "outputs": [
    {
     "name": "stdout",
     "output_type": "stream",
     "text": [
      "senior_citizen\n",
      "0    3290\n",
      "1     647\n",
      "Name: senior_citizen, dtype: int64\n",
      "partner\n",
      "0    2033\n",
      "1    1904\n",
      "Name: partner, dtype: int64\n",
      "dependents\n",
      "0    2764\n",
      "1    1173\n",
      "Name: dependents, dtype: int64\n",
      "tenure\n",
      "1     350\n",
      "72    202\n",
      "2     133\n",
      "3     121\n",
      "71    107\n",
      "4     103\n",
      "5      80\n",
      "7      75\n",
      "70     70\n",
      "8      68\n",
      "11     66\n",
      "68     65\n",
      "9      63\n",
      "12     63\n",
      "10     62\n",
      "13     59\n",
      "6      59\n",
      "69     57\n",
      "67     53\n",
      "23     53\n",
      "15     52\n",
      "24     51\n",
      "64     50\n",
      "14     50\n",
      "18     49\n",
      "30     48\n",
      "56     47\n",
      "61     46\n",
      "22     45\n",
      "60     44\n",
      "62     44\n",
      "52     44\n",
      "41     44\n",
      "16     43\n",
      "29     43\n",
      "65     42\n",
      "35     42\n",
      "66     41\n",
      "53     41\n",
      "19     41\n",
      "26     41\n",
      "33     41\n",
      "46     40\n",
      "32     40\n",
      "51     40\n",
      "27     39\n",
      "40     39\n",
      "17     38\n",
      "55     38\n",
      "54     37\n",
      "48     37\n",
      "50     36\n",
      "34     36\n",
      "63     36\n",
      "57     36\n",
      "37     36\n",
      "39     35\n",
      "43     35\n",
      "38     35\n",
      "28     34\n",
      "21     34\n",
      "49     34\n",
      "25     34\n",
      "47     34\n",
      "59     33\n",
      "20     32\n",
      "31     31\n",
      "58     31\n",
      "45     30\n",
      "36     28\n",
      "42     26\n",
      "44     25\n",
      "Name: tenure, dtype: int64\n",
      "phone_service\n",
      "1    3548\n",
      "0     389\n",
      "Name: phone_service, dtype: int64\n",
      "multiple_lines\n",
      "0    2295\n",
      "1    1642\n",
      "Name: multiple_lines, dtype: int64\n",
      "online_security\n",
      "0    2818\n",
      "1    1119\n",
      "Name: online_security, dtype: int64\n",
      "online_backup\n",
      "0    2578\n",
      "1    1359\n",
      "Name: online_backup, dtype: int64\n",
      "device_protection\n",
      "0    2611\n",
      "1    1326\n",
      "Name: device_protection, dtype: int64\n",
      "tech_support\n",
      "0    2795\n",
      "1    1142\n",
      "Name: tech_support, dtype: int64\n",
      "streaming_tv\n",
      "0    2448\n",
      "1    1489\n",
      "Name: streaming_tv, dtype: int64\n",
      "streaming_movies\n",
      "0    2436\n",
      "1    1501\n",
      "Name: streaming_movies, dtype: int64\n",
      "paperless_billing\n",
      "1    2319\n",
      "0    1618\n",
      "Name: paperless_billing, dtype: int64\n",
      "monthly_charges\n",
      "20.05     32\n",
      "19.65     30\n",
      "20.00     28\n",
      "19.95     27\n",
      "19.90     27\n",
      "          ..\n",
      "56.50      1\n",
      "53.90      1\n",
      "71.95      1\n",
      "33.90      1\n",
      "114.60     1\n",
      "Name: monthly_charges, Length: 1347, dtype: int64\n",
      "total_charges\n",
      "19.65      7\n",
      "19.75      6\n",
      "19.90      6\n",
      "19.55      6\n",
      "20.25      5\n",
      "          ..\n",
      "1734.65    1\n",
      "3437.50    1\n",
      "5610.70    1\n",
      "109.50     1\n",
      "5867.00    1\n",
      "Name: total_charges, Length: 3761, dtype: int64\n",
      "churn\n",
      "0    2891\n",
      "1    1046\n",
      "Name: churn, dtype: int64\n",
      "contract_type\n",
      "Month-to-month    2135\n",
      "Two year           972\n",
      "One year           830\n",
      "Name: contract_type, dtype: int64\n",
      "internet_service_type\n",
      "Fiber optic    1698\n",
      "DSL            1368\n",
      "None            871\n",
      "Name: internet_service_type, dtype: int64\n",
      "payment_type\n",
      "Electronic check             1311\n",
      "Mailed check                  903\n",
      "Bank transfer (automatic)     889\n",
      "Credit card (automatic)       834\n",
      "Name: payment_type, dtype: int64\n",
      "is_autopay\n",
      "False    2214\n",
      "True     1723\n",
      "Name: is_autopay, dtype: int64\n",
      "contract_type_month_to_month\n",
      "1    2135\n",
      "0    1802\n",
      "Name: contract_type_month_to_month, dtype: int64\n",
      "contract_type_one_year\n",
      "0    3107\n",
      "1     830\n",
      "Name: contract_type_one_year, dtype: int64\n",
      "contract_type_two_year\n",
      "0    2965\n",
      "1     972\n",
      "Name: contract_type_two_year, dtype: int64\n",
      "internet_service_type_DSL\n",
      "0    2569\n",
      "1    1368\n",
      "Name: internet_service_type_DSL, dtype: int64\n",
      "internet_service_type_fiber_optic\n",
      "0    2239\n",
      "1    1698\n",
      "Name: internet_service_type_fiber_optic, dtype: int64\n",
      "internet_service_type_None\n",
      "0    3066\n",
      "1     871\n",
      "Name: internet_service_type_None, dtype: int64\n",
      "payment_type_bank_transfer_auto\n",
      "0    3048\n",
      "1     889\n",
      "Name: payment_type_bank_transfer_auto, dtype: int64\n",
      "payment_type_credit_card_auto\n",
      "0    3103\n",
      "1     834\n",
      "Name: payment_type_credit_card_auto, dtype: int64\n",
      "payment_type_electronic_check\n",
      "0    2626\n",
      "1    1311\n",
      "Name: payment_type_electronic_check, dtype: int64\n",
      "payment_type_mailed_check\n",
      "0    3034\n",
      "1     903\n",
      "Name: payment_type_mailed_check, dtype: int64\n"
     ]
    }
   ],
   "source": [
    "# for each column in train, print the value counts of each variable\n",
    "for col in train:\n",
    "    print(col)\n",
    "    print(train[col].value_counts())"
   ]
  },
  {
   "cell_type": "markdown",
   "id": "16fb417d",
   "metadata": {},
   "source": [
    "Before we can start to run stat tests and create visuals, we need to create variables to make things simpler."
   ]
  },
  {
   "cell_type": "code",
   "execution_count": 62,
   "id": "918169e0",
   "metadata": {},
   "outputs": [],
   "source": [
    "# We know know telco wants to focus on the cause of m2m churn so we will start there\n",
    "m2m_churn = train[['contract_type']][(train['churn'] == 1)]\n",
    "m2m_no_churn = train[['contract_type']][(train['churn'] == 0)]"
   ]
  },
  {
   "cell_type": "code",
   "execution_count": 137,
   "id": "b8d6d010",
   "metadata": {},
   "outputs": [],
   "source": [
    "internet_churn = train[['internet_service_type']][(train['churn'] == 1)]\n",
    "internet_no_churn = train[['internet_service_type']][(train['churn'] == 0)]"
   ]
  },
  {
   "cell_type": "code",
   "execution_count": 155,
   "id": "3822667e",
   "metadata": {},
   "outputs": [],
   "source": [
    "paperless_b_churn = train[['paperless_billing']][(train['churn'] == 1)]\n",
    "paperless_b_no_churn = train[['paperless_billing']][(train['churn'] == 0)]"
   ]
  },
  {
   "cell_type": "markdown",
   "id": "279c110d",
   "metadata": {},
   "source": [
    "#### The problem: Churn"
   ]
  },
  {
   "cell_type": "markdown",
   "id": "f03ad7cb",
   "metadata": {},
   "source": [
    "Overall churn at Telco is 26.7%"
   ]
  },
  {
   "cell_type": "code",
   "execution_count": 288,
   "id": "6207162b",
   "metadata": {},
   "outputs": [
    {
     "data": {
      "image/png": "[encoded data removed]",
      "text/plain": [
       "<Figure size 864x432 with 1 Axes>"
      ]
     },
     "metadata": {
      "needs_background": "light"
     },
     "output_type": "display_data"
    }
   ],
   "source": [
    "plt.figure(figsize=(12, 6))\n",
    "train.churn.value_counts().sort_index().plot.bar()\n",
    "churn_rate = train.churn.mean()\n",
    "plt.title(f\"Overall Churn: {churn_rate:.2%}\")\n",
    "plt.xlabel('Churned');"
   ]
  },
  {
   "cell_type": "markdown",
   "id": "c5479f92",
   "metadata": {},
   "source": [
    "Telco recognizes that most of the churn comes from month-to-month contract types. Our company is committed to offering our customers this contract option and need to find other ways to curb churn. "
   ]
  },
  {
   "cell_type": "code",
   "execution_count": 287,
   "id": "1cf3cca2",
   "metadata": {},
   "outputs": [
    {
     "data": {
      "image/png": "[encoded data removed]",
      "text/plain": [
       "<Figure size 864x432 with 2 Axes>"
      ]
     },
     "metadata": {
      "needs_background": "light"
     },
     "output_type": "display_data"
    }
   ],
   "source": [
    "plt.figure(figsize=(12, 6))\n",
    "plt.subplot(211)\n",
    "\n",
    "sns.countplot(x = 'contract_type', data=train, palette='Blues', ec='black', linewidth=2)\n",
    "\n",
    "plt.title('How does contract type relate to customer churn?')\n",
    "plt.xlabel('')\n",
    "plt.ylabel('')\n",
    "\n",
    "plt.subplot(212)\n",
    "\n",
    "# use hue to add another dimension to your viz\n",
    "sns.countplot(x = 'contract_type', hue = 'churn', data=train, palette='Oranges', ec='black', linewidth=2)\n",
    "\n",
    "plt.legend(['Did not churn', 'Churned'])\n",
    "\n",
    "plt.show()\n"
   ]
  },
  {
   "cell_type": "code",
   "execution_count": 286,
   "id": "31df9e8d",
   "metadata": {},
   "outputs": [
    {
     "data": {
      "image/png": "[encoded data removed]",
      "text/plain": [
       "<Figure size 864x432 with 1 Axes>"
      ]
     },
     "metadata": {
      "needs_background": "light"
     },
     "output_type": "display_data"
    }
   ],
   "source": [
    "# m2m churn compared to the other contract types\n",
    "plt.figure(figsize=(12, 6))\n",
    "m2m_churn.value_counts().plot.bar(rot=0);"
   ]
  },
  {
   "cell_type": "markdown",
   "id": "cea7e23f",
   "metadata": {},
   "source": [
    "Month-2-month churn is 26.57%"
   ]
  },
  {
   "cell_type": "markdown",
   "id": "1ff832d2",
   "metadata": {},
   "source": [
    "1. What month are customers most likely to churn in?  "
   ]
  },
  {
   "cell_type": "code",
   "execution_count": 291,
   "id": "dd34b64d",
   "metadata": {},
   "outputs": [
    {
     "data": {
      "image/png": "[encoded data removed]",
      "text/plain": [
       "<Figure size 864x432 with 1 Axes>"
      ]
     },
     "metadata": {
      "needs_background": "light"
     },
     "output_type": "display_data"
    }
   ],
   "source": [
    "plt.figure(figsize=(12, 6))\n",
    "ax = sns.lineplot(x=train.groupby(by='tenure')['tenure'].count().index, y=train.groupby(by='tenure')['tenure'].count());\n"
   ]
  },
  {
   "cell_type": "code",
   "execution_count": 83,
   "id": "974b9cae",
   "metadata": {},
   "outputs": [
    {
     "data": {
      "text/plain": [
       "churn\n",
       "0    37.583535\n",
       "1    18.471319\n",
       "Name: tenure, dtype: float64"
      ]
     },
     "execution_count": 83,
     "metadata": {},
     "output_type": "execute_result"
    }
   ],
   "source": [
    "avg_churn = train.groupby('churn').tenure.mean()\n",
    "\n",
    "avg_churn.head()"
   ]
  },
  {
   "cell_type": "markdown",
   "id": "6d4c6eb8",
   "metadata": {},
   "source": [
    "After the first month, the amount of customers that stay decrease significantly, with the average number of months a churning customers stays being 18. "
   ]
  },
  {
   "cell_type": "markdown",
   "id": "3aff21e4",
   "metadata": {},
   "source": [
    "2. Are customers with a certain service type more or less likely to churn\n",
    "  - Specifically are customers with fiber more likely to churn? "
   ]
  },
  {
   "cell_type": "code",
   "execution_count": 285,
   "id": "e032b4fd",
   "metadata": {},
   "outputs": [
    {
     "data": {
      "image/png": "[encoded data removed]",
      "text/plain": [
       "<Figure size 864x432 with 2 Axes>"
      ]
     },
     "metadata": {
      "needs_background": "light"
     },
     "output_type": "display_data"
    }
   ],
   "source": [
    "plt.figure(figsize=(12, 6))\n",
    "plt.subplot(211)\n",
    "\n",
    "sns.countplot(x = 'internet_service_type', data=train, palette='Blues', ec='black', linewidth=2)\n",
    "\n",
    "plt.title('Those with Fiber are more likely to Churn')\n",
    "plt.xlabel('')\n",
    "plt.ylabel('')\n",
    "\n",
    "plt.subplot(212)\n",
    "\n",
    "# use hue to add another dimension to your viz\n",
    "sns.countplot(x = 'internet_service_type', hue = 'churn', data=train, palette='Oranges', ec='black', linewidth=2)\n",
    "\n",
    "plt.legend(['Did not churn', 'Churned'])\n",
    "\n",
    "plt.show()\n"
   ]
  },
  {
   "cell_type": "code",
   "execution_count": 282,
   "id": "05b42764",
   "metadata": {},
   "outputs": [
    {
     "data": {
      "image/png": "[encoded data removed]",
      "text/plain": [
       "<Figure size 864x432 with 1 Axes>"
      ]
     },
     "metadata": {
      "needs_background": "light"
     },
     "output_type": "display_data"
    }
   ],
   "source": [
    "plt.figure(figsize=(12, 6))\n",
    "internet_churn.value_counts().plot.bar(rot=0);"
   ]
  },
  {
   "cell_type": "markdown",
   "id": "7c5626b7",
   "metadata": {},
   "source": [
    "Through these visuals we can see that fiber customers are more likely to churn than DSL and those without internet. "
   ]
  },
  {
   "cell_type": "markdown",
   "id": "4da25b02",
   "metadata": {},
   "source": [
    "Now we will run a Chi2 statistical test to see whether there is a correlation between fiber customers and churn. "
   ]
  },
  {
   "cell_type": "code",
   "execution_count": 128,
   "id": "1a181821",
   "metadata": {},
   "outputs": [],
   "source": [
    "# set alpha to 0.05 to ensure 95% confidence\n",
    "a = 0.05"
   ]
  },
  {
   "cell_type": "markdown",
   "id": "ed96bba9",
   "metadata": {},
   "source": [
    "Null Hypothesis: A customer churning and having fiber optic internet are independent. \n",
    "\n",
    "Alt Hypothesis: A customer churning and having fiber optic internet are dependent."
   ]
  },
  {
   "cell_type": "code",
   "execution_count": 135,
   "id": "5619d2a2",
   "metadata": {},
   "outputs": [
    {
     "data": {
      "text/plain": [
       "internet_service_type\n",
       "Fiber optic              716\n",
       "DSL                      266\n",
       "None                      64\n",
       "dtype: int64"
      ]
     },
     "execution_count": 135,
     "metadata": {},
     "output_type": "execute_result"
    }
   ],
   "source": [
    "internet_churn.value_counts()"
   ]
  },
  {
   "cell_type": "code",
   "execution_count": 139,
   "id": "c2efb747",
   "metadata": {},
   "outputs": [
    {
     "data": {
      "text/plain": [
       "330"
      ]
     },
     "execution_count": 139,
     "metadata": {},
     "output_type": "execute_result"
    }
   ],
   "source": [
    "266 + 64"
   ]
  },
  {
   "cell_type": "code",
   "execution_count": 138,
   "id": "e271d71f",
   "metadata": {},
   "outputs": [
    {
     "data": {
      "text/plain": [
       "internet_service_type\n",
       "DSL                      1102\n",
       "Fiber optic               982\n",
       "None                      807\n",
       "dtype: int64"
      ]
     },
     "execution_count": 138,
     "metadata": {},
     "output_type": "execute_result"
    }
   ],
   "source": [
    "internet_no_churn.value_counts()"
   ]
  },
  {
   "cell_type": "code",
   "execution_count": 140,
   "id": "3ef2a76c",
   "metadata": {},
   "outputs": [
    {
     "data": {
      "text/plain": [
       "1909"
      ]
     },
     "execution_count": 140,
     "metadata": {},
     "output_type": "execute_result"
    }
   ],
   "source": [
    "1102 + 807"
   ]
  },
  {
   "cell_type": "code",
   "execution_count": 142,
   "id": "bcee1878",
   "metadata": {},
   "outputs": [
    {
     "data": {
      "text/html": [
       "<div>\n",
       "<style scoped>\n",
       "    .dataframe tbody tr th:only-of-type {\n",
       "        vertical-align: middle;\n",
       "    }\n",
       "\n",
       "    .dataframe tbody tr th {\n",
       "        vertical-align: top;\n",
       "    }\n",
       "\n",
       "    .dataframe thead th {\n",
       "        text-align: right;\n",
       "    }\n",
       "</style>\n",
       "<table border=\"1\" class=\"dataframe\">\n",
       "  <thead>\n",
       "    <tr style=\"text-align: right;\">\n",
       "      <th></th>\n",
       "      <th>Fiber</th>\n",
       "      <th>No Fiber</th>\n",
       "    </tr>\n",
       "  </thead>\n",
       "  <tbody>\n",
       "    <tr>\n",
       "      <th>Churn</th>\n",
       "      <td>716</td>\n",
       "      <td>330</td>\n",
       "    </tr>\n",
       "    <tr>\n",
       "      <th>No Churn</th>\n",
       "      <td>982</td>\n",
       "      <td>1909</td>\n",
       "    </tr>\n",
       "  </tbody>\n",
       "</table>\n",
       "</div>"
      ],
      "text/plain": [
       "          Fiber  No Fiber\n",
       "Churn       716       330\n",
       "No Churn    982      1909"
      ]
     },
     "execution_count": 142,
     "metadata": {},
     "output_type": "execute_result"
    }
   ],
   "source": [
    "observed = pd.DataFrame([[716, 330], [982, 1909]])\n",
    "observed.index = ['Churn', 'No Churn']\n",
    "observed.columns = ['Fiber', 'No Fiber']\n",
    "observed\n"
   ]
  },
  {
   "cell_type": "code",
   "execution_count": 145,
   "id": "7f543dc9",
   "metadata": {},
   "outputs": [],
   "source": [
    "chi2, p, degf, expected = stats.chi2_contingency(observed)"
   ]
  },
  {
   "cell_type": "code",
   "execution_count": 146,
   "id": "ae07611f",
   "metadata": {},
   "outputs": [
    {
     "name": "stdout",
     "output_type": "stream",
     "text": [
      "Observed\n",
      "\n",
      "[[ 716  330]\n",
      " [ 982 1909]]\n",
      "---\n",
      "Expected\n",
      "\n",
      "[[ 451  594]\n",
      " [1246 1644]]\n",
      "---\n",
      "\n",
      "chi^2 = 370.9722\n",
      "p     = 0.0000\n"
     ]
    }
   ],
   "source": [
    "print('Observed\\n')\n",
    "print(observed.values)\n",
    "print('---\\nExpected\\n')\n",
    "print(expected.astype(int))\n",
    "print('---\\n')\n",
    "print(f'chi^2 = {chi2:.4f}')\n",
    "print(f'p     = {p:.4f}')"
   ]
  },
  {
   "cell_type": "code",
   "execution_count": 147,
   "id": "1a6a2214",
   "metadata": {},
   "outputs": [
    {
     "name": "stdout",
     "output_type": "stream",
     "text": [
      "We reject the null\n"
     ]
    }
   ],
   "source": [
    "if p < a:\n",
    "    print('We reject the null')\n",
    "else:\n",
    "    print(\"we fail to reject the null\")"
   ]
  },
  {
   "cell_type": "markdown",
   "id": "1adc73f4",
   "metadata": {},
   "source": [
    "We reject the null hypothesis that a customer churning and having fiber optic internet are independent. "
   ]
  },
  {
   "cell_type": "markdown",
   "id": "cab18ce0",
   "metadata": {},
   "source": [
    "3. Do the customers that churn have a higher monthly cost than those that do not churn? "
   ]
  },
  {
   "cell_type": "code",
   "execution_count": 278,
   "id": "c5e93403",
   "metadata": {},
   "outputs": [
    {
     "data": {
      "image/png": "[encoded data removed]",
      "text/plain": [
       "<Figure size 864x432 with 1 Axes>"
      ]
     },
     "metadata": {
      "needs_background": "light"
     },
     "output_type": "display_data"
    }
   ],
   "source": [
    "# Plot groupby churn to see average monthly charges comparison\n",
    "\n",
    "plt.figure(figsize=(12, 6))\n",
    "train.groupby('churn').monthly_charges.mean().plot(kind='barh', color='blue', ec='black')\n",
    "\n",
    "plt.title('The Average Monthly Bill was Higher for Customers that Churned.')\n",
    "locs, labels = plt.yticks()\n",
    "plt.yticks(locs, ('Did Not Churn', 'Churned'))\n",
    "plt.ylabel('')\n",
    "plt.xlabel('US $')\n",
    "\n",
    "plt.show()"
   ]
  },
  {
   "cell_type": "code",
   "execution_count": 97,
   "id": "0234d345",
   "metadata": {},
   "outputs": [
    {
     "data": {
      "image/png": "[encoded data removed]",
      "text/plain": [
       "<Figure size 864x432 with 1 Axes>"
      ]
     },
     "metadata": {
      "needs_background": "light"
     },
     "output_type": "display_data"
    }
   ],
   "source": [
    "plt.figure(figsize=(12, 6))\n",
    "sns.swarmplot(x='internet_service_type', y='monthly_charges', data=train , hue='churn'  )\n",
    "\n",
    "plt.title('How does internet type and monthly charges relate to churn?')\n",
    "plt.xlabel('')\n",
    "plt.show()"
   ]
  },
  {
   "cell_type": "markdown",
   "id": "a8831a1d",
   "metadata": {},
   "source": [
    " 4. Do the customers that churn use paperless billing more than those who don't?"
   ]
  },
  {
   "cell_type": "code",
   "execution_count": 277,
   "id": "f54c380e",
   "metadata": {},
   "outputs": [
    {
     "data": {
      "text/plain": [
       "<AxesSubplot:xlabel='churn', ylabel='monthly_charges'>"
      ]
     },
     "execution_count": 277,
     "metadata": {},
     "output_type": "execute_result"
    },
    {
     "data": {
      "image/png": "[encoded data removed]",
      "text/plain": [
       "<Figure size 864x432 with 1 Axes>"
      ]
     },
     "metadata": {
      "needs_background": "light"
     },
     "output_type": "display_data"
    }
   ],
   "source": [
    "plt.figure(figsize=(12, 6))\n",
    "sns.barplot(x=\"churn\", y=\"monthly_charges\", data=train, ci=None, hue=\"paperless_billing\")"
   ]
  },
  {
   "cell_type": "markdown",
   "id": "5908e1ed",
   "metadata": {},
   "source": [
    "Through this visual we can see that paperless billing customers are more likely to churn than not. "
   ]
  },
  {
   "cell_type": "markdown",
   "id": "2d8f6b5e",
   "metadata": {},
   "source": [
    "Now we will run a Chi2 statistical test to see whether there is a correlation between paperless billing customers and churn. "
   ]
  },
  {
   "cell_type": "code",
   "execution_count": 148,
   "id": "4e1d99a6",
   "metadata": {},
   "outputs": [],
   "source": [
    "# set alpha to 0.05 to ensure 95% confidence\n",
    "a = 0.05"
   ]
  },
  {
   "cell_type": "markdown",
   "id": "ea95cd1e",
   "metadata": {},
   "source": [
    "Null Hypothesis: A customer churning and having paperless billing are independent. \n",
    "\n",
    "Alt Hypothesis: A customer churning and having paperless billing are dependent. "
   ]
  },
  {
   "cell_type": "code",
   "execution_count": 157,
   "id": "df74f1b5",
   "metadata": {},
   "outputs": [
    {
     "data": {
      "text/plain": [
       "paperless_billing\n",
       "1                    779\n",
       "0                    267\n",
       "dtype: int64"
      ]
     },
     "execution_count": 157,
     "metadata": {},
     "output_type": "execute_result"
    }
   ],
   "source": [
    "paperless_b_churn.value_counts()"
   ]
  },
  {
   "cell_type": "code",
   "execution_count": 158,
   "id": "7ba53e2f",
   "metadata": {},
   "outputs": [
    {
     "data": {
      "text/plain": [
       "paperless_billing\n",
       "1                    1540\n",
       "0                    1351\n",
       "dtype: int64"
      ]
     },
     "execution_count": 158,
     "metadata": {},
     "output_type": "execute_result"
    }
   ],
   "source": [
    "paperless_b_no_churn.value_counts()"
   ]
  },
  {
   "cell_type": "code",
   "execution_count": 159,
   "id": "6cd6878a",
   "metadata": {},
   "outputs": [
    {
     "data": {
      "text/html": [
       "<div>\n",
       "<style scoped>\n",
       "    .dataframe tbody tr th:only-of-type {\n",
       "        vertical-align: middle;\n",
       "    }\n",
       "\n",
       "    .dataframe tbody tr th {\n",
       "        vertical-align: top;\n",
       "    }\n",
       "\n",
       "    .dataframe thead th {\n",
       "        text-align: right;\n",
       "    }\n",
       "</style>\n",
       "<table border=\"1\" class=\"dataframe\">\n",
       "  <thead>\n",
       "    <tr style=\"text-align: right;\">\n",
       "      <th></th>\n",
       "      <th>Paperless</th>\n",
       "      <th>Not Paperless</th>\n",
       "    </tr>\n",
       "  </thead>\n",
       "  <tbody>\n",
       "    <tr>\n",
       "      <th>Churn</th>\n",
       "      <td>779</td>\n",
       "      <td>267</td>\n",
       "    </tr>\n",
       "    <tr>\n",
       "      <th>No Churn</th>\n",
       "      <td>1540</td>\n",
       "      <td>1315</td>\n",
       "    </tr>\n",
       "  </tbody>\n",
       "</table>\n",
       "</div>"
      ],
      "text/plain": [
       "          Paperless  Not Paperless\n",
       "Churn           779            267\n",
       "No Churn       1540           1315"
      ]
     },
     "execution_count": 159,
     "metadata": {},
     "output_type": "execute_result"
    }
   ],
   "source": [
    "observed = pd.DataFrame([[779, 267], [1540, 1315]])\n",
    "observed.index = ['Churn', 'No Churn']\n",
    "observed.columns = ['Paperless', 'Not Paperless']\n",
    "observed\n"
   ]
  },
  {
   "cell_type": "code",
   "execution_count": 160,
   "id": "6c9e9210",
   "metadata": {},
   "outputs": [],
   "source": [
    "chi2, p, degf, expected = stats.chi2_contingency(observed)"
   ]
  },
  {
   "cell_type": "code",
   "execution_count": 161,
   "id": "cee5fd86",
   "metadata": {},
   "outputs": [
    {
     "name": "stdout",
     "output_type": "stream",
     "text": [
      "Observed\n",
      "\n",
      "[[ 779  267]\n",
      " [1540 1315]]\n",
      "---\n",
      "Expected\n",
      "\n",
      "[[ 621  424]\n",
      " [1697 1157]]\n",
      "---\n",
      "\n",
      "chi^2 = 133.0378\n",
      "p     = 0.0000\n"
     ]
    }
   ],
   "source": [
    "print('Observed\\n')\n",
    "print(observed.values)\n",
    "print('---\\nExpected\\n')\n",
    "print(expected.astype(int))\n",
    "print('---\\n')\n",
    "print(f'chi^2 = {chi2:.4f}')\n",
    "print(f'p     = {p:.4f}')"
   ]
  },
  {
   "cell_type": "code",
   "execution_count": 162,
   "id": "fbd9f0d8",
   "metadata": {},
   "outputs": [
    {
     "name": "stdout",
     "output_type": "stream",
     "text": [
      "We reject the null\n"
     ]
    }
   ],
   "source": [
    "if p < a:\n",
    "    print('We reject the null')\n",
    "else:\n",
    "    print(\"we fail to reject the null\")"
   ]
  },
  {
   "cell_type": "markdown",
   "id": "616f845e",
   "metadata": {},
   "source": [
    "We reject the null hypothesis that a customer churning and having paperless billing are independent."
   ]
  },
  {
   "cell_type": "markdown",
   "id": "91b1d6f1",
   "metadata": {},
   "source": [
    "### Takeaways "
   ]
  },
  {
   "cell_type": "markdown",
   "id": "3176058d",
   "metadata": {},
   "source": [
    "The takeaways from our initial questions are the following: \n",
    "\n",
    "- We start losing customers drastically after the fisrt month, and those that churn are most likely to leave in the 18th month. \n",
    "\n",
    "- Customers paying for fiber optic internet service are more likely to churn than those who aren't. \n",
    "\n",
    "- The reason for this and churn in general seems to be that those who leave have a higher monthly bill than those who stay. \n",
    "\n",
    "- The customers that churn that use paperless billing, still pay more per month than those who stay. "
   ]
  },
  {
   "cell_type": "markdown",
   "id": "e27df152",
   "metadata": {},
   "source": [
    "### Modeling to Predict Customer Churn"
   ]
  },
  {
   "cell_type": "markdown",
   "id": "489c9144",
   "metadata": {},
   "source": [
    "Before we build our models we need to define our X and Y variables and drop the three categorical features that are left. "
   ]
  },
  {
   "cell_type": "code",
   "execution_count": 170,
   "id": "fcc553d4",
   "metadata": {},
   "outputs": [],
   "source": [
    "X_train = train.drop(columns=['churn', 'contract_type', 'internet_service_type', 'payment_type'])\n",
    "y_train = train[['churn']]\n",
    "\n",
    "X_validate = validate.drop(columns=['churn', 'contract_type', 'internet_service_type', 'payment_type'])\n",
    "y_validate = validate[['churn']]\n",
    "\n",
    "X_test = test.drop(columns=['churn', 'contract_type', 'internet_service_type', 'payment_type'])\n",
    "y_test = test[['churn']]\n"
   ]
  },
  {
   "cell_type": "code",
   "execution_count": 171,
   "id": "c34bb229",
   "metadata": {},
   "outputs": [
    {
     "data": {
      "text/plain": [
       "senior_citizen                         int64\n",
       "partner                                int64\n",
       "dependents                             int64\n",
       "tenure                                 int64\n",
       "phone_service                          int64\n",
       "multiple_lines                         int64\n",
       "online_security                        int64\n",
       "online_backup                          int64\n",
       "device_protection                      int64\n",
       "tech_support                           int64\n",
       "streaming_tv                           int64\n",
       "streaming_movies                       int64\n",
       "paperless_billing                      int64\n",
       "monthly_charges                      float64\n",
       "total_charges                        float64\n",
       "is_autopay                              bool\n",
       "contract_type_month_to_month           uint8\n",
       "contract_type_one_year                 uint8\n",
       "contract_type_two_year                 uint8\n",
       "internet_service_type_DSL              uint8\n",
       "internet_service_type_fiber_optic      uint8\n",
       "internet_service_type_None             uint8\n",
       "payment_type_bank_transfer_auto        uint8\n",
       "payment_type_credit_card_auto          uint8\n",
       "payment_type_electronic_check          uint8\n",
       "payment_type_mailed_check              uint8\n",
       "dtype: object"
      ]
     },
     "execution_count": 171,
     "metadata": {},
     "output_type": "execute_result"
    }
   ],
   "source": [
    "X_train.dtypes"
   ]
  },
  {
   "cell_type": "code",
   "execution_count": 179,
   "id": "62094b5b",
   "metadata": {},
   "outputs": [
    {
     "data": {
      "text/plain": [
       "churn    int64\n",
       "dtype: object"
      ]
     },
     "execution_count": 179,
     "metadata": {},
     "output_type": "execute_result"
    }
   ],
   "source": [
    "y_train.dtypes"
   ]
  },
  {
   "cell_type": "markdown",
   "id": "43a9ef20",
   "metadata": {},
   "source": [
    "#### Establishing the Baseline"
   ]
  },
  {
   "cell_type": "markdown",
   "id": "9a1f3bb1",
   "metadata": {},
   "source": [
    "The last thing we have to do before fitting (training) out models is establishing a baseline."
   ]
  },
  {
   "cell_type": "code",
   "execution_count": 169,
   "id": "7e84a098",
   "metadata": {},
   "outputs": [
    {
     "data": {
      "text/plain": [
       "0    0.734315\n",
       "1    0.265685\n",
       "Name: churn, dtype: float64"
      ]
     },
     "execution_count": 169,
     "metadata": {},
     "output_type": "execute_result"
    }
   ],
   "source": [
    "train.churn.value_counts(normalize=True)"
   ]
  },
  {
   "cell_type": "markdown",
   "id": "fd0fb786",
   "metadata": {},
   "source": [
    "A customer is more likely not to churn than churn, so not churning will be our baseline. \n",
    "Our basline accuracy is 73%. "
   ]
  },
  {
   "cell_type": "code",
   "execution_count": 173,
   "id": "0c2bdd53",
   "metadata": {},
   "outputs": [],
   "source": [
    "baseline = y_train.mode()"
   ]
  },
  {
   "cell_type": "code",
   "execution_count": 174,
   "id": "771c234b",
   "metadata": {},
   "outputs": [
    {
     "data": {
      "text/html": [
       "<div>\n",
       "<style scoped>\n",
       "    .dataframe tbody tr th:only-of-type {\n",
       "        vertical-align: middle;\n",
       "    }\n",
       "\n",
       "    .dataframe tbody tr th {\n",
       "        vertical-align: top;\n",
       "    }\n",
       "\n",
       "    .dataframe thead th {\n",
       "        text-align: right;\n",
       "    }\n",
       "</style>\n",
       "<table border=\"1\" class=\"dataframe\">\n",
       "  <thead>\n",
       "    <tr style=\"text-align: right;\">\n",
       "      <th></th>\n",
       "      <th>churn</th>\n",
       "    </tr>\n",
       "  </thead>\n",
       "  <tbody>\n",
       "    <tr>\n",
       "      <th>0</th>\n",
       "      <td>0</td>\n",
       "    </tr>\n",
       "  </tbody>\n",
       "</table>\n",
       "</div>"
      ],
      "text/plain": [
       "   churn\n",
       "0      0"
      ]
     },
     "execution_count": 174,
     "metadata": {},
     "output_type": "execute_result"
    }
   ],
   "source": [
    "baseline"
   ]
  },
  {
   "cell_type": "code",
   "execution_count": 175,
   "id": "31940591",
   "metadata": {},
   "outputs": [],
   "source": [
    "match_bsl_prediction = y_train == 0"
   ]
  },
  {
   "cell_type": "code",
   "execution_count": 176,
   "id": "77cacbf1",
   "metadata": {},
   "outputs": [],
   "source": [
    "baseline_accuracy = match_bsl_prediction.mean()"
   ]
  },
  {
   "cell_type": "code",
   "execution_count": 178,
   "id": "6b311e8c",
   "metadata": {},
   "outputs": [
    {
     "data": {
      "text/plain": [
       "churn    0.734315\n",
       "dtype: float64"
      ]
     },
     "execution_count": 178,
     "metadata": {},
     "output_type": "execute_result"
    }
   ],
   "source": [
    "# basline accuracy = 73%\n",
    "baseline_accuracy"
   ]
  },
  {
   "cell_type": "markdown",
   "id": "e7264ff1",
   "metadata": {},
   "source": [
    "#### Three Best Models"
   ]
  },
  {
   "cell_type": "markdown",
   "id": "0c5a1229",
   "metadata": {},
   "source": [
    "#### Decision Tree"
   ]
  },
  {
   "cell_type": "code",
   "execution_count": 181,
   "id": "bfd4e766",
   "metadata": {},
   "outputs": [],
   "source": [
    "tree1_clf = DecisionTreeClassifier(max_depth=3, random_state=123)"
   ]
  },
  {
   "cell_type": "code",
   "execution_count": 182,
   "id": "3728b51e",
   "metadata": {},
   "outputs": [],
   "source": [
    "tree1_clf = tree1_clf.fit(X_train, y_train)"
   ]
  },
  {
   "cell_type": "code",
   "execution_count": 184,
   "id": "79bb4bec",
   "metadata": {},
   "outputs": [
    {
     "data": {
      "text/plain": [
       "'telco_decision_tree.pdf'"
      ]
     },
     "execution_count": 184,
     "metadata": {},
     "output_type": "execute_result"
    }
   ],
   "source": [
    "#visualize the decision tree\n",
    "import graphviz\n",
    "from graphviz import Graph\n",
    "\n",
    "dot_data = export_graphviz(tree1_clf, feature_names= X_train.columns, rounded=True, filled=True, out_file=None)\n",
    "graph = graphviz.Source(dot_data) \n",
    "\n",
    "graph.render('telco_decision_tree', view=True)"
   ]
  },
  {
   "cell_type": "code",
   "execution_count": 188,
   "id": "b60fd41d",
   "metadata": {},
   "outputs": [
    {
     "data": {
      "text/plain": [
       "array([0, 0, 0, 0, 0])"
      ]
     },
     "execution_count": 188,
     "metadata": {},
     "output_type": "execute_result"
    }
   ],
   "source": [
    "y_pred = tree1_clf.predict(X_train)\n",
    "y_pred[0:5]"
   ]
  },
  {
   "cell_type": "code",
   "execution_count": 189,
   "id": "9314c1ac",
   "metadata": {},
   "outputs": [
    {
     "data": {
      "text/plain": [
       "array([[0.97229219, 0.02770781],\n",
       "       [0.77721088, 0.22278912],\n",
       "       [0.58823529, 0.41176471],\n",
       "       [0.77721088, 0.22278912],\n",
       "       [0.97229219, 0.02770781]])"
      ]
     },
     "execution_count": 189,
     "metadata": {},
     "output_type": "execute_result"
    }
   ],
   "source": [
    "y_pred_proba = tree1_clf.predict_proba(X_train)\n",
    "y_pred_proba[0:5]"
   ]
  },
  {
   "cell_type": "code",
   "execution_count": 193,
   "id": "2115b96f",
   "metadata": {},
   "outputs": [
    {
     "name": "stdout",
     "output_type": "stream",
     "text": [
      "Accuracy of Decision Tree 1 classifier on training set: 0.79\n"
     ]
    }
   ],
   "source": [
    "# accuracy:\n",
    "print('Accuracy of Decision Tree 1 classifier on training set: {:.2f}'\n",
    "      .format(tree1_clf.score(X_train, y_train)))"
   ]
  },
  {
   "cell_type": "code",
   "execution_count": 194,
   "id": "6b96880b",
   "metadata": {},
   "outputs": [
    {
     "data": {
      "text/html": [
       "<div>\n",
       "<style scoped>\n",
       "    .dataframe tbody tr th:only-of-type {\n",
       "        vertical-align: middle;\n",
       "    }\n",
       "\n",
       "    .dataframe tbody tr th {\n",
       "        vertical-align: top;\n",
       "    }\n",
       "\n",
       "    .dataframe thead th {\n",
       "        text-align: right;\n",
       "    }\n",
       "</style>\n",
       "<table border=\"1\" class=\"dataframe\">\n",
       "  <thead>\n",
       "    <tr style=\"text-align: right;\">\n",
       "      <th></th>\n",
       "      <th>0</th>\n",
       "      <th>1</th>\n",
       "    </tr>\n",
       "  </thead>\n",
       "  <tbody>\n",
       "    <tr>\n",
       "      <th>0</th>\n",
       "      <td>2719</td>\n",
       "      <td>172</td>\n",
       "    </tr>\n",
       "    <tr>\n",
       "      <th>1</th>\n",
       "      <td>643</td>\n",
       "      <td>403</td>\n",
       "    </tr>\n",
       "  </tbody>\n",
       "</table>\n",
       "</div>"
      ],
      "text/plain": [
       "      0    1\n",
       "0  2719  172\n",
       "1   643  403"
      ]
     },
     "execution_count": 194,
     "metadata": {},
     "output_type": "execute_result"
    }
   ],
   "source": [
    "# confusion matrix\n",
    "pd.DataFrame(confusion_matrix(y_train, y_pred))"
   ]
  },
  {
   "cell_type": "code",
   "execution_count": 195,
   "id": "3c09a9fe",
   "metadata": {},
   "outputs": [
    {
     "name": "stdout",
     "output_type": "stream",
     "text": [
      "              precision    recall  f1-score   support\n",
      "\n",
      "           0       0.81      0.94      0.87      2891\n",
      "           1       0.70      0.39      0.50      1046\n",
      "\n",
      "    accuracy                           0.79      3937\n",
      "   macro avg       0.75      0.66      0.68      3937\n",
      "weighted avg       0.78      0.79      0.77      3937\n",
      "\n"
     ]
    }
   ],
   "source": [
    "# classification report\n",
    "print(classification_report(y_train, y_pred))"
   ]
  },
  {
   "cell_type": "code",
   "execution_count": 196,
   "id": "d1f77f86",
   "metadata": {},
   "outputs": [
    {
     "data": {
      "text/html": [
       "<div>\n",
       "<style scoped>\n",
       "    .dataframe tbody tr th:only-of-type {\n",
       "        vertical-align: middle;\n",
       "    }\n",
       "\n",
       "    .dataframe tbody tr th {\n",
       "        vertical-align: top;\n",
       "    }\n",
       "\n",
       "    .dataframe thead th {\n",
       "        text-align: right;\n",
       "    }\n",
       "</style>\n",
       "<table border=\"1\" class=\"dataframe\">\n",
       "  <thead>\n",
       "    <tr style=\"text-align: right;\">\n",
       "      <th></th>\n",
       "      <th>0</th>\n",
       "      <th>1</th>\n",
       "      <th>accuracy</th>\n",
       "      <th>macro avg</th>\n",
       "      <th>weighted avg</th>\n",
       "    </tr>\n",
       "  </thead>\n",
       "  <tbody>\n",
       "    <tr>\n",
       "      <th>precision</th>\n",
       "      <td>0.808745</td>\n",
       "      <td>0.700870</td>\n",
       "      <td>0.79299</td>\n",
       "      <td>0.754807</td>\n",
       "      <td>0.780084</td>\n",
       "    </tr>\n",
       "    <tr>\n",
       "      <th>recall</th>\n",
       "      <td>0.940505</td>\n",
       "      <td>0.385277</td>\n",
       "      <td>0.79299</td>\n",
       "      <td>0.662891</td>\n",
       "      <td>0.792990</td>\n",
       "    </tr>\n",
       "    <tr>\n",
       "      <th>f1-score</th>\n",
       "      <td>0.869663</td>\n",
       "      <td>0.497224</td>\n",
       "      <td>0.79299</td>\n",
       "      <td>0.683443</td>\n",
       "      <td>0.770711</td>\n",
       "    </tr>\n",
       "    <tr>\n",
       "      <th>support</th>\n",
       "      <td>2891.000000</td>\n",
       "      <td>1046.000000</td>\n",
       "      <td>0.79299</td>\n",
       "      <td>3937.000000</td>\n",
       "      <td>3937.000000</td>\n",
       "    </tr>\n",
       "  </tbody>\n",
       "</table>\n",
       "</div>"
      ],
      "text/plain": [
       "                     0            1  accuracy    macro avg  weighted avg\n",
       "precision     0.808745     0.700870   0.79299     0.754807      0.780084\n",
       "recall        0.940505     0.385277   0.79299     0.662891      0.792990\n",
       "f1-score      0.869663     0.497224   0.79299     0.683443      0.770711\n",
       "support    2891.000000  1046.000000   0.79299  3937.000000   3937.000000"
      ]
     },
     "execution_count": 196,
     "metadata": {},
     "output_type": "execute_result"
    }
   ],
   "source": [
    "pd.DataFrame(classification_report(y_train, y_pred, output_dict=True))"
   ]
  },
  {
   "cell_type": "code",
   "execution_count": 197,
   "id": "adbdb11f",
   "metadata": {},
   "outputs": [
    {
     "name": "stdout",
     "output_type": "stream",
     "text": [
      "Accuracy: 0.7929895859791719\n",
      "True Positive Rate: 0.8087447947650208\n",
      "False Positive Rate: 0.2991304347826087\n",
      "True Negative Rate: 0.7008695652173913\n",
      "False Negative Rate: 0.1912552052349792\n",
      "Precision: 0.9405050155655482\n",
      "Recall: 0.8087447947650208\n",
      "F1 Score: 0.8696625619702542\n",
      "Support (0): 3362\n",
      "Support (1): 575\n"
     ]
    }
   ],
   "source": [
    "# If not churn (0) is our positive case\n",
    "TP = 2719\n",
    "FP = 172\n",
    "FN = 643\n",
    "TN = 403\n",
    "ALL = TP + FP + FN + TN\n",
    "\n",
    "accuracy = (TP + TN)/ALL\n",
    "print(f\"Accuracy: {accuracy}\")\n",
    "\n",
    "true_positive_rate = TP/(TP+FN)\n",
    "print(f\"True Positive Rate: {true_positive_rate}\")\n",
    "\n",
    "false_positive_rate = FP/(FP+TN)\n",
    "print(f\"False Positive Rate: {false_positive_rate}\")\n",
    "\n",
    "true_negative_rate = TN/(TN+FP)\n",
    "print(f\"True Negative Rate: {true_negative_rate}\")\n",
    "\n",
    "false_negative_rate = FN/(FN+TP)\n",
    "print(f\"False Negative Rate: {false_negative_rate}\")\n",
    "\n",
    "precision = TP/(TP+FP)\n",
    "print(f\"Precision: {precision}\")\n",
    "\n",
    "recall = TP/(TP+FN)\n",
    "print(f\"Recall: {recall}\")\n",
    "\n",
    "f1_score = 2*(precision*recall)/(precision+recall)\n",
    "print(f\"F1 Score: {f1_score}\")\n",
    "\n",
    "support_pos = TP + FN\n",
    "print(f\"Support (0): {support_pos}\")\n",
    "\n",
    "support_neg = FP + TN\n",
    "print(f\"Support (1): {support_neg}\")"
   ]
  },
  {
   "cell_type": "code",
   "execution_count": 223,
   "id": "f5e8c87b",
   "metadata": {},
   "outputs": [
    {
     "data": {
      "text/plain": [
       "0.7950236966824644"
      ]
     },
     "execution_count": 223,
     "metadata": {},
     "output_type": "execute_result"
    }
   ],
   "source": [
    "# Test accuravy on out of sample data\n",
    "rf1_clf.score(X_validate, y_validate)"
   ]
  },
  {
   "cell_type": "code",
   "execution_count": 224,
   "id": "d62ac8c7",
   "metadata": {},
   "outputs": [],
   "source": [
    "# Want to find the difference to make sure there is not overfitting \n",
    "train_accuracy = rf1_clf.score(X_train, y_train)\n",
    "validate_accuracy = rf1_clf.score(X_validate, y_validate)"
   ]
  },
  {
   "cell_type": "code",
   "execution_count": 227,
   "id": "83ed83c5",
   "metadata": {},
   "outputs": [
    {
     "data": {
      "text/plain": [
       "0.06121201578896052"
      ]
     },
     "execution_count": 227,
     "metadata": {},
     "output_type": "execute_result"
    }
   ],
   "source": [
    "# Threshold is under 0.1, so we don't have to worry about overfitting\n",
    "difference = train_accuracy - validate_accuracy\n",
    "difference"
   ]
  },
  {
   "cell_type": "markdown",
   "id": "8486d062",
   "metadata": {},
   "source": [
    "#### Random Forest"
   ]
  },
  {
   "cell_type": "code",
   "execution_count": 201,
   "id": "27ae68d3",
   "metadata": {},
   "outputs": [],
   "source": [
    "# create model with max_depth of 11 and min_samples_leaf of 5\n",
    "rf1_clf = RandomForestClassifier(max_depth=11, min_samples_leaf=5, random_state=123)"
   ]
  },
  {
   "cell_type": "code",
   "execution_count": 200,
   "id": "a74ae73a",
   "metadata": {},
   "outputs": [
    {
     "data": {
      "text/plain": [
       "RandomForestClassifier(max_depth=11, min_samples_leaf=5, random_state=123)"
      ]
     },
     "execution_count": 200,
     "metadata": {},
     "output_type": "execute_result"
    }
   ],
   "source": [
    "rf1_clf"
   ]
  },
  {
   "cell_type": "code",
   "execution_count": 202,
   "id": "7b2b1b21",
   "metadata": {},
   "outputs": [
    {
     "data": {
      "text/plain": [
       "RandomForestClassifier(max_depth=11, min_samples_leaf=5, random_state=123)"
      ]
     },
     "execution_count": 202,
     "metadata": {},
     "output_type": "execute_result"
    }
   ],
   "source": [
    "# Fit the model \n",
    "rf1_clf.fit(X_train, y_train)"
   ]
  },
  {
   "cell_type": "code",
   "execution_count": 209,
   "id": "5eceed9c",
   "metadata": {},
   "outputs": [
    {
     "name": "stdout",
     "output_type": "stream",
     "text": [
      "[0.0165038  0.01136759 0.00932857 0.1569365  0.00874393 0.01146359\n",
      " 0.03342219 0.01325022 0.00972432 0.02184425 0.01147449 0.01221934\n",
      " 0.02045287 0.12769189 0.14534649 0.01316372 0.1136016  0.02539448\n",
      " 0.04271456 0.0214629  0.07508704 0.026175   0.00624926 0.00742334\n",
      " 0.05029983 0.00865825]\n"
     ]
    }
   ],
   "source": [
    "# See how the features are being weighted\n",
    "print(rf1_clf.feature_importances_)"
   ]
  },
  {
   "cell_type": "code",
   "execution_count": 210,
   "id": "24dee9a8",
   "metadata": {},
   "outputs": [
    {
     "data": {
      "text/plain": [
       "array([0, 0, 0, ..., 0, 0, 1])"
      ]
     },
     "execution_count": 210,
     "metadata": {},
     "output_type": "execute_result"
    }
   ],
   "source": [
    "# predict the accuracy\n",
    "y_pred = rf1_clf.predict(X_train)\n",
    "y_pred"
   ]
  },
  {
   "cell_type": "code",
   "execution_count": 205,
   "id": "7ecdbb89",
   "metadata": {},
   "outputs": [],
   "source": [
    "y_pred_proba = rf1_clf.predict_proba(X_train)"
   ]
  },
  {
   "cell_type": "code",
   "execution_count": 206,
   "id": "b69ccff1",
   "metadata": {},
   "outputs": [
    {
     "name": "stdout",
     "output_type": "stream",
     "text": [
      "Accuracy of random forest classifier on training set: 0.86\n"
     ]
    }
   ],
   "source": [
    "print('Accuracy of random forest classifier on training set: {:.2f}'\n",
    "     .format(rf1_clf.score(X_train, y_train)))"
   ]
  },
  {
   "cell_type": "code",
   "execution_count": 208,
   "id": "d589c316",
   "metadata": {},
   "outputs": [
    {
     "data": {
      "text/html": [
       "<div>\n",
       "<style scoped>\n",
       "    .dataframe tbody tr th:only-of-type {\n",
       "        vertical-align: middle;\n",
       "    }\n",
       "\n",
       "    .dataframe tbody tr th {\n",
       "        vertical-align: top;\n",
       "    }\n",
       "\n",
       "    .dataframe thead th {\n",
       "        text-align: right;\n",
       "    }\n",
       "</style>\n",
       "<table border=\"1\" class=\"dataframe\">\n",
       "  <thead>\n",
       "    <tr style=\"text-align: right;\">\n",
       "      <th></th>\n",
       "      <th>0</th>\n",
       "      <th>1</th>\n",
       "    </tr>\n",
       "  </thead>\n",
       "  <tbody>\n",
       "    <tr>\n",
       "      <th>0</th>\n",
       "      <td>2718</td>\n",
       "      <td>173</td>\n",
       "    </tr>\n",
       "    <tr>\n",
       "      <th>1</th>\n",
       "      <td>393</td>\n",
       "      <td>653</td>\n",
       "    </tr>\n",
       "  </tbody>\n",
       "</table>\n",
       "</div>"
      ],
      "text/plain": [
       "      0    1\n",
       "0  2718  173\n",
       "1   393  653"
      ]
     },
     "execution_count": 208,
     "metadata": {},
     "output_type": "execute_result"
    }
   ],
   "source": [
    "# Confusion Matrix\n",
    "pd.DataFrame(confusion_matrix(y_train, y_pred))"
   ]
  },
  {
   "cell_type": "code",
   "execution_count": 213,
   "id": "3324f731",
   "metadata": {},
   "outputs": [
    {
     "name": "stdout",
     "output_type": "stream",
     "text": [
      "              precision    recall  f1-score   support\n",
      "\n",
      "           0       0.87      0.94      0.91      2891\n",
      "           1       0.79      0.62      0.70      1046\n",
      "\n",
      "    accuracy                           0.86      3937\n",
      "   macro avg       0.83      0.78      0.80      3937\n",
      "weighted avg       0.85      0.86      0.85      3937\n",
      "\n"
     ]
    }
   ],
   "source": [
    "#print the classification report\n",
    "print(classification_report(y_train, y_pred))"
   ]
  },
  {
   "cell_type": "code",
   "execution_count": 215,
   "id": "58450394",
   "metadata": {},
   "outputs": [
    {
     "name": "stdout",
     "output_type": "stream",
     "text": [
      "rf1_clf depth\n"
     ]
    },
    {
     "data": {
      "text/html": [
       "<div>\n",
       "<style scoped>\n",
       "    .dataframe tbody tr th:only-of-type {\n",
       "        vertical-align: middle;\n",
       "    }\n",
       "\n",
       "    .dataframe tbody tr th {\n",
       "        vertical-align: top;\n",
       "    }\n",
       "\n",
       "    .dataframe thead th {\n",
       "        text-align: right;\n",
       "    }\n",
       "</style>\n",
       "<table border=\"1\" class=\"dataframe\">\n",
       "  <thead>\n",
       "    <tr style=\"text-align: right;\">\n",
       "      <th></th>\n",
       "      <th>0</th>\n",
       "      <th>1</th>\n",
       "      <th>accuracy</th>\n",
       "      <th>macro avg</th>\n",
       "      <th>weighted avg</th>\n",
       "    </tr>\n",
       "  </thead>\n",
       "  <tbody>\n",
       "    <tr>\n",
       "      <th>precision</th>\n",
       "      <td>0.873674</td>\n",
       "      <td>0.790557</td>\n",
       "      <td>0.856236</td>\n",
       "      <td>0.832115</td>\n",
       "      <td>0.851591</td>\n",
       "    </tr>\n",
       "    <tr>\n",
       "      <th>recall</th>\n",
       "      <td>0.940159</td>\n",
       "      <td>0.624283</td>\n",
       "      <td>0.856236</td>\n",
       "      <td>0.782221</td>\n",
       "      <td>0.856236</td>\n",
       "    </tr>\n",
       "    <tr>\n",
       "      <th>f1-score</th>\n",
       "      <td>0.905698</td>\n",
       "      <td>0.697650</td>\n",
       "      <td>0.856236</td>\n",
       "      <td>0.801674</td>\n",
       "      <td>0.850423</td>\n",
       "    </tr>\n",
       "    <tr>\n",
       "      <th>support</th>\n",
       "      <td>2891.000000</td>\n",
       "      <td>1046.000000</td>\n",
       "      <td>0.856236</td>\n",
       "      <td>3937.000000</td>\n",
       "      <td>3937.000000</td>\n",
       "    </tr>\n",
       "  </tbody>\n",
       "</table>\n",
       "</div>"
      ],
      "text/plain": [
       "                     0            1  accuracy    macro avg  weighted avg\n",
       "precision     0.873674     0.790557  0.856236     0.832115      0.851591\n",
       "recall        0.940159     0.624283  0.856236     0.782221      0.856236\n",
       "f1-score      0.905698     0.697650  0.856236     0.801674      0.850423\n",
       "support    2891.000000  1046.000000  0.856236  3937.000000   3937.000000"
      ]
     },
     "execution_count": 215,
     "metadata": {},
     "output_type": "execute_result"
    }
   ],
   "source": [
    "class_report = classification_report(y_train, y_pred, output_dict=(True))\n",
    "print(\"rf1_clf depth\")\n",
    "pd.DataFrame(class_report)"
   ]
  },
  {
   "cell_type": "code",
   "execution_count": 214,
   "id": "6e6e487f",
   "metadata": {},
   "outputs": [
    {
     "name": "stdout",
     "output_type": "stream",
     "text": [
      "Accuracy: 0.8562357124714249\n",
      "True Positive Rate: 0.8736740597878495\n",
      "False Positive Rate: 0.20944309927360774\n",
      "True Negative Rate: 0.7905569007263923\n",
      "False Negative Rate: 0.12632594021215043\n",
      "Precision: 0.940159114493255\n",
      "Recall: 0.8736740597878495\n",
      "F1 Score: 0.9056981006331223\n",
      "Support (0): 3111\n",
      "Support (1): 826\n"
     ]
    }
   ],
   "source": [
    "# If not churned is our positive case\n",
    "TP = 2718\n",
    "FP = 173\n",
    "FN = 393\n",
    "TN = 653\n",
    "ALL = TP + FP + FN + TN\n",
    "\n",
    "accuracy = (TP + TN)/ALL\n",
    "print(f\"Accuracy: {accuracy}\")\n",
    "\n",
    "true_positive_rate = TP/(TP+FN)\n",
    "print(f\"True Positive Rate: {true_positive_rate}\")\n",
    "\n",
    "false_positive_rate = FP/(FP+TN)\n",
    "print(f\"False Positive Rate: {false_positive_rate}\")\n",
    "\n",
    "true_negative_rate = TN/(TN+FP)\n",
    "print(f\"True Negative Rate: {true_negative_rate}\")\n",
    "\n",
    "false_negative_rate = FN/(FN+TP)\n",
    "print(f\"False Negative Rate: {false_negative_rate}\")\n",
    "\n",
    "precision = TP/(TP+FP)\n",
    "print(f\"Precision: {precision}\")\n",
    "\n",
    "recall = TP/(TP+FN)\n",
    "print(f\"Recall: {recall}\")\n",
    "\n",
    "f1_score = 2*(precision*recall)/(precision+recall)\n",
    "print(f\"F1 Score: {f1_score}\")\n",
    "\n",
    "support_pos = TP + FN\n",
    "print(f\"Support (0): {support_pos}\")\n",
    "\n",
    "support_neg = FP + TN\n",
    "print(f\"Support (1): {support_neg}\")"
   ]
  },
  {
   "cell_type": "code",
   "execution_count": 221,
   "id": "0307d6f3",
   "metadata": {},
   "outputs": [
    {
     "data": {
      "text/plain": [
       "0.7950236966824644"
      ]
     },
     "execution_count": 221,
     "metadata": {},
     "output_type": "execute_result"
    }
   ],
   "source": [
    "# Test accuravy on out of sample data\n",
    "rf1_clf.score(X_validate, y_validate)"
   ]
  },
  {
   "cell_type": "code",
   "execution_count": 220,
   "id": "6ff12350",
   "metadata": {},
   "outputs": [],
   "source": [
    "# Want to find the difference to make sure there is not overfitting \n",
    "train_accuracy = rf1_clf.score(X_train, y_train)\n",
    "validate_accuracy = rf1_clf.score(X_validate, y_validate)"
   ]
  },
  {
   "cell_type": "code",
   "execution_count": 228,
   "id": "f4f36330",
   "metadata": {},
   "outputs": [
    {
     "data": {
      "text/plain": [
       "0.06121201578896052"
      ]
     },
     "execution_count": 228,
     "metadata": {},
     "output_type": "execute_result"
    }
   ],
   "source": [
    "# Threshold is under 0.1, so we don't have to worry about overfitting\n",
    "difference = train_accuracy - validate_accuracy\n",
    "difference"
   ]
  },
  {
   "cell_type": "markdown",
   "id": "5b8db2a5",
   "metadata": {},
   "source": [
    "#### Logistic Regression"
   ]
  },
  {
   "cell_type": "code",
   "execution_count": 234,
   "id": "57d1b13a",
   "metadata": {},
   "outputs": [
    {
     "name": "stdout",
     "output_type": "stream",
     "text": [
      "All Features and we're setting c to 9\n",
      "Accuracy of Logistic Regression classifier on training set: 0.81\n"
     ]
    }
   ],
   "source": [
    "# All features and c=9\n",
    "logit1 = LogisticRegression(C=9, random_state=123)\n",
    "\n",
    "logit1.fit(X_train, y_train)\n",
    "\n",
    "y_pred = logit1.predict(X_train)\n",
    "\n",
    "accuracy = logit1.score(X_train, y_train)\n",
    "\n",
    "print(\"All Features and we're setting c to 9\")\n",
    "print(f'Accuracy of Logistic Regression classifier on training set: {accuracy:.2}')"
   ]
  },
  {
   "cell_type": "code",
   "execution_count": 235,
   "id": "c493ac64",
   "metadata": {},
   "outputs": [
    {
     "data": {
      "text/plain": [
       "0.7902843601895735"
      ]
     },
     "execution_count": 235,
     "metadata": {},
     "output_type": "execute_result"
    }
   ],
   "source": [
    " logit1.score(X_validate, y_validate)"
   ]
  },
  {
   "cell_type": "code",
   "execution_count": 236,
   "id": "fa2c8fe7",
   "metadata": {},
   "outputs": [],
   "source": [
    "train_accuracy = logit1.score(X_train, y_train)\n",
    "validate_accuracy = logit1.score(X_validate, y_validate)"
   ]
  },
  {
   "cell_type": "code",
   "execution_count": 237,
   "id": "0c376adc",
   "metadata": {},
   "outputs": [
    {
     "data": {
      "text/plain": [
       "0.014897250173647292"
      ]
     },
     "execution_count": 237,
     "metadata": {},
     "output_type": "execute_result"
    }
   ],
   "source": [
    "difference = train_accuracy - validate_accuracy\n",
    "difference"
   ]
  },
  {
   "cell_type": "code",
   "execution_count": 240,
   "id": "2108e22e",
   "metadata": {},
   "outputs": [
    {
     "data": {
      "text/html": [
       "<div>\n",
       "<style scoped>\n",
       "    .dataframe tbody tr th:only-of-type {\n",
       "        vertical-align: middle;\n",
       "    }\n",
       "\n",
       "    .dataframe tbody tr th {\n",
       "        vertical-align: top;\n",
       "    }\n",
       "\n",
       "    .dataframe thead th {\n",
       "        text-align: right;\n",
       "    }\n",
       "</style>\n",
       "<table border=\"1\" class=\"dataframe\">\n",
       "  <thead>\n",
       "    <tr style=\"text-align: right;\">\n",
       "      <th></th>\n",
       "      <th>no churn</th>\n",
       "      <th>churn</th>\n",
       "    </tr>\n",
       "  </thead>\n",
       "  <tbody>\n",
       "    <tr>\n",
       "      <th>0</th>\n",
       "      <td>0.995488</td>\n",
       "      <td>0.004512</td>\n",
       "    </tr>\n",
       "    <tr>\n",
       "      <th>1</th>\n",
       "      <td>0.766656</td>\n",
       "      <td>0.233344</td>\n",
       "    </tr>\n",
       "    <tr>\n",
       "      <th>2</th>\n",
       "      <td>0.527249</td>\n",
       "      <td>0.472751</td>\n",
       "    </tr>\n",
       "    <tr>\n",
       "      <th>3</th>\n",
       "      <td>0.737489</td>\n",
       "      <td>0.262511</td>\n",
       "    </tr>\n",
       "    <tr>\n",
       "      <th>4</th>\n",
       "      <td>0.977315</td>\n",
       "      <td>0.022685</td>\n",
       "    </tr>\n",
       "  </tbody>\n",
       "</table>\n",
       "</div>"
      ],
      "text/plain": [
       "   no churn     churn\n",
       "0  0.995488  0.004512\n",
       "1  0.766656  0.233344\n",
       "2  0.527249  0.472751\n",
       "3  0.737489  0.262511\n",
       "4  0.977315  0.022685"
      ]
     },
     "execution_count": 240,
     "metadata": {},
     "output_type": "execute_result"
    }
   ],
   "source": [
    "# Using probability to predict churn\n",
    "y_pred_proba = logit1.predict_proba(X_train)\n",
    "\n",
    "\n",
    "y_pred_proba = pd.DataFrame(y_pred_proba, columns = ['no churn', 'churn'])\n",
    "y_pred_proba.head()"
   ]
  },
  {
   "cell_type": "markdown",
   "id": "1eb94861",
   "metadata": {},
   "source": [
    "#### Select the Best Model For the Project"
   ]
  },
  {
   "cell_type": "markdown",
   "id": "052c2f92",
   "metadata": {},
   "source": [
    "Even though the random tree model's accuracy on out of sample data was slightly better than the logistic regression model on the validate sample, we are going to use the logistic regression model because it is a better fit for this project. \n",
    "\n",
    "This project will ultimately be pitched to Telco's C-level executives and needs to be easily explainable. "
   ]
  },
  {
   "cell_type": "markdown",
   "id": "73199796",
   "metadata": {},
   "source": [
    "#### Testing the final model on the test data"
   ]
  },
  {
   "cell_type": "markdown",
   "id": "319da189",
   "metadata": {},
   "source": [
    "Now that we have chosen the logistic regression model, we can test it on our test data sample. "
   ]
  },
  {
   "cell_type": "markdown",
   "id": "225a776d",
   "metadata": {},
   "source": [
    "Final model accuracy: 81%\n",
    "\n",
    "Baseline Accuracy: 73%\n",
    "\n",
    "Improved accuracy by 8%"
   ]
  },
  {
   "cell_type": "code",
   "execution_count": 292,
   "id": "b658b975",
   "metadata": {},
   "outputs": [],
   "source": [
    "model = logit1.score(X_test, y_test)"
   ]
  },
  {
   "cell_type": "code",
   "execution_count": 253,
   "id": "f3eecc13",
   "metadata": {},
   "outputs": [
    {
     "data": {
      "text/plain": [
       "0.8102345415778252"
      ]
     },
     "execution_count": 253,
     "metadata": {},
     "output_type": "execute_result"
    }
   ],
   "source": [
    "model"
   ]
  },
  {
   "cell_type": "code",
   "execution_count": 268,
   "id": "bc9fa3b1",
   "metadata": {},
   "outputs": [
    {
     "data": {
      "text/plain": [
       "array([0, 0, 0, ..., 0, 0, 0])"
      ]
     },
     "execution_count": 268,
     "metadata": {},
     "output_type": "execute_result"
    }
   ],
   "source": [
    "# predict the accuracy\n",
    "y_pred = logit1.predict(X_test)\n",
    "y_pred"
   ]
  },
  {
   "cell_type": "code",
   "execution_count": 269,
   "id": "e8d768a3",
   "metadata": {},
   "outputs": [],
   "source": [
    "y_pred_proba = logit1.predict_proba(X_test)"
   ]
  },
  {
   "cell_type": "code",
   "execution_count": 270,
   "id": "d1fbc113",
   "metadata": {},
   "outputs": [
    {
     "name": "stdout",
     "output_type": "stream",
     "text": [
      "Accuracy of random forest classifier on training set: 0.81\n"
     ]
    }
   ],
   "source": [
    "print('Accuracy of random forest classifier on training set: {:.2f}'\n",
    "     .format(logit1.score(X_test, y_test)))"
   ]
  },
  {
   "cell_type": "code",
   "execution_count": 271,
   "id": "52f79160",
   "metadata": {},
   "outputs": [
    {
     "data": {
      "text/html": [
       "<div>\n",
       "<style scoped>\n",
       "    .dataframe tbody tr th:only-of-type {\n",
       "        vertical-align: middle;\n",
       "    }\n",
       "\n",
       "    .dataframe tbody tr th {\n",
       "        vertical-align: top;\n",
       "    }\n",
       "\n",
       "    .dataframe thead th {\n",
       "        text-align: right;\n",
       "    }\n",
       "</style>\n",
       "<table border=\"1\" class=\"dataframe\">\n",
       "  <thead>\n",
       "    <tr style=\"text-align: right;\">\n",
       "      <th></th>\n",
       "      <th>0</th>\n",
       "      <th>1</th>\n",
       "    </tr>\n",
       "  </thead>\n",
       "  <tbody>\n",
       "    <tr>\n",
       "      <th>0</th>\n",
       "      <td>922</td>\n",
       "      <td>111</td>\n",
       "    </tr>\n",
       "    <tr>\n",
       "      <th>1</th>\n",
       "      <td>156</td>\n",
       "      <td>218</td>\n",
       "    </tr>\n",
       "  </tbody>\n",
       "</table>\n",
       "</div>"
      ],
      "text/plain": [
       "     0    1\n",
       "0  922  111\n",
       "1  156  218"
      ]
     },
     "execution_count": 271,
     "metadata": {},
     "output_type": "execute_result"
    }
   ],
   "source": [
    "# Confusion Matrix\n",
    "pd.DataFrame(confusion_matrix(y_test, y_pred))"
   ]
  },
  {
   "cell_type": "code",
   "execution_count": 272,
   "id": "a104e4ce",
   "metadata": {},
   "outputs": [
    {
     "name": "stdout",
     "output_type": "stream",
     "text": [
      "logit1 depth\n"
     ]
    },
    {
     "data": {
      "text/html": [
       "<div>\n",
       "<style scoped>\n",
       "    .dataframe tbody tr th:only-of-type {\n",
       "        vertical-align: middle;\n",
       "    }\n",
       "\n",
       "    .dataframe tbody tr th {\n",
       "        vertical-align: top;\n",
       "    }\n",
       "\n",
       "    .dataframe thead th {\n",
       "        text-align: right;\n",
       "    }\n",
       "</style>\n",
       "<table border=\"1\" class=\"dataframe\">\n",
       "  <thead>\n",
       "    <tr style=\"text-align: right;\">\n",
       "      <th></th>\n",
       "      <th>0</th>\n",
       "      <th>1</th>\n",
       "      <th>accuracy</th>\n",
       "      <th>macro avg</th>\n",
       "      <th>weighted avg</th>\n",
       "    </tr>\n",
       "  </thead>\n",
       "  <tbody>\n",
       "    <tr>\n",
       "      <th>precision</th>\n",
       "      <td>0.855288</td>\n",
       "      <td>0.662614</td>\n",
       "      <td>0.810235</td>\n",
       "      <td>0.758951</td>\n",
       "      <td>0.804072</td>\n",
       "    </tr>\n",
       "    <tr>\n",
       "      <th>recall</th>\n",
       "      <td>0.892546</td>\n",
       "      <td>0.582888</td>\n",
       "      <td>0.810235</td>\n",
       "      <td>0.737717</td>\n",
       "      <td>0.810235</td>\n",
       "    </tr>\n",
       "    <tr>\n",
       "      <th>f1-score</th>\n",
       "      <td>0.873520</td>\n",
       "      <td>0.620199</td>\n",
       "      <td>0.810235</td>\n",
       "      <td>0.746859</td>\n",
       "      <td>0.806184</td>\n",
       "    </tr>\n",
       "    <tr>\n",
       "      <th>support</th>\n",
       "      <td>1033.000000</td>\n",
       "      <td>374.000000</td>\n",
       "      <td>0.810235</td>\n",
       "      <td>1407.000000</td>\n",
       "      <td>1407.000000</td>\n",
       "    </tr>\n",
       "  </tbody>\n",
       "</table>\n",
       "</div>"
      ],
      "text/plain": [
       "                     0           1  accuracy    macro avg  weighted avg\n",
       "precision     0.855288    0.662614  0.810235     0.758951      0.804072\n",
       "recall        0.892546    0.582888  0.810235     0.737717      0.810235\n",
       "f1-score      0.873520    0.620199  0.810235     0.746859      0.806184\n",
       "support    1033.000000  374.000000  0.810235  1407.000000   1407.000000"
      ]
     },
     "execution_count": 272,
     "metadata": {},
     "output_type": "execute_result"
    }
   ],
   "source": [
    "# Classification Report\n",
    "class_report = classification_report(y_test, y_pred, output_dict=(True))\n",
    "print(\"logit1 depth\")\n",
    "pd.DataFrame(class_report)"
   ]
  },
  {
   "cell_type": "code",
   "execution_count": 273,
   "id": "ea5fa513",
   "metadata": {},
   "outputs": [
    {
     "data": {
      "text/html": [
       "<div>\n",
       "<style scoped>\n",
       "    .dataframe tbody tr th:only-of-type {\n",
       "        vertical-align: middle;\n",
       "    }\n",
       "\n",
       "    .dataframe tbody tr th {\n",
       "        vertical-align: top;\n",
       "    }\n",
       "\n",
       "    .dataframe thead th {\n",
       "        text-align: right;\n",
       "    }\n",
       "</style>\n",
       "<table border=\"1\" class=\"dataframe\">\n",
       "  <thead>\n",
       "    <tr style=\"text-align: right;\">\n",
       "      <th></th>\n",
       "      <th>no churn</th>\n",
       "      <th>churn</th>\n",
       "    </tr>\n",
       "  </thead>\n",
       "  <tbody>\n",
       "    <tr>\n",
       "      <th>0</th>\n",
       "      <td>0.926783</td>\n",
       "      <td>0.073217</td>\n",
       "    </tr>\n",
       "    <tr>\n",
       "      <th>1</th>\n",
       "      <td>0.922295</td>\n",
       "      <td>0.077705</td>\n",
       "    </tr>\n",
       "    <tr>\n",
       "      <th>2</th>\n",
       "      <td>0.945202</td>\n",
       "      <td>0.054798</td>\n",
       "    </tr>\n",
       "    <tr>\n",
       "      <th>3</th>\n",
       "      <td>0.996732</td>\n",
       "      <td>0.003268</td>\n",
       "    </tr>\n",
       "    <tr>\n",
       "      <th>4</th>\n",
       "      <td>0.975869</td>\n",
       "      <td>0.024131</td>\n",
       "    </tr>\n",
       "  </tbody>\n",
       "</table>\n",
       "</div>"
      ],
      "text/plain": [
       "   no churn     churn\n",
       "0  0.926783  0.073217\n",
       "1  0.922295  0.077705\n",
       "2  0.945202  0.054798\n",
       "3  0.996732  0.003268\n",
       "4  0.975869  0.024131"
      ]
     },
     "execution_count": 273,
     "metadata": {},
     "output_type": "execute_result"
    }
   ],
   "source": [
    "# Using probability to predict churn\n",
    "y_pred_proba = logit1.predict_proba(X_test)\n",
    "\n",
    "\n",
    "y_pred_proba = pd.DataFrame(y_pred_proba, columns = ['no churn', 'churn'])\n",
    "y_pred_proba.head()"
   ]
  },
  {
   "cell_type": "markdown",
   "id": "7bc94bdd",
   "metadata": {},
   "source": [
    "### Write Model Predictions to CSV"
   ]
  },
  {
   "cell_type": "code",
   "execution_count": 293,
   "id": "1e845da2",
   "metadata": {},
   "outputs": [],
   "source": [
    "# This writes our predictions from our LR model to a CSV \n",
    "proba_test = logit1.predict_proba(X_test)\n",
    "y_pred_proba = pd.DataFrame(y_pred_proba, columns = ['no churn', 'churn'])\n",
    "y_pred_proba.head()\n",
    "\n",
    "reset_test = test.reset_index()\n",
    "\n",
    "reset_test.head()\n",
    "\n",
    "# concatenate these values together into a dataframe to write to CSV\n",
    "test_proba_df = pd.concat([reset_test, y_pred_proba], axis=1)\n",
    "test_proba_df.head()\n",
    "\n",
    "test_proba_df['predicted'] = logit1.predict(X_test)\n",
    "test_proba_df.head(20)\n",
    "\n",
    "\n",
    "# create a probability table to a csv called predictions (1=churn, 0=not_churn)\n",
    "test_proba_df.to_csv('test_predictions.csv')"
   ]
  },
  {
   "cell_type": "markdown",
   "id": "e20ad776",
   "metadata": {},
   "source": [
    "### Project Conclusion "
   ]
  },
  {
   "cell_type": "markdown",
   "id": "3a56ea1b",
   "metadata": {},
   "source": [
    "#### Summary"
   ]
  },
  {
   "cell_type": "markdown",
   "id": "2c76b2c3",
   "metadata": {},
   "source": [
    "In this project we found a correlation between customers with a higher monthly bill and those that churn. \n",
    "\n",
    "Fiber optic internet is one of the main places Telco is hemeraging customers and once again, it seems to correlate to cost.  \n",
    "\n",
    "We have also developed a logistic regression model that can predict whether a future customer will churn or not with 81% accuracy. \n"
   ]
  },
  {
   "cell_type": "markdown",
   "id": "767e80a1",
   "metadata": {},
   "source": [
    "#### Recommendations"
   ]
  },
  {
   "cell_type": "markdown",
   "id": "d8f15daa",
   "metadata": {},
   "source": [
    "In addition to the effort to lower fiber costs through bundling or other means, it would also be a smart solution to create an easy to use portal where customers can see their monthly bill and add and drop features to tailor their services to their needs and budget. Customers could alos use this portal to automatically their bill. \n",
    "\n",
    "Although our current model is beating baseline predictions by 8%, with more time we can adjust the features and hyperpameters to tune the model  to better predict future churn. "
   ]
  },
  {
   "cell_type": "code",
   "execution_count": null,
   "id": "b19f8c72",
   "metadata": {},
   "outputs": [],
   "source": []
  }
 ],
 "metadata": {
  "kernelspec": {
   "display_name": "Python 3",
   "language": "python",
   "name": "python3"
  },
  "language_info": {
   "codemirror_mode": {
    "name": "ipython",
    "version": 3
   },
   "file_extension": ".py",
   "mimetype": "text/x-python",
   "name": "python",
   "nbconvert_exporter": "python",
   "pygments_lexer": "ipython3",
   "version": "3.8.8"
  }
 },
 "nbformat": 4,
 "nbformat_minor": 5
}
